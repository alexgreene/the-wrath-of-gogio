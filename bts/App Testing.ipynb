{
 "cells": [
  {
   "cell_type": "code",
   "execution_count": 1,
   "metadata": {
    "collapsed": true
   },
   "outputs": [],
   "source": [
    "from datetime import date, timedelta\n",
    "from gamescout_db import db, cur \n",
    "from sklearn import linear_model\n",
    "import pandas as pd\n",
    "import requests\n",
    "import json\n",
    "import re"
   ]
  },
  {
   "cell_type": "code",
   "execution_count": 2,
   "metadata": {
    "collapsed": false
   },
   "outputs": [],
   "source": [
    "compiled = pd.read_sql('SELECT * FROM Compiled;', con=db)\n",
    "\n",
    "cur.execute(\"\"\"\n",
    "  SELECT\n",
    "     COUNT(DISTINCT starting_P_ID)\n",
    "  FROM\n",
    "     Compiled\n",
    "\"\"\")\n",
    "num_pitchers = cur.fetchall()[0][0]\n",
    "\n",
    "cur.execute(\"\"\"\n",
    "  SELECT\n",
    "     COUNT(DISTINCT P_ID)\n",
    "  FROM\n",
    "     Compiled\n",
    "\"\"\")\n",
    "num_batters = cur.fetchall()[0][0]"
   ]
  },
  {
   "cell_type": "code",
   "execution_count": 3,
   "metadata": {
    "collapsed": false
   },
   "outputs": [
    {
     "data": {
      "text/plain": [
       "LogisticRegression(C=1.0, class_weight='balanced', dual=False,\n",
       "          fit_intercept=True, intercept_scaling=1, max_iter=100,\n",
       "          multi_class='ovr', n_jobs=1, penalty='l2', random_state=None,\n",
       "          solver='liblinear', tol=0.0001, verbose=0, warm_start=False)"
      ]
     },
     "execution_count": 3,
     "metadata": {},
     "output_type": "execute_result"
    }
   ],
   "source": [
    "data = compiled.copy()\n",
    "data = data[pd.notnull(data['GS1AGO'])]\n",
    "data = data[pd.notnull(data['GS2AGO'])]\n",
    "data = data[pd.notnull(data['GS3AGO'])]\n",
    "\n",
    "labels = data['GOT_HIT']\n",
    "data = data[['1_AGO', '2_AGO', '3_AGO', '4_AGO', '5_AGO', '6_AGO', '7_AGO',\n",
    "            'GS1AGO', 'GS2AGO', 'GS3AGO', 'starting_P_ID', 'P_ID', \n",
    "            'hist_AB', 'hist_H']]\n",
    "\n",
    "pitch_dummies = pd.get_dummies(data['starting_P_ID']).iloc[:,1:num_pitchers] \n",
    "bat_dummies = pd.get_dummies(data['P_ID']).iloc[:,1:num_batters]\n",
    "\n",
    "data['Gamma'] = data['hist_H'] - (.1 * data['hist_AB'])\n",
    "\n",
    "data = pd.concat([data, pitch_dummies], axis=1)\n",
    "data = pd.concat([data, bat_dummies], axis=1)\n",
    "\n",
    "data = data.drop('starting_P_ID', 1)\n",
    "data = data.drop('P_ID', 1)\n",
    "data = data.drop('hist_AB', 1)\n",
    "data = data.drop('hist_H', 1)\n",
    "#data_done = (data[[col for col in data.columns if col not in ['starting_P_ID', 'P_ID', 'hist_AB', 'hist_H']]])\n",
    "\n",
    "y = labels\n",
    "x = data\n",
    "\n",
    "train_x = x[:250000]\n",
    "test_x = x[250001:]\n",
    "\n",
    "train_y = y[:250000]\n",
    "test_y = y[250001:]\n",
    "\n",
    "model = linear_model.LogisticRegression(class_weight='balanced')\n",
    "model.fit(train_x, train_y)"
   ]
  },
  {
   "cell_type": "code",
   "execution_count": 21,
   "metadata": {
    "collapsed": false,
    "scrolled": false
   },
   "outputs": [
    {
     "name": "stdout",
     "output_type": "stream",
     "text": [
      "gid_2017_05_23_anamlb_tbamlb_1\n",
      "gid_2017_05_23_chamlb_arimlb_1\n",
      "gid_2017_05_23_clemlb_cinmlb_1\n",
      "gid_2017_05_23_colmlb_phimlb_1\n",
      "gid_2017_05_23_detmlb_houmlb_1\n",
      "gid_2017_05_23_kcamlb_nyamlb_1\n",
      "gid_2017_05_23_miamlb_oakmlb_1\n",
      "gid_2017_05_23_minmlb_balmlb_1\n",
      "gid_2017_05_23_pitmlb_atlmlb_1\n",
      "gid_2017_05_23_sdnmlb_nynmlb_1\n",
      "gid_2017_05_23_seamlb_wasmlb_1\n",
      "gid_2017_05_23_sfnmlb_chnmlb_1\n",
      "gid_2017_05_23_slnmlb_lanmlb_1\n",
      "gid_2017_05_23_texmlb_bosmlb_1\n",
      "gid_2017_05_23_tormlb_milmlb_1\n"
     ]
    }
   ],
   "source": [
    "matchups = []\n",
    "tomorrow = date.today() + timedelta(days=1)\n",
    "url = \"http://gd.mlb.com/components/game/mlb/year_{y}/month_{m:02d}/\\\n",
    "day_{d:02d}/\".format(y=tomorrow.year, m=tomorrow.month, d=tomorrow.day)\n",
    "\n",
    "games_index = requests.get(url).text\n",
    "games = re.findall(r'> (gid.*mlb.*mlb.*)/</a>', games_index)\n",
    "\n",
    "p_dummies = dict.fromkeys(pitch_dummies, [0])\n",
    "b_dummies = dict.fromkeys(bat_dummies, [0])\n",
    "\n",
    "\n",
    "for game_id in games:\n",
    "    print(game_id)\n",
    "    info_url = '{url}{gid}/linescore.json'.format(url=url, gid=game_id)\n",
    "    response = requests.get(info_url)\n",
    "    info = json.loads(response.text)\n",
    "\n",
    "    game = info['data']['game']\n",
    "    matchups.append({\n",
    "     'pitcher':  game['home_probable_pitcher']['id'],\n",
    "     'opp_team': game['away_team_name']\n",
    "     })\n",
    "\n",
    "    matchups.append({\n",
    "     'pitcher':  game['away_probable_pitcher']['id'],\n",
    "     'opp_team': game['home_team_name']\n",
    "     })\n",
    "    \n",
    "    for matchup in matchups:\n",
    "        cur.execute(\"\"\"\n",
    "        SELECT\n",
    "         DISTINCT P_ID, NAME\n",
    "        FROM \n",
    "         BatterStats \n",
    "        WHERE \n",
    "         TEAM=%s AND YEAR(G_DATE)=2017\"\"\", [matchup['opp_team']]\n",
    "        )\n",
    "        rows = cur.fetchall()\n",
    "\n"
   ]
  },
  {
   "cell_type": "code",
   "execution_count": null,
   "metadata": {
    "collapsed": false
   },
   "outputs": [],
   "source": []
  },
  {
   "cell_type": "code",
   "execution_count": 19,
   "metadata": {
    "collapsed": false
   },
   "outputs": [],
   "source": []
  },
  {
   "cell_type": "code",
   "execution_count": null,
   "metadata": {
    "collapsed": false
   },
   "outputs": [],
   "source": []
  },
  {
   "cell_type": "code",
   "execution_count": 20,
   "metadata": {
    "collapsed": false,
    "scrolled": false
   },
   "outputs": [
    {
     "name": "stdout",
     "output_type": "stream",
     "text": [
      "[[ 0.35714618  0.64285382]] - Jonathan Villar 607352\n",
      "[[ 0.35714618  0.64285382]] - Javier Betancourt 607352\n",
      "[[ 0.35714618  0.64285382]] - Keon Broxton 607352\n",
      "[[ 0.35714618  0.64285382]] - Ivan De Jesus Jr. 607352\n",
      "[[ 0.35714618  0.64285382]] - Ryan Braun 607352\n",
      "[[ 0.35714618  0.64285382]] - Trent Clark 607352\n",
      "[[ 0.35714618  0.64285382]] - Travis Shaw 607352\n",
      "[[ 0.35714618  0.64285382]] - Jacob Nottingham 607352\n",
      "[[ 0.35714618  0.64285382]] - Domingo Santana 607352\n",
      "[[ 0.35714618  0.64285382]] - Monte Harrison 607352\n",
      "[[ 0.35714618  0.64285382]] - Jesus Aguilar 607352\n",
      "[[ 0.35714618  0.64285382]] - Jake Gatewood 607352\n",
      "[[ 0.35714618  0.64285382]] - Hernan Perez 607352\n",
      "[[ 0.35714618  0.64285382]] - Manny Pina 607352\n",
      "[[ 0.35714618  0.64285382]] - Eric Sogard 607352\n",
      "[[ 0.35714618  0.64285382]] - Orlando Arcia 607352\n",
      "[[ 0.35714618  0.64285382]] - Nick Noonan 607352\n",
      "[[ 0.35714618  0.64285382]] - Matt Garza 607352\n",
      "[[ 0.35714618  0.64285382]] - Tim Dillard 607352\n",
      "[[ 0.35714618  0.64285382]] - Jhan Marinez 607352\n",
      "[[ 0.35714618  0.64285382]] - Corey Knebel 607352\n",
      "[[ 0.35714618  0.64285382]] - Tyler Cravy 607352\n",
      "[[ 0.35714618  0.64285382]] - Taylor Jungmann 607352\n",
      "[[ 0.35714618  0.64285382]] - Gabriel Noriega 607352\n",
      "[[ 0.35714618  0.64285382]] - Eric Thames 607352\n",
      "[[ 0.35714618  0.64285382]] - Luis Aviles 607352\n",
      "[[ 0.35714618  0.64285382]] - Kirk Nieuwenhuis 607352\n",
      "[[ 0.35714618  0.64285382]] - Jett Bandy 607352\n",
      "[[ 0.35714618  0.64285382]] - Rene Garcia 607352\n",
      "[[ 0.35714618  0.64285382]] - Mitch Ghelfi 607352\n",
      "[[ 0.35714618  0.64285382]] - Junior Guerra 607352\n",
      "[[ 0.35714618  0.64285382]] - Neftali Feliz 607352\n",
      "[[ 0.35714618  0.64285382]] - Carlos Torres 607352\n",
      "[[ 0.35714618  0.64285382]] - Jacob Barnes 607352\n",
      "[[ 0.35714618  0.64285382]] - Nate Orf 607352\n",
      "[[ 0.35714618  0.64285382]] - Joantgel Segovia 607352\n",
      "[[ 0.35714618  0.64285382]] - Mario Feliciano 607352\n",
      "[[ 0.35714618  0.64285382]] - Kyle Wren 607352\n",
      "[[ 0.35714618  0.64285382]] - Zach Davies 607352\n",
      "[[ 0.35714618  0.64285382]] - Tommy Milone 607352\n",
      "[[ 0.35714618  0.64285382]] - Rob Scahill 607352\n",
      "[[ 0.35714618  0.64285382]] - Chase Anderson 607352\n",
      "[[ 0.35714618  0.64285382]] - Jimmy Nelson 607352\n",
      "[[ 0.35714618  0.64285382]] - Jared Hughes 607352\n",
      "[[ 0.35714618  0.64285382]] - Brent Suter 607352\n",
      "[[ 0.35714618  0.64285382]] - Wily Peralta 607352\n",
      "[[ 0.35714618  0.64285382]] - Nick Franklin 607352\n",
      "[[ 0.35714618  0.64285382]] - David Goforth 607352\n",
      "[[ 0.35714618  0.64285382]] - Oliver Drake 607352\n",
      "[[ 0.35714618  0.64285382]] - Paolo Espino 607352\n"
     ]
    }
   ],
   "source": []
  },
  {
   "cell_type": "code",
   "execution_count": null,
   "metadata": {
    "collapsed": true
   },
   "outputs": [],
   "source": []
  }
 ],
 "metadata": {
  "kernelspec": {
   "display_name": "Python 2",
   "language": "python",
   "name": "python2"
  },
  "language_info": {
   "codemirror_mode": {
    "name": "ipython",
    "version": 2
   },
   "file_extension": ".py",
   "mimetype": "text/x-python",
   "name": "python",
   "nbconvert_exporter": "python",
   "pygments_lexer": "ipython2",
   "version": "2.7.13"
  }
 },
 "nbformat": 4,
 "nbformat_minor": 2
}
