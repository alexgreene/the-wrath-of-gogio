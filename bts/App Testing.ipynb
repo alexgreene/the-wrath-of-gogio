{
 "cells": [
  {
   "cell_type": "code",
   "execution_count": 1,
   "metadata": {
    "collapsed": true,
    "deletable": true,
    "editable": true
   },
   "outputs": [],
   "source": [
    "from datetime import date, timedelta\n",
    "from gamescout_db import db, cur \n",
    "from sklearn import linear_model\n",
    "import pandas as pd\n",
    "import requests\n",
    "import json\n",
    "import re"
   ]
  },
  {
   "cell_type": "code",
   "execution_count": 2,
   "metadata": {
    "collapsed": true
   },
   "outputs": [],
   "source": [
    "def computeGamma(hits, atbats):\n",
    "    return hits - (.1 * atbats)"
   ]
  },
  {
   "cell_type": "code",
   "execution_count": 6,
   "metadata": {
    "collapsed": true
   },
   "outputs": [],
   "source": [
    "compiled = pd.read_sql('SELECT * FROM Compiled;', con=db)\n",
    "\n",
    "games_played_b = compiled.groupby('P_ID').size()\n",
    "compiled = compiled.join(pd.DataFrame(games_played_b, columns=['GAMES_PLAYED_B']), on=['P_ID'])\n",
    "\n",
    "games_played_p = compiled.groupby(['starting_P_ID', 'G_ID']).size().reset_index().groupby('starting_P_ID').size()\n",
    "compiled = compiled.join(pd.DataFrame(games_played_p, columns=['GAMES_PLAYED_P']), on=['starting_P_ID'])\n",
    "\n",
    "compiled['P_ID'] = [777 if compiled['GAMES_PLAYED_B'][x] < 100 else compiled['P_ID'][x] for x in range(len(compiled))]\n",
    "compiled['starting_P_ID'] = [888 if compiled['GAMES_PLAYED_P'][x] < 20 else compiled['starting_P_ID'][x] for x in range(len(compiled))]"
   ]
  },
  {
   "cell_type": "code",
   "execution_count": 8,
   "metadata": {
    "collapsed": false
   },
   "outputs": [],
   "source": [
    "#compiled[compiled['starting_P_ID'] == 888]"
   ]
  },
  {
   "cell_type": "code",
   "execution_count": 9,
   "metadata": {
    "collapsed": false,
    "deletable": true,
    "editable": true
   },
   "outputs": [],
   "source": [
    "def createModel():\n",
    "    cur.execute(\"\"\"\n",
    "      SELECT\n",
    "         COUNT(DISTINCT starting_P_ID)\n",
    "      FROM\n",
    "         Compiled\n",
    "    \"\"\")\n",
    "    num_pitchers = cur.fetchall()[0][0]\n",
    "\n",
    "    cur.execute(\"\"\"\n",
    "      SELECT\n",
    "         COUNT(DISTINCT P_ID)\n",
    "      FROM\n",
    "         Compiled\n",
    "    \"\"\")\n",
    "    num_batters = cur.fetchall()[0][0]\n",
    "\n",
    "    data = compiled.copy()\n",
    "    data = data[pd.notnull(data['GS1AGO'])]\n",
    "    data = data[pd.notnull(data['GS2AGO'])]\n",
    "    data = data[pd.notnull(data['GS3AGO'])]\n",
    "\n",
    "    labels = data['GOT_HIT']\n",
    "    data = data[['1_AGO', '2_AGO', '3_AGO', '4_AGO', '5_AGO', '6_AGO', '7_AGO',\n",
    "                'GS1AGO', 'GS2AGO', 'GS3AGO', 'starting_P_ID', 'P_ID', \n",
    "                'hist_AB', 'hist_H']]\n",
    "\n",
    "    pitch_dummies = pd.get_dummies(data['starting_P_ID']).iloc[:,1:num_pitchers] \n",
    "    bat_dummies = pd.get_dummies(data['P_ID']).iloc[:,1:num_batters]\n",
    "\n",
    "    data['Gamma'] = data['hist_H'] - (.1 * data['hist_AB'])\n",
    "\n",
    "    data = pd.concat([data, pitch_dummies], axis=1)\n",
    "    data = pd.concat([data, bat_dummies], axis=1)\n",
    "\n",
    "    data = data.drop('starting_P_ID', 1)\n",
    "    data = data.drop('P_ID', 1)\n",
    "    data = data.drop('hist_AB', 1)\n",
    "    data = data.drop('hist_H', 1)\n",
    "\n",
    "    y = labels\n",
    "    x = data\n",
    "\n",
    "    model = linear_model.LogisticRegression(class_weight='balanced')\n",
    "    model.fit(x, y)\n",
    "\n",
    "    return (model, pitch_dummies.columns, bat_dummies.columns)"
   ]
  },
  {
   "cell_type": "code",
   "execution_count": 10,
   "metadata": {
    "collapsed": true
   },
   "outputs": [],
   "source": [
    "def recentBatterGame(batter_id):\n",
    "    cur.execute(\"\"\"\n",
    "      SELECT\n",
    "         GOT_HIT, 1_AGO, 2_AGO, 3_AGO, 4_AGO, \n",
    "         5_AGO, 6_AGO, 7_AGO, hist_H, hist_AB\n",
    "      FROM\n",
    "         Compiled\n",
    "      WHERE\n",
    "         P_ID = %s\n",
    "      ORDER BY G_DATE DESC\n",
    "      LIMIT 1\n",
    "    \"\"\", [batter_id])\n",
    "\n",
    "    return cur.fetchall()[0]"
   ]
  },
  {
   "cell_type": "code",
   "execution_count": 11,
   "metadata": {
    "collapsed": true
   },
   "outputs": [],
   "source": [
    "def recentPitcherGame(pitcher_id):\n",
    "    cur.execute(\"\"\"\n",
    "      SELECT\n",
    "         GAME_SCORE_1AGO, GAME_SCORE_2AGO, GAME_SCORE_3AGO\n",
    "      FROM\n",
    "         PitcherStats\n",
    "      WHERE\n",
    "         P_ID = %s\n",
    "      ORDER BY G_DATE DESC\n",
    "      LIMIT 1\n",
    "    \"\"\", [pitcher_id])\n",
    "    try:\n",
    "        return cur.fetchall()[0]\n",
    "    except:\n",
    "        print(\"Recent Pitcher Error: \" + str(pitcher_id))"
   ]
  },
  {
   "cell_type": "code",
   "execution_count": 12,
   "metadata": {
    "collapsed": true
   },
   "outputs": [],
   "source": [
    "model, pitch_dummies, bat_dummies = createModel()"
   ]
  },
  {
   "cell_type": "code",
   "execution_count": 13,
   "metadata": {
    "collapsed": false,
    "deletable": true,
    "editable": true,
    "scrolled": false
   },
   "outputs": [],
   "source": [
    "matchups = []\n",
    "players = []\n",
    "model_input = pd.DataFrame()\n",
    "\n",
    "cur_day = date.today()\n",
    "cur_season = cur_day.year\n",
    "tomorrow = date.today() + timedelta(days=1)\n",
    "url = \"http://gd.mlb.com/components/game/mlb/year_{y}/month_{m:02d}/\\\n",
    "day_{d:02d}/\".format(y=tomorrow.year, m=tomorrow.month, d=tomorrow.day)\n",
    "\n",
    "games_index = requests.get(url).text\n",
    "games = re.findall(r'> (gid.*mlb.*mlb.*)/</a>', games_index)\n",
    "\n",
    "\n",
    "for game_id in games:\n",
    "    info_url = '{url}{gid}/linescore.json'.format(url=url, gid=game_id)\n",
    "    response = requests.get(info_url)\n",
    "    info = json.loads(response.text)\n",
    "\n",
    "    game = info['data']['game']\n",
    "    matchups.append({\n",
    "     'pitcher':  game['home_probable_pitcher']['id'],\n",
    "     'opp_team': game['away_team_name']\n",
    "     })\n",
    "\n",
    "    matchups.append({\n",
    "     'pitcher':  game['away_probable_pitcher']['id'],\n",
    "     'opp_team': game['home_team_name']\n",
    "     })\n",
    "\n",
    "for matchup in matchups:\n",
    "    cur.execute(\"\"\"\n",
    "     SELECT\n",
    "        DISTINCT P_ID, NAME \n",
    "     FROM \n",
    "        BatterStats \n",
    "     WHERE \n",
    "        TEAM=%s AND YEAR(G_DATE)=%s AND \n",
    "        G_DATE >= DATE_ADD(%s,INTERVAL -5 DAY)\n",
    "    \"\"\", [matchup['opp_team'], cur_season, cur_day]\n",
    "    )\n",
    "    rows = cur.fetchall()\n",
    "\n",
    "    for row in rows:\n",
    "        batter_id = row[0]\n",
    "        batter_name = row[1]\n",
    "        pitcher_id = matchup['pitcher']\n",
    "\n",
    "        p_dummies = dict.fromkeys(pitch_dummies, [0])\n",
    "        b_dummies = dict.fromkeys(bat_dummies, [0])\n",
    "\n",
    "        if pitcher_id in p_dummies:\n",
    "            p_dummies[pitcher_id] = [1]\n",
    "        p_dummies_df = pd.DataFrame(p_dummies)\n",
    "\n",
    "        if batter_id in b_dummies:\n",
    "            b_dummies[batter_id] = [1]\n",
    "        b_dummies_df = pd.DataFrame(b_dummies)\n",
    "\n",
    "        batter = recentBatterGame(batter_id)\n",
    "        pitcher = recentPitcherGame(pitcher_id)\n",
    "\n",
    "        stats = pd.DataFrame({\n",
    "            '1_AGO': batter[0],\n",
    "            '2_AGO': batter[1],\n",
    "            '3_AGO': batter[2],\n",
    "            '4_AGO': batter[3],\n",
    "            '5_AGO': batter[4],\n",
    "            '6_AGO': batter[5],\n",
    "            '7_AGO': batter[6],\n",
    "            'GS1AGO': pitcher[0],\n",
    "            'GS2AGO': pitcher[1],\n",
    "            'GS3AGO': pitcher[2],\n",
    "            'Gamma': [computeGamma(batter[8], batter[9])]\n",
    "         })\n",
    "\n",
    "        players.append({'batter_id': batter_id, 'batter_name': batter_name,'pitcher_id': pitcher_id})\n",
    "        player_data = pd.concat([stats, p_dummies_df, b_dummies_df], axis=1)\n",
    "        model_input = model_input.append(player_data)"
   ]
  },
  {
   "cell_type": "code",
   "execution_count": null,
   "metadata": {
    "collapsed": false
   },
   "outputs": [],
   "source": [
    "model_input"
   ]
  },
  {
   "cell_type": "code",
   "execution_count": 14,
   "metadata": {
    "collapsed": false,
    "deletable": true,
    "editable": true
   },
   "outputs": [],
   "source": [
    "pred = model.predict_proba(model_input)[:,1]"
   ]
  },
  {
   "cell_type": "code",
   "execution_count": 15,
   "metadata": {
    "collapsed": false
   },
   "outputs": [],
   "source": [
    "players_df = pd.DataFrame(players)\n",
    "results = pd.concat([players_df, pd.DataFrame(pred, columns=['Prediction'])], axis=1) "
   ]
  },
  {
   "cell_type": "code",
   "execution_count": 16,
   "metadata": {
    "collapsed": false,
    "deletable": true,
    "editable": true,
    "scrolled": true
   },
   "outputs": [],
   "source": [
    "results = results.sort_values(['Prediction'], ascending=False)"
   ]
  },
  {
   "cell_type": "code",
   "execution_count": 17,
   "metadata": {
    "collapsed": false
   },
   "outputs": [
    {
     "data": {
      "text/html": [
       "<div>\n",
       "<table border=\"1\" class=\"dataframe\">\n",
       "  <thead>\n",
       "    <tr style=\"text-align: right;\">\n",
       "      <th></th>\n",
       "      <th>batter_id</th>\n",
       "      <th>batter_name</th>\n",
       "      <th>pitcher_id</th>\n",
       "      <th>Prediction</th>\n",
       "    </tr>\n",
       "  </thead>\n",
       "  <tbody>\n",
       "  </tbody>\n",
       "</table>\n",
       "</div>"
      ],
      "text/plain": [
       "Empty DataFrame\n",
       "Columns: [batter_id, batter_name, pitcher_id, Prediction]\n",
       "Index: []"
      ]
     },
     "execution_count": 17,
     "metadata": {},
     "output_type": "execute_result"
    }
   ],
   "source": [
    "results[results['batter_name'] == 'Joe Panik']"
   ]
  },
  {
   "cell_type": "code",
   "execution_count": 18,
   "metadata": {
    "collapsed": false
   },
   "outputs": [
    {
     "data": {
      "text/html": [
       "<div>\n",
       "<table border=\"1\" class=\"dataframe\">\n",
       "  <thead>\n",
       "    <tr style=\"text-align: right;\">\n",
       "      <th></th>\n",
       "      <th>batter_id</th>\n",
       "      <th>batter_name</th>\n",
       "      <th>pitcher_id</th>\n",
       "      <th>Prediction</th>\n",
       "    </tr>\n",
       "  </thead>\n",
       "  <tbody>\n",
       "    <tr>\n",
       "      <th>49</th>\n",
       "      <td>605141</td>\n",
       "      <td>Mookie Betts</td>\n",
       "      <td>489119</td>\n",
       "      <td>0.853870</td>\n",
       "    </tr>\n",
       "    <tr>\n",
       "      <th>288</th>\n",
       "      <td>519184</td>\n",
       "      <td>Ben Revere</td>\n",
       "      <td>606167</td>\n",
       "      <td>0.834792</td>\n",
       "    </tr>\n",
       "    <tr>\n",
       "      <th>77</th>\n",
       "      <td>592518</td>\n",
       "      <td>Manny Machado</td>\n",
       "      <td>593958</td>\n",
       "      <td>0.831047</td>\n",
       "    </tr>\n",
       "    <tr>\n",
       "      <th>152</th>\n",
       "      <td>608369</td>\n",
       "      <td>Corey Seager</td>\n",
       "      <td>425794</td>\n",
       "      <td>0.826860</td>\n",
       "    </tr>\n",
       "    <tr>\n",
       "      <th>128</th>\n",
       "      <td>429664</td>\n",
       "      <td>Robinson Cano</td>\n",
       "      <td>607536</td>\n",
       "      <td>0.818879</td>\n",
       "    </tr>\n",
       "  </tbody>\n",
       "</table>\n",
       "</div>"
      ],
      "text/plain": [
       "     batter_id    batter_name pitcher_id  Prediction\n",
       "49      605141   Mookie Betts     489119    0.853870\n",
       "288     519184     Ben Revere     606167    0.834792\n",
       "77      592518  Manny Machado     593958    0.831047\n",
       "152     608369   Corey Seager     425794    0.826860\n",
       "128     429664  Robinson Cano     607536    0.818879"
      ]
     },
     "execution_count": 18,
     "metadata": {},
     "output_type": "execute_result"
    }
   ],
   "source": [
    "results.head()"
   ]
  },
  {
   "cell_type": "code",
   "execution_count": null,
   "metadata": {
    "collapsed": true
   },
   "outputs": [],
   "source": []
  }
 ],
 "metadata": {
  "kernelspec": {
   "display_name": "Python 2",
   "language": "python",
   "name": "python2"
  },
  "language_info": {
   "codemirror_mode": {
    "name": "ipython",
    "version": 2
   },
   "file_extension": ".py",
   "mimetype": "text/x-python",
   "name": "python",
   "nbconvert_exporter": "python",
   "pygments_lexer": "ipython2",
   "version": "2.7.13"
  }
 },
 "nbformat": 4,
 "nbformat_minor": 2
}
