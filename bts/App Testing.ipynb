{
 "cells": [
  {
   "cell_type": "code",
   "execution_count": 11,
   "metadata": {
    "collapsed": true,
    "deletable": true,
    "editable": true
   },
   "outputs": [],
   "source": [
    "from datetime import date, timedelta\n",
    "from gamescout_db import db, cur \n",
    "from sklearn import linear_model\n",
    "import pandas as pd\n",
    "import requests\n",
    "import json\n",
    "import re\n",
    "import numpy as np"
   ]
  },
  {
   "cell_type": "code",
   "execution_count": 2,
   "metadata": {
    "collapsed": true,
    "deletable": true,
    "editable": true
   },
   "outputs": [],
   "source": [
    "def computeGamma(hits, atbats):\n",
    "    return hits - (.1 * atbats)"
   ]
  },
  {
   "cell_type": "code",
   "execution_count": 3,
   "metadata": {
    "collapsed": false,
    "deletable": true,
    "editable": true
   },
   "outputs": [],
   "source": [
    "compiled = pd.read_sql('SELECT * FROM Compiled;', con=db)\n",
    "\n",
    "games_played_b = compiled.groupby('P_ID').size()\n",
    "compiled = compiled.join(pd.DataFrame(games_played_b, columns=['GAMES_PLAYED_B']), on=['P_ID'])\n",
    "\n",
    "games_played_p = compiled.groupby(['starting_P_ID', 'G_ID']).size().reset_index().groupby('starting_P_ID').size()\n",
    "compiled = compiled.join(pd.DataFrame(games_played_p, columns=['GAMES_PLAYED_P']), on=['starting_P_ID'])\n",
    "\n",
    "compiled['P_ID'] = ['777' if compiled['GAMES_PLAYED_B'][x] < 100 else compiled['P_ID'][x] for x in range(len(compiled))]\n",
    "compiled['starting_P_ID'] = ['888' if compiled['GAMES_PLAYED_P'][x] < 20 else compiled['starting_P_ID'][x] for x in range(len(compiled))]"
   ]
  },
  {
   "cell_type": "code",
   "execution_count": null,
   "metadata": {
    "collapsed": false,
    "deletable": true,
    "editable": true
   },
   "outputs": [],
   "source": [
    "#pitch_dummies"
   ]
  },
  {
   "cell_type": "code",
   "execution_count": 4,
   "metadata": {
    "collapsed": false,
    "deletable": true,
    "editable": true
   },
   "outputs": [],
   "source": [
    "def createModel():\n",
    "    cur.execute(\"\"\"\n",
    "      SELECT\n",
    "         COUNT(DISTINCT starting_P_ID)\n",
    "      FROM\n",
    "         Compiled\n",
    "    \"\"\")\n",
    "    num_pitchers = cur.fetchall()[0][0]\n",
    "\n",
    "    cur.execute(\"\"\"\n",
    "      SELECT\n",
    "         COUNT(DISTINCT P_ID)\n",
    "      FROM\n",
    "         Compiled\n",
    "    \"\"\")\n",
    "    num_batters = cur.fetchall()[0][0]\n",
    "\n",
    "    data = compiled.copy()\n",
    "    data = data[pd.notnull(data['GS1AGO'])]\n",
    "    data = data[pd.notnull(data['GS2AGO'])]\n",
    "    data = data[pd.notnull(data['GS3AGO'])]\n",
    "\n",
    "    labels = data['GOT_HIT']\n",
    "    data = data[['1_AGO', '2_AGO', '3_AGO', '4_AGO', '5_AGO', '6_AGO', '7_AGO',\n",
    "                'GS1AGO', 'GS2AGO', 'GS3AGO', 'starting_P_ID', 'P_ID', \n",
    "                'hist_AB', 'hist_H']]\n",
    "   \n",
    "    pitch_dummies = pd.get_dummies(data['starting_P_ID'])#.iloc[:,1:num_pitchers]\n",
    "    pitch_dummies = pitch_dummies.drop('888', 1)\n",
    "    bat_dummies = pd.get_dummies(data['P_ID'])#.iloc[:,1:num_batters]\n",
    "    bat_dummies = bat_dummies.drop('777', 1)\n",
    "\n",
    "    data['Gamma'] = data['hist_H'] - (.1 * data['hist_AB'])\n",
    "\n",
    "    data = pd.concat([data, pitch_dummies], axis=1)\n",
    "    data = pd.concat([data, bat_dummies], axis=1)\n",
    "\n",
    "    data = data.drop('starting_P_ID', 1)\n",
    "    data = data.drop('P_ID', 1)\n",
    "    data = data.drop('hist_AB', 1)\n",
    "    data = data.drop('hist_H', 1)\n",
    "\n",
    "    #data = (data - data.mean()) / (data.max() - data.min())\n",
    "    y = labels\n",
    "    x = data\n",
    "\n",
    "    model = linear_model.LogisticRegression(class_weight='balanced')\n",
    "    model.fit(x, y)\n",
    "\n",
    "    return (model, pitch_dummies.columns, bat_dummies.columns)"
   ]
  },
  {
   "cell_type": "code",
   "execution_count": 5,
   "metadata": {
    "collapsed": true,
    "deletable": true,
    "editable": true
   },
   "outputs": [],
   "source": [
    "def recentBatterGame(batter_id):\n",
    "    cur.execute(\"\"\"\n",
    "      SELECT\n",
    "         GOT_HIT, 1_AGO, 2_AGO, 3_AGO, 4_AGO, \n",
    "         5_AGO, 6_AGO, 7_AGO, hist_H, hist_AB\n",
    "      FROM\n",
    "         Compiled\n",
    "      WHERE\n",
    "         P_ID = %s\n",
    "      ORDER BY G_DATE DESC\n",
    "      LIMIT 1\n",
    "    \"\"\", [batter_id])\n",
    "\n",
    "    return cur.fetchall()[0]"
   ]
  },
  {
   "cell_type": "code",
   "execution_count": 6,
   "metadata": {
    "collapsed": true,
    "deletable": true,
    "editable": true
   },
   "outputs": [],
   "source": [
    "def recentPitcherGame(pitcher_id):\n",
    "    cur.execute(\"\"\"\n",
    "      SELECT\n",
    "         GAME_SCORE_1AGO, GAME_SCORE_2AGO, GAME_SCORE_3AGO\n",
    "      FROM\n",
    "         PitcherStats\n",
    "      WHERE\n",
    "         P_ID = %s\n",
    "      ORDER BY G_DATE DESC\n",
    "      LIMIT 1\n",
    "    \"\"\", [pitcher_id])\n",
    "    try:\n",
    "        return cur.fetchall()[0]\n",
    "    except:\n",
    "        print(\"Recent Pitcher Error: \" + str(pitcher_id))"
   ]
  },
  {
   "cell_type": "code",
   "execution_count": 7,
   "metadata": {
    "collapsed": false,
    "deletable": true,
    "editable": true
   },
   "outputs": [],
   "source": [
    "model, pitch_dummies, bat_dummies = createModel()"
   ]
  },
  {
   "cell_type": "code",
   "execution_count": 8,
   "metadata": {
    "collapsed": false,
    "deletable": true,
    "editable": true,
    "scrolled": false
   },
   "outputs": [],
   "source": [
    "matchups = []\n",
    "players = []\n",
    "model_input = pd.DataFrame()\n",
    "\n",
    "cur_day = date.today()\n",
    "cur_season = cur_day.year\n",
    "tomorrow = date.today() + timedelta(days=1)\n",
    "url = \"http://gd.mlb.com/components/game/mlb/year_{y}/month_{m:02d}/\\\n",
    "day_{d:02d}/\".format(y=tomorrow.year, m=tomorrow.month, d=tomorrow.day)\n",
    "\n",
    "games_index = requests.get(url).text\n",
    "games = re.findall(r'> (gid.*mlb.*mlb.*)/</a>', games_index)\n",
    "\n",
    "\n",
    "for game_id in games:\n",
    "    info_url = '{url}{gid}/linescore.json'.format(url=url, gid=game_id)\n",
    "    response = requests.get(info_url)\n",
    "    info = json.loads(response.text)\n",
    "\n",
    "    game = info['data']['game']\n",
    "    matchups.append({\n",
    "     'pitcher':  game['home_probable_pitcher']['id'],\n",
    "     'opp_team': game['away_team_name']\n",
    "     })\n",
    "\n",
    "    matchups.append({\n",
    "     'pitcher':  game['away_probable_pitcher']['id'],\n",
    "     'opp_team': game['home_team_name']\n",
    "     })\n",
    "\n",
    "for matchup in matchups:\n",
    "    cur.execute(\"\"\"\n",
    "     SELECT\n",
    "        DISTINCT P_ID, NAME \n",
    "     FROM \n",
    "        BatterStats \n",
    "     WHERE \n",
    "        TEAM=%s AND YEAR(G_DATE)=%s AND \n",
    "        G_DATE >= DATE_ADD(%s,INTERVAL -5 DAY)\n",
    "    \"\"\", [matchup['opp_team'], cur_season, cur_day]\n",
    "    )\n",
    "    rows = cur.fetchall()\n",
    "\n",
    "    for row in rows:\n",
    "        batter_id = row[0]\n",
    "        batter_name = row[1]\n",
    "        pitcher_id = matchup['pitcher']\n",
    "\n",
    "        p_dummies = dict.fromkeys(pitch_dummies, [0])\n",
    "        b_dummies = dict.fromkeys(bat_dummies, [0])\n",
    "\n",
    "        if 'p_{0}'.format(pitcher_id) in p_dummies:\n",
    "            p_dummies['p_{0}'.format(pitcher_id)] = [1]\n",
    "        p_dummies_df = pd.DataFrame(p_dummies)\n",
    "\n",
    "        if 'b_{0}'.format(batter_id) in b_dummies:\n",
    "            b_dummies['b_{0}'.format(batter_id)] = [1]\n",
    "        b_dummies_df = pd.DataFrame(b_dummies)\n",
    "\n",
    "        batter = recentBatterGame(batter_id)\n",
    "        pitcher = recentPitcherGame(pitcher_id)\n",
    "\n",
    "        stats = pd.DataFrame({\n",
    "            '1_AGO': batter[0],\n",
    "            '2_AGO': batter[1],\n",
    "            '3_AGO': batter[2],\n",
    "            '4_AGO': batter[3],\n",
    "            '5_AGO': batter[4],\n",
    "            '6_AGO': batter[5],\n",
    "            '7_AGO': batter[6],\n",
    "            'GS1AGO': pitcher[0],\n",
    "            'GS2AGO': pitcher[1],\n",
    "            'GS3AGO': pitcher[2],\n",
    "            'Gamma': [computeGamma(batter[8], batter[9])]\n",
    "         })\n",
    "\n",
    "        players.append({'batter_id': batter_id, 'batter_name': batter_name,'pitcher_id': pitcher_id})\n",
    "        player_data = pd.concat([stats, p_dummies_df, b_dummies_df], axis=1)\n",
    "        model_input = model_input.append(player_data)"
   ]
  },
  {
   "cell_type": "code",
   "execution_count": 40,
   "metadata": {
    "collapsed": false,
    "deletable": true,
    "editable": true
   },
   "outputs": [
    {
     "data": {
      "text/plain": [
       "False"
      ]
     },
     "execution_count": 40,
     "metadata": {},
     "output_type": "execute_result"
    }
   ],
   "source": [
    "#np.any(np.isnan(model_input))\n",
    "#\n",
    "model_input = model_input.replace(np.inf, np.nan)\n",
    "np.all(np.isfinite(model_input))\n",
    "#set(model_input.max())"
   ]
  },
  {
   "cell_type": "code",
   "execution_count": 41,
   "metadata": {
    "collapsed": false,
    "deletable": true,
    "editable": true
   },
   "outputs": [
    {
     "ename": "ValueError",
     "evalue": "Input contains NaN, infinity or a value too large for dtype('float64').",
     "output_type": "error",
     "traceback": [
      "\u001b[0;31m---------------------------------------------------------------------------\u001b[0m",
      "\u001b[0;31mValueError\u001b[0m                                Traceback (most recent call last)",
      "\u001b[0;32m<ipython-input-41-8337b38e1904>\u001b[0m in \u001b[0;36m<module>\u001b[0;34m()\u001b[0m\n\u001b[0;32m----> 1\u001b[0;31m \u001b[0mpred\u001b[0m \u001b[0;34m=\u001b[0m \u001b[0mmodel\u001b[0m\u001b[0;34m.\u001b[0m\u001b[0mpredict_proba\u001b[0m\u001b[0;34m(\u001b[0m\u001b[0mmodel_input\u001b[0m\u001b[0;34m)\u001b[0m\u001b[0;34m[\u001b[0m\u001b[0;34m:\u001b[0m\u001b[0;34m,\u001b[0m\u001b[0;36m1\u001b[0m\u001b[0;34m]\u001b[0m\u001b[0;34m\u001b[0m\u001b[0m\n\u001b[0m",
      "\u001b[0;32m/usr/local/lib/python2.7/site-packages/sklearn/linear_model/logistic.pyc\u001b[0m in \u001b[0;36mpredict_proba\u001b[0;34m(self, X)\u001b[0m\n\u001b[1;32m   1284\u001b[0m         \u001b[0mcalculate_ovr\u001b[0m \u001b[0;34m=\u001b[0m \u001b[0mself\u001b[0m\u001b[0;34m.\u001b[0m\u001b[0mcoef_\u001b[0m\u001b[0;34m.\u001b[0m\u001b[0mshape\u001b[0m\u001b[0;34m[\u001b[0m\u001b[0;36m0\u001b[0m\u001b[0;34m]\u001b[0m \u001b[0;34m==\u001b[0m \u001b[0;36m1\u001b[0m \u001b[0;32mor\u001b[0m \u001b[0mself\u001b[0m\u001b[0;34m.\u001b[0m\u001b[0mmulti_class\u001b[0m \u001b[0;34m==\u001b[0m \u001b[0;34m\"ovr\"\u001b[0m\u001b[0;34m\u001b[0m\u001b[0m\n\u001b[1;32m   1285\u001b[0m         \u001b[0;32mif\u001b[0m \u001b[0mcalculate_ovr\u001b[0m\u001b[0;34m:\u001b[0m\u001b[0;34m\u001b[0m\u001b[0m\n\u001b[0;32m-> 1286\u001b[0;31m             \u001b[0;32mreturn\u001b[0m \u001b[0msuper\u001b[0m\u001b[0;34m(\u001b[0m\u001b[0mLogisticRegression\u001b[0m\u001b[0;34m,\u001b[0m \u001b[0mself\u001b[0m\u001b[0;34m)\u001b[0m\u001b[0;34m.\u001b[0m\u001b[0m_predict_proba_lr\u001b[0m\u001b[0;34m(\u001b[0m\u001b[0mX\u001b[0m\u001b[0;34m)\u001b[0m\u001b[0;34m\u001b[0m\u001b[0m\n\u001b[0m\u001b[1;32m   1287\u001b[0m         \u001b[0;32melse\u001b[0m\u001b[0;34m:\u001b[0m\u001b[0;34m\u001b[0m\u001b[0m\n\u001b[1;32m   1288\u001b[0m             \u001b[0;32mreturn\u001b[0m \u001b[0msoftmax\u001b[0m\u001b[0;34m(\u001b[0m\u001b[0mself\u001b[0m\u001b[0;34m.\u001b[0m\u001b[0mdecision_function\u001b[0m\u001b[0;34m(\u001b[0m\u001b[0mX\u001b[0m\u001b[0;34m)\u001b[0m\u001b[0;34m,\u001b[0m \u001b[0mcopy\u001b[0m\u001b[0;34m=\u001b[0m\u001b[0mFalse\u001b[0m\u001b[0;34m)\u001b[0m\u001b[0;34m\u001b[0m\u001b[0m\n",
      "\u001b[0;32m/usr/local/lib/python2.7/site-packages/sklearn/linear_model/base.pyc\u001b[0m in \u001b[0;36m_predict_proba_lr\u001b[0;34m(self, X)\u001b[0m\n\u001b[1;32m    348\u001b[0m         \u001b[0mmulticlass\u001b[0m \u001b[0;32mis\u001b[0m \u001b[0mhandled\u001b[0m \u001b[0mby\u001b[0m \u001b[0mnormalizing\u001b[0m \u001b[0mthat\u001b[0m \u001b[0mover\u001b[0m \u001b[0mall\u001b[0m \u001b[0mclasses\u001b[0m\u001b[0;34m.\u001b[0m\u001b[0;34m\u001b[0m\u001b[0m\n\u001b[1;32m    349\u001b[0m         \"\"\"\n\u001b[0;32m--> 350\u001b[0;31m         \u001b[0mprob\u001b[0m \u001b[0;34m=\u001b[0m \u001b[0mself\u001b[0m\u001b[0;34m.\u001b[0m\u001b[0mdecision_function\u001b[0m\u001b[0;34m(\u001b[0m\u001b[0mX\u001b[0m\u001b[0;34m)\u001b[0m\u001b[0;34m\u001b[0m\u001b[0m\n\u001b[0m\u001b[1;32m    351\u001b[0m         \u001b[0mprob\u001b[0m \u001b[0;34m*=\u001b[0m \u001b[0;34m-\u001b[0m\u001b[0;36m1\u001b[0m\u001b[0;34m\u001b[0m\u001b[0m\n\u001b[1;32m    352\u001b[0m         \u001b[0mnp\u001b[0m\u001b[0;34m.\u001b[0m\u001b[0mexp\u001b[0m\u001b[0;34m(\u001b[0m\u001b[0mprob\u001b[0m\u001b[0;34m,\u001b[0m \u001b[0mprob\u001b[0m\u001b[0;34m)\u001b[0m\u001b[0;34m\u001b[0m\u001b[0m\n",
      "\u001b[0;32m/usr/local/lib/python2.7/site-packages/sklearn/linear_model/base.pyc\u001b[0m in \u001b[0;36mdecision_function\u001b[0;34m(self, X)\u001b[0m\n\u001b[1;32m    310\u001b[0m                                  \"yet\" % {'name': type(self).__name__})\n\u001b[1;32m    311\u001b[0m \u001b[0;34m\u001b[0m\u001b[0m\n\u001b[0;32m--> 312\u001b[0;31m         \u001b[0mX\u001b[0m \u001b[0;34m=\u001b[0m \u001b[0mcheck_array\u001b[0m\u001b[0;34m(\u001b[0m\u001b[0mX\u001b[0m\u001b[0;34m,\u001b[0m \u001b[0maccept_sparse\u001b[0m\u001b[0;34m=\u001b[0m\u001b[0;34m'csr'\u001b[0m\u001b[0;34m)\u001b[0m\u001b[0;34m\u001b[0m\u001b[0m\n\u001b[0m\u001b[1;32m    313\u001b[0m \u001b[0;34m\u001b[0m\u001b[0m\n\u001b[1;32m    314\u001b[0m         \u001b[0mn_features\u001b[0m \u001b[0;34m=\u001b[0m \u001b[0mself\u001b[0m\u001b[0;34m.\u001b[0m\u001b[0mcoef_\u001b[0m\u001b[0;34m.\u001b[0m\u001b[0mshape\u001b[0m\u001b[0;34m[\u001b[0m\u001b[0;36m1\u001b[0m\u001b[0;34m]\u001b[0m\u001b[0;34m\u001b[0m\u001b[0m\n",
      "\u001b[0;32m/usr/local/lib/python2.7/site-packages/sklearn/utils/validation.pyc\u001b[0m in \u001b[0;36mcheck_array\u001b[0;34m(array, accept_sparse, dtype, order, copy, force_all_finite, ensure_2d, allow_nd, ensure_min_samples, ensure_min_features, warn_on_dtype, estimator)\u001b[0m\n\u001b[1;32m    405\u001b[0m                              % (array.ndim, estimator_name))\n\u001b[1;32m    406\u001b[0m         \u001b[0;32mif\u001b[0m \u001b[0mforce_all_finite\u001b[0m\u001b[0;34m:\u001b[0m\u001b[0;34m\u001b[0m\u001b[0m\n\u001b[0;32m--> 407\u001b[0;31m             \u001b[0m_assert_all_finite\u001b[0m\u001b[0;34m(\u001b[0m\u001b[0marray\u001b[0m\u001b[0;34m)\u001b[0m\u001b[0;34m\u001b[0m\u001b[0m\n\u001b[0m\u001b[1;32m    408\u001b[0m \u001b[0;34m\u001b[0m\u001b[0m\n\u001b[1;32m    409\u001b[0m     \u001b[0mshape_repr\u001b[0m \u001b[0;34m=\u001b[0m \u001b[0m_shape_repr\u001b[0m\u001b[0;34m(\u001b[0m\u001b[0marray\u001b[0m\u001b[0;34m.\u001b[0m\u001b[0mshape\u001b[0m\u001b[0;34m)\u001b[0m\u001b[0;34m\u001b[0m\u001b[0m\n",
      "\u001b[0;32m/usr/local/lib/python2.7/site-packages/sklearn/utils/validation.pyc\u001b[0m in \u001b[0;36m_assert_all_finite\u001b[0;34m(X)\u001b[0m\n\u001b[1;32m     56\u001b[0m             and not np.isfinite(X).all()):\n\u001b[1;32m     57\u001b[0m         raise ValueError(\"Input contains NaN, infinity\"\n\u001b[0;32m---> 58\u001b[0;31m                          \" or a value too large for %r.\" % X.dtype)\n\u001b[0m\u001b[1;32m     59\u001b[0m \u001b[0;34m\u001b[0m\u001b[0m\n\u001b[1;32m     60\u001b[0m \u001b[0;34m\u001b[0m\u001b[0m\n",
      "\u001b[0;31mValueError\u001b[0m: Input contains NaN, infinity or a value too large for dtype('float64')."
     ]
    }
   ],
   "source": [
    "pred = model.predict_proba(model_input)[:,1]"
   ]
  },
  {
   "cell_type": "code",
   "execution_count": null,
   "metadata": {
    "collapsed": false,
    "deletable": true,
    "editable": true
   },
   "outputs": [],
   "source": [
    "players_df = pd.DataFrame(players)\n",
    "results = pd.concat([players_df, pd.DataFrame(pred, columns=['Prediction'])], axis=1) "
   ]
  },
  {
   "cell_type": "code",
   "execution_count": null,
   "metadata": {
    "collapsed": false,
    "deletable": true,
    "editable": true,
    "scrolled": true
   },
   "outputs": [],
   "source": [
    "results = results.sort_values(['Prediction'], ascending=False)"
   ]
  },
  {
   "cell_type": "code",
   "execution_count": null,
   "metadata": {
    "collapsed": false,
    "deletable": true,
    "editable": true
   },
   "outputs": [],
   "source": [
    "results[results['batter_name'] == 'Buster Posey']"
   ]
  },
  {
   "cell_type": "code",
   "execution_count": null,
   "metadata": {
    "collapsed": false,
    "deletable": true,
    "editable": true
   },
   "outputs": [],
   "source": [
    "results.head()"
   ]
  },
  {
   "cell_type": "code",
   "execution_count": null,
   "metadata": {
    "collapsed": false,
    "deletable": true,
    "editable": true
   },
   "outputs": [],
   "source": [
    "results[:10]"
   ]
  },
  {
   "cell_type": "code",
   "execution_count": null,
   "metadata": {
    "collapsed": true,
    "deletable": true,
    "editable": true
   },
   "outputs": [],
   "source": []
  }
 ],
 "metadata": {
  "kernelspec": {
   "display_name": "Python 2",
   "language": "python",
   "name": "python2"
  },
  "language_info": {
   "codemirror_mode": {
    "name": "ipython",
    "version": 2
   },
   "file_extension": ".py",
   "mimetype": "text/x-python",
   "name": "python",
   "nbconvert_exporter": "python",
   "pygments_lexer": "ipython2",
   "version": "2.7.13"
  }
 },
 "nbformat": 4,
 "nbformat_minor": 2
}
