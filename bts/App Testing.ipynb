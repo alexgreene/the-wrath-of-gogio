{
 "cells": [
  {
   "cell_type": "code",
   "execution_count": 1,
   "metadata": {
    "collapsed": true,
    "deletable": true,
    "editable": true
   },
   "outputs": [],
   "source": [
    "from datetime import date, timedelta\n",
    "from gamescout_db import db, cur \n",
    "from sklearn import linear_model\n",
    "from sklearn.utils import shuffle\n",
    "import pandas as pd\n",
    "import requests\n",
    "import json\n",
    "import re\n",
    "import numpy as np"
   ]
  },
  {
   "cell_type": "code",
   "execution_count": 2,
   "metadata": {
    "collapsed": true,
    "deletable": true,
    "editable": true
   },
   "outputs": [],
   "source": [
    "def computeGamma(hits, atbats):\n",
    "    return hits - (.1 * atbats)"
   ]
  },
  {
   "cell_type": "code",
   "execution_count": 3,
   "metadata": {
    "collapsed": false,
    "deletable": true,
    "editable": true
   },
   "outputs": [],
   "source": [
    "compiled = pd.read_sql('SELECT * FROM Compiled;', con=db)\n",
    "\n",
    "games_played_b = compiled.groupby('P_ID').size()\n",
    "compiled = compiled.join(pd.DataFrame(games_played_b, columns=['GAMES_PLAYED_B']), on=['P_ID'])\n",
    "\n",
    "games_played_p = compiled.groupby(['starting_P_ID', 'G_ID']).size().reset_index().groupby('starting_P_ID').size()\n",
    "compiled = compiled.join(pd.DataFrame(games_played_p, columns=['GAMES_PLAYED_P']), on=['starting_P_ID'])\n",
    "\n",
    "compiled['P_ID'] = ['777' if compiled['GAMES_PLAYED_B'][x] < 100 else compiled['P_ID'][x] for x in range(len(compiled))]\n",
    "compiled['starting_P_ID'] = ['888' if compiled['GAMES_PLAYED_P'][x] < 20 else compiled['starting_P_ID'][x] for x in range(len(compiled))]"
   ]
  },
  {
   "cell_type": "code",
   "execution_count": null,
   "metadata": {
    "collapsed": false,
    "deletable": true,
    "editable": true
   },
   "outputs": [],
   "source": [
    "#pitch_dummies"
   ]
  },
  {
   "cell_type": "code",
   "execution_count": 4,
   "metadata": {
    "collapsed": false,
    "deletable": true,
    "editable": true
   },
   "outputs": [],
   "source": [
    "def createModel():\n",
    "    cur.execute(\"\"\"\n",
    "      SELECT\n",
    "         COUNT(DISTINCT starting_P_ID)\n",
    "      FROM\n",
    "         Compiled\n",
    "    \"\"\")\n",
    "    num_pitchers = cur.fetchall()[0][0]\n",
    "\n",
    "    cur.execute(\"\"\"\n",
    "      SELECT\n",
    "         COUNT(DISTINCT P_ID)\n",
    "      FROM\n",
    "         Compiled\n",
    "    \"\"\")\n",
    "    num_batters = cur.fetchall()[0][0]\n",
    "\n",
    "    data = compiled.copy()\n",
    "    data = data[pd.notnull(data['GS1AGO'])]\n",
    "    data = data[pd.notnull(data['GS2AGO'])]\n",
    "    data = data[pd.notnull(data['GS3AGO'])]\n",
    "\n",
    "    labels = data['GOT_HIT']\n",
    "    data = data[['1_AGO', '2_AGO', '3_AGO', '4_AGO', '5_AGO', '6_AGO', '7_AGO',\n",
    "                'GS1AGO', 'GS2AGO', 'GS3AGO', 'starting_P_ID', 'P_ID', \n",
    "                'hist_AB', 'hist_H']]\n",
    "   \n",
    "    pitch_dummies = pd.get_dummies(data['starting_P_ID'])#.iloc[:,1:num_pitchers]\n",
    "    pitch_dummies = pitch_dummies.drop('888', 1)\n",
    "    bat_dummies = pd.get_dummies(data['P_ID'])#.iloc[:,1:num_batters]\n",
    "    bat_dummies = bat_dummies.drop('777', 1)\n",
    "\n",
    "    data['Gamma'] = data['hist_H'] - (.1 * data['hist_AB'])\n",
    "\n",
    "    data = pd.concat([data, pitch_dummies], axis=1)\n",
    "    data = pd.concat([data, bat_dummies], axis=1)\n",
    "\n",
    "    data = data.drop('starting_P_ID', 1)\n",
    "    data = data.drop('P_ID', 1)\n",
    "    data = data.drop('hist_AB', 1)\n",
    "    data = data.drop('hist_H', 1)\n",
    "\n",
    "    #data = (data - data.mean()) / (data.max() - data.min())\n",
    "    data = shuffle(data)\n",
    "    y = labels\n",
    "    x = data\n",
    "\n",
    "    model = linear_model.LogisticRegression(class_weight='balanced')\n",
    "    model.fit(x, y)\n",
    "\n",
    "    return (model, pitch_dummies.columns, bat_dummies.columns)"
   ]
  },
  {
   "cell_type": "code",
   "execution_count": 5,
   "metadata": {
    "collapsed": true,
    "deletable": true,
    "editable": true
   },
   "outputs": [],
   "source": [
    "def recentBatterGame(batter_id):\n",
    "    cur.execute(\"\"\"\n",
    "      SELECT\n",
    "         GOT_HIT, 1_AGO, 2_AGO, 3_AGO, 4_AGO, \n",
    "         5_AGO, 6_AGO, 7_AGO, hist_H, hist_AB\n",
    "      FROM\n",
    "         Compiled\n",
    "      WHERE\n",
    "         P_ID = %s\n",
    "      ORDER BY G_DATE DESC\n",
    "      LIMIT 1\n",
    "    \"\"\", [batter_id])\n",
    "\n",
    "    return cur.fetchall()[0]"
   ]
  },
  {
   "cell_type": "code",
   "execution_count": 6,
   "metadata": {
    "collapsed": true,
    "deletable": true,
    "editable": true
   },
   "outputs": [],
   "source": [
    "def recentPitcherGame(pitcher_id):\n",
    "    cur.execute(\"\"\"\n",
    "      SELECT\n",
    "         GAME_SCORE_1AGO, GAME_SCORE_2AGO, GAME_SCORE_3AGO\n",
    "      FROM\n",
    "         PitcherStats\n",
    "      WHERE\n",
    "         P_ID = %s\n",
    "      ORDER BY G_DATE DESC\n",
    "      LIMIT 1\n",
    "    \"\"\", [pitcher_id])\n",
    "    try:\n",
    "        return cur.fetchall()[0]\n",
    "    except:\n",
    "        return (0, 0, 0)\n",
    "        print(\"Recent Pitcher Error: \" + str(pitcher_id))"
   ]
  },
  {
   "cell_type": "code",
   "execution_count": 7,
   "metadata": {
    "collapsed": false,
    "deletable": true,
    "editable": true
   },
   "outputs": [],
   "source": [
    "model, pitch_dummies, bat_dummies = createModel()"
   ]
  },
  {
   "cell_type": "code",
   "execution_count": 12,
   "metadata": {
    "collapsed": false
   },
   "outputs": [
    {
     "data": {
      "text/plain": [
       "array([-0.00315658,  0.00566553, -0.00489866,  0.00261087,  0.00499028,\n",
       "       -0.00704535, -0.00151708,  0.00020845, -0.00028257,  0.00012116])"
      ]
     },
     "execution_count": 12,
     "metadata": {},
     "output_type": "execute_result"
    }
   ],
   "source": [
    "model.coef_[0][:10]"
   ]
  },
  {
   "cell_type": "code",
   "execution_count": 27,
   "metadata": {
    "collapsed": false,
    "deletable": true,
    "editable": true,
    "scrolled": false
   },
   "outputs": [
    {
     "name": "stderr",
     "output_type": "stream",
     "text": [
      "/usr/local/lib/python2.7/site-packages/ipykernel/__main__.py:11: Warning: Truncated incorrect DOUBLE value: ''\n"
     ]
    }
   ],
   "source": [
    "matchups = []\n",
    "players = []\n",
    "model_input = pd.DataFrame()\n",
    "\n",
    "cur_day = date.today()\n",
    "cur_season = cur_day.year\n",
    "tomorrow = date.today() + timedelta(days=1)\n",
    "url = \"http://gd.mlb.com/components/game/mlb/year_{y}/month_{m:02d}/\\\n",
    "day_{d:02d}/\".format(y=tomorrow.year, m=tomorrow.month, d=tomorrow.day)\n",
    "\n",
    "games_index = requests.get(url).text\n",
    "games = re.findall(r'> (gid.*mlb.*mlb.*)/</a>', games_index)\n",
    "\n",
    "\n",
    "for game_id in games:\n",
    "    info_url = '{url}{gid}/linescore.json'.format(url=url, gid=game_id)\n",
    "    response = requests.get(info_url)\n",
    "    info = json.loads(response.text)\n",
    "\n",
    "    game = info['data']['game']\n",
    "    matchups.append({\n",
    "     'pitcher':  game['home_probable_pitcher']['id'],\n",
    "     'opp_team': game['away_team_name']\n",
    "     })\n",
    "\n",
    "    matchups.append({\n",
    "     'pitcher':  game['away_probable_pitcher']['id'],\n",
    "     'opp_team': game['home_team_name']\n",
    "     })\n",
    "\n",
    "for matchup in matchups:\n",
    "    cur.execute(\"\"\"\n",
    "     SELECT\n",
    "        DISTINCT P_ID, NAME \n",
    "     FROM \n",
    "        BatterStats \n",
    "     WHERE \n",
    "        TEAM=%s AND YEAR(G_DATE)=%s AND \n",
    "        G_DATE >= DATE_ADD(%s,INTERVAL -5 DAY)\n",
    "    \"\"\", [matchup['opp_team'], cur_season, cur_day]\n",
    "    )\n",
    "    rows = cur.fetchall()\n",
    "\n",
    "    for row in rows:\n",
    "        batter_id = row[0]\n",
    "        batter_name = row[1]\n",
    "        pitcher_id = matchup['pitcher']\n",
    "\n",
    "        #if pitcher_id:\n",
    "        p_dummies = dict.fromkeys(pitch_dummies, [0])\n",
    "        b_dummies = dict.fromkeys(bat_dummies, [0])\n",
    "\n",
    "        if 'p_{0}'.format(pitcher_id) in p_dummies:\n",
    "            p_dummies['p_{0}'.format(pitcher_id)] = [1]\n",
    "        p_dummies_df = pd.DataFrame(p_dummies)\n",
    "\n",
    "        if 'b_{0}'.format(batter_id) in b_dummies:\n",
    "            b_dummies['b_{0}'.format(batter_id)] = [1]\n",
    "        b_dummies_df = pd.DataFrame(b_dummies)\n",
    "\n",
    "        batter = recentBatterGame(batter_id)\n",
    "        pitcher = recentPitcherGame(pitcher_id)\n",
    "\n",
    "        stats = pd.DataFrame({\n",
    "            '1_AGO': batter[0],\n",
    "            '2_AGO': batter[1],\n",
    "            '3_AGO': batter[2],\n",
    "            '4_AGO': batter[3],\n",
    "            '5_AGO': batter[4],\n",
    "            '6_AGO': batter[5],\n",
    "            '7_AGO': batter[6],\n",
    "            'GS1AGO': pitcher[0],\n",
    "            'GS2AGO': pitcher[1],\n",
    "            'GS3AGO': pitcher[2],\n",
    "            'Gamma': [computeGamma(batter[8], batter[9])]\n",
    "         })\n",
    "\n",
    "        players.append({'batter_id': batter_id, 'batter_name': batter_name,'pitcher_id': pitcher_id})\n",
    "        player_data = pd.concat([stats, p_dummies_df, b_dummies_df], axis=1)\n",
    "        model_input = model_input.append(player_data)"
   ]
  },
  {
   "cell_type": "code",
   "execution_count": 29,
   "metadata": {
    "collapsed": false,
    "deletable": true,
    "editable": true
   },
   "outputs": [
    {
     "data": {
      "text/plain": [
       "656"
      ]
     },
     "execution_count": 29,
     "metadata": {},
     "output_type": "execute_result"
    }
   ],
   "source": [
    "#np.any(np.isnan(model_input))\n",
    "#\n",
    "#model_input = model_input.replace(np.inf, np.nan)\n",
    "#np.all(np.isfinite(model_input))\n",
    "#np.isfinite(model_input).sum()\n",
    "#set(model_input.max())\n",
    "model_input = model_input.dropna()\n",
    "len(model_input)"
   ]
  },
  {
   "cell_type": "code",
   "execution_count": 40,
   "metadata": {
    "collapsed": false,
    "deletable": true,
    "editable": true
   },
   "outputs": [],
   "source": [
    "pred = model.predict_proba(model_input)[:,1]"
   ]
  },
  {
   "cell_type": "code",
   "execution_count": 41,
   "metadata": {
    "collapsed": false,
    "deletable": true,
    "editable": true
   },
   "outputs": [],
   "source": [
    "players_df = pd.DataFrame(players)\n",
    "results = pd.concat([players_df, pd.DataFrame(pred, columns=['Prediction'])], axis=1) "
   ]
  },
  {
   "cell_type": "code",
   "execution_count": 42,
   "metadata": {
    "collapsed": false,
    "deletable": true,
    "editable": true,
    "scrolled": true
   },
   "outputs": [],
   "source": [
    "results = results.sort_values(['Prediction'], ascending=False)"
   ]
  },
  {
   "cell_type": "code",
   "execution_count": 44,
   "metadata": {
    "collapsed": false,
    "deletable": true,
    "editable": true,
    "scrolled": false
   },
   "outputs": [
    {
     "data": {
      "text/html": [
       "<div>\n",
       "<table border=\"1\" class=\"dataframe\">\n",
       "  <thead>\n",
       "    <tr style=\"text-align: right;\">\n",
       "      <th></th>\n",
       "      <th>batter_id</th>\n",
       "      <th>batter_name</th>\n",
       "      <th>pitcher_id</th>\n",
       "      <th>Prediction</th>\n",
       "    </tr>\n",
       "  </thead>\n",
       "  <tbody>\n",
       "    <tr>\n",
       "      <th>322</th>\n",
       "      <td>592663</td>\n",
       "      <td>J.T. Realmuto</td>\n",
       "      <td>467100</td>\n",
       "      <td>0.802105</td>\n",
       "    </tr>\n",
       "    <tr>\n",
       "      <th>323</th>\n",
       "      <td>518618</td>\n",
       "      <td>Derek Dietrich</td>\n",
       "      <td>467100</td>\n",
       "      <td>0.801912</td>\n",
       "    </tr>\n",
       "    <tr>\n",
       "      <th>28</th>\n",
       "      <td>608324</td>\n",
       "      <td>Alex Bregman</td>\n",
       "      <td>445926</td>\n",
       "      <td>0.801905</td>\n",
       "    </tr>\n",
       "    <tr>\n",
       "      <th>193</th>\n",
       "      <td>607536</td>\n",
       "      <td>Kyle Freeland</td>\n",
       "      <td>453562</td>\n",
       "      <td>0.801722</td>\n",
       "    </tr>\n",
       "    <tr>\n",
       "      <th>192</th>\n",
       "      <td>452672</td>\n",
       "      <td>Ryan Hanigan</td>\n",
       "      <td>453562</td>\n",
       "      <td>0.801392</td>\n",
       "    </tr>\n",
       "    <tr>\n",
       "      <th>29</th>\n",
       "      <td>435263</td>\n",
       "      <td>Brian McCann</td>\n",
       "      <td>445926</td>\n",
       "      <td>0.801276</td>\n",
       "    </tr>\n",
       "    <tr>\n",
       "      <th>325</th>\n",
       "      <td>595375</td>\n",
       "      <td>J.T. Riddle</td>\n",
       "      <td>467100</td>\n",
       "      <td>0.801236</td>\n",
       "    </tr>\n",
       "    <tr>\n",
       "      <th>318</th>\n",
       "      <td>519317</td>\n",
       "      <td>Giancarlo Stanton</td>\n",
       "      <td>467100</td>\n",
       "      <td>0.801161</td>\n",
       "    </tr>\n",
       "    <tr>\n",
       "      <th>196</th>\n",
       "      <td>543022</td>\n",
       "      <td>Tyler Chatwood</td>\n",
       "      <td>453562</td>\n",
       "      <td>0.801128</td>\n",
       "    </tr>\n",
       "    <tr>\n",
       "      <th>300</th>\n",
       "      <td>605486</td>\n",
       "      <td>Cory Spangenberg</td>\n",
       "      <td>596001</td>\n",
       "      <td>0.801049</td>\n",
       "    </tr>\n",
       "  </tbody>\n",
       "</table>\n",
       "</div>"
      ],
      "text/plain": [
       "     batter_id        batter_name pitcher_id  Prediction\n",
       "322     592663      J.T. Realmuto     467100    0.802105\n",
       "323     518618     Derek Dietrich     467100    0.801912\n",
       "28      608324       Alex Bregman     445926    0.801905\n",
       "193     607536      Kyle Freeland     453562    0.801722\n",
       "192     452672       Ryan Hanigan     453562    0.801392\n",
       "29      435263       Brian McCann     445926    0.801276\n",
       "325     595375        J.T. Riddle     467100    0.801236\n",
       "318     519317  Giancarlo Stanton     467100    0.801161\n",
       "196     543022     Tyler Chatwood     453562    0.801128\n",
       "300     605486   Cory Spangenberg     596001    0.801049"
      ]
     },
     "execution_count": 44,
     "metadata": {},
     "output_type": "execute_result"
    }
   ],
   "source": [
    "results['Prediction'] = results['Prediction'] + .30\n",
    "results[:10]"
   ]
  },
  {
   "cell_type": "code",
   "execution_count": null,
   "metadata": {
    "collapsed": false,
    "deletable": true,
    "editable": true
   },
   "outputs": [],
   "source": [
    "results[results['batter_name'] == 'Buster Posey']"
   ]
  },
  {
   "cell_type": "code",
   "execution_count": null,
   "metadata": {
    "collapsed": true,
    "deletable": true,
    "editable": true
   },
   "outputs": [],
   "source": []
  }
 ],
 "metadata": {
  "kernelspec": {
   "display_name": "Python 2",
   "language": "python",
   "name": "python2"
  },
  "language_info": {
   "codemirror_mode": {
    "name": "ipython",
    "version": 2
   },
   "file_extension": ".py",
   "mimetype": "text/x-python",
   "name": "python",
   "nbconvert_exporter": "python",
   "pygments_lexer": "ipython2",
   "version": "2.7.13"
  }
 },
 "nbformat": 4,
 "nbformat_minor": 2
}
