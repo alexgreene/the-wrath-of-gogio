{
 "cells": [
  {
   "cell_type": "code",
   "execution_count": 1,
   "metadata": {
    "collapsed": false
   },
   "outputs": [],
   "source": [
    "import pandas as pd\n",
    "from gamescout_db import db, cur\n",
    "from sklearn.model_selection import cross_val_score\n",
    "from sklearn import linear_model\n",
    "import numpy as np\n",
    "from sklearn import metrics\n",
    "\n",
    "import matplotlib.pyplot as plt\n",
    "%matplotlib inline\n",
    "\n",
    "import warnings\n",
    "warnings.filterwarnings(action=\"ignore\", module=\"scipy\", message=\"^internal gelsd\")"
   ]
  },
  {
   "cell_type": "code",
   "execution_count": 2,
   "metadata": {
    "collapsed": false
   },
   "outputs": [],
   "source": [
    "COLUMNS = ['THREE_RUN_GAME','HT','AT','HT_WPCT','HT_WPCT_1R','HT_WPCT_2R','AT_WPCT','AT_WPCT_1R','AT_WPCT_2R',\n",
    "            'HT_RUN_DIFF','HT_AVG_RS_WIN','HT_AVG_RA_WIN','HT_AVG_RS_LOSS','HT_AVG_RA_LOSS','AT_RUN_DIFF',\n",
    "            'AT_AVG_RS_WIN','AT_AVG_RA_WIN','AT_AVG_RS_LOSS','AT_AVG_RA_LOSS','HP_RUNS_PER_9','HP_BB_PER_9',\n",
    "            'HP_H_PER_9','HP_K_PER_9','HP_IP','HP_ERA','HP_AVG_IP','AP_RUNS_PER_9','AP_BB_PER_9','AP_H_PER_9',\n",
    "            'AP_K_PER_9','AP_IP','AP_ERA','AP_AVG_IP','HT_P_AVG','HT_C_AVG','HT_1B_AVG','HT_2B_AVG','HT_3B_AVG',\n",
    "            'HT_SS_AVG','HT_LF_AVG','HT_CF_AVG','HT_RF_AVG','AT_P_AVG','AT_C_AVG','AT_1B_AVG','AT_2B_AVG',\n",
    "            'AT_3B_AVG','AT_SS_AVG','AT_LF_AVG','AT_CF_AVG','AT_RF_AVG','HT_AVG_HRS','AT_AVG_HRS']"
   ]
  },
  {
   "cell_type": "code",
   "execution_count": 3,
   "metadata": {
    "collapsed": false
   },
   "outputs": [],
   "source": [
    "data = pd.read_sql('select * from GamePrediction;', con=db).dropna()\n",
    "data['WPCT_DIFF'] = np.abs(data['HT_WPCT'] - data['AT_WPCT'])\n",
    "data['RUN_DIFF'] = np.abs(data['HT_RUN_DIFF'] - data['AT_RUN_DIFF'])\n",
    "data['HT_WIN_DIFF'] = data['HT_AVG_RS_WIN'] - data['HT_AVG_RA_WIN']\n",
    "data['HT_LOSS_DIFF'] = data['HT_AVG_RS_LOSS'] - data['HT_AVG_RA_LOSS']\n",
    "data['AT_WIN_DIFF'] = data['AT_AVG_RS_WIN'] - data['AT_AVG_RA_WIN']\n",
    "data['AT_LOSS_DIFF'] = data['AT_AVG_RS_LOSS'] - data['AT_AVG_RA_LOSS']\n",
    "\n",
    "data['P'] = np.abs(data['HT_P_AVG'] - data['AT_P_AVG'])\n",
    "data['C'] = np.abs(data['HT_C_AVG'] - data['AT_C_AVG'])\n",
    "data['1B'] = np.abs(data['HT_1B_AVG'] - data['AT_1B_AVG'])\n",
    "data['2B'] = np.abs(data['HT_2B_AVG'] - data['AT_2B_AVG'])\n",
    "data['3B'] = np.abs(data['HT_3B_AVG'] - data['AT_3B_AVG'])\n",
    "data['SS'] = np.abs(data['HT_SS_AVG'] - data['AT_SS_AVG'])\n",
    "data['LF'] = np.abs(data['HT_LF_AVG'] - data['AT_LF_AVG'])\n",
    "data['CF'] = np.abs(data['HT_CF_AVG'] - data['AT_CF_AVG'])\n",
    "data['RF'] = np.abs(data['HT_RF_AVG'] - data['AT_RF_AVG'])\n",
    "\n",
    "# data = pd.concat([data, pd.get_dummies(data[\"HT\"]).ix[:, 1:44]], axis = 1)\n",
    "# data = pd.concat([data, pd.get_dummies(data[\"AT\"], prefix=\"_\").ix[:, 1:42]], axis = 1)\n",
    "data = data.dropna() #apply(pd.to_numeric, errors=\"ignore\")"
   ]
  },
  {
   "cell_type": "code",
   "execution_count": 4,
   "metadata": {
    "collapsed": false
   },
   "outputs": [
    {
     "data": {
      "text/html": [
       "<div>\n",
       "<table border=\"1\" class=\"dataframe\">\n",
       "  <thead>\n",
       "    <tr style=\"text-align: right;\">\n",
       "      <th></th>\n",
       "      <th>WPCT_DIFF</th>\n",
       "      <th>HP_ERA</th>\n",
       "      <th>AP_ERA</th>\n",
       "      <th>HT_WIN_DIFF</th>\n",
       "      <th>HT_LOSS_DIFF</th>\n",
       "      <th>AT_WIN_DIFF</th>\n",
       "      <th>AT_LOSS_DIFF</th>\n",
       "      <th>P</th>\n",
       "      <th>C</th>\n",
       "      <th>1B</th>\n",
       "      <th>2B</th>\n",
       "      <th>3B</th>\n",
       "      <th>SS</th>\n",
       "      <th>LF</th>\n",
       "      <th>CF</th>\n",
       "      <th>RF</th>\n",
       "    </tr>\n",
       "  </thead>\n",
       "  <tbody>\n",
       "    <tr>\n",
       "      <th>70</th>\n",
       "      <td>0.250</td>\n",
       "      <td>6.23</td>\n",
       "      <td>2.92</td>\n",
       "      <td>0.50000</td>\n",
       "      <td>-1.50000</td>\n",
       "      <td>1.50000</td>\n",
       "      <td>-0.250000</td>\n",
       "      <td>0.108505</td>\n",
       "      <td>0.109524</td>\n",
       "      <td>0.117117</td>\n",
       "      <td>0.066995</td>\n",
       "      <td>0.074074</td>\n",
       "      <td>0.096491</td>\n",
       "      <td>0.186379</td>\n",
       "      <td>0.138158</td>\n",
       "      <td>0.122391</td>\n",
       "    </tr>\n",
       "    <tr>\n",
       "      <th>103</th>\n",
       "      <td>0.417</td>\n",
       "      <td>4.76</td>\n",
       "      <td>4.91</td>\n",
       "      <td>1.66666</td>\n",
       "      <td>-0.66667</td>\n",
       "      <td>0.75000</td>\n",
       "      <td>-1.250000</td>\n",
       "      <td>0.129032</td>\n",
       "      <td>0.069691</td>\n",
       "      <td>0.067322</td>\n",
       "      <td>0.029458</td>\n",
       "      <td>0.066327</td>\n",
       "      <td>0.111285</td>\n",
       "      <td>0.201239</td>\n",
       "      <td>0.044445</td>\n",
       "      <td>0.093593</td>\n",
       "    </tr>\n",
       "    <tr>\n",
       "      <th>105</th>\n",
       "      <td>0.200</td>\n",
       "      <td>4.50</td>\n",
       "      <td>1.23</td>\n",
       "      <td>0.40000</td>\n",
       "      <td>-1.80000</td>\n",
       "      <td>1.00000</td>\n",
       "      <td>-0.800000</td>\n",
       "      <td>0.163194</td>\n",
       "      <td>0.001916</td>\n",
       "      <td>0.050802</td>\n",
       "      <td>0.019078</td>\n",
       "      <td>0.166257</td>\n",
       "      <td>0.211801</td>\n",
       "      <td>0.091812</td>\n",
       "      <td>0.050455</td>\n",
       "      <td>0.047987</td>\n",
       "    </tr>\n",
       "    <tr>\n",
       "      <th>121</th>\n",
       "      <td>0.267</td>\n",
       "      <td>2.25</td>\n",
       "      <td>2.31</td>\n",
       "      <td>2.00000</td>\n",
       "      <td>-1.00000</td>\n",
       "      <td>2.33333</td>\n",
       "      <td>-0.666670</td>\n",
       "      <td>0.111111</td>\n",
       "      <td>0.164148</td>\n",
       "      <td>0.032143</td>\n",
       "      <td>0.003760</td>\n",
       "      <td>0.041667</td>\n",
       "      <td>0.168571</td>\n",
       "      <td>0.060185</td>\n",
       "      <td>0.142857</td>\n",
       "      <td>0.149167</td>\n",
       "    </tr>\n",
       "    <tr>\n",
       "      <th>125</th>\n",
       "      <td>0.000</td>\n",
       "      <td>0.00</td>\n",
       "      <td>13.50</td>\n",
       "      <td>2.22223</td>\n",
       "      <td>-1.22222</td>\n",
       "      <td>1.50000</td>\n",
       "      <td>-0.333333</td>\n",
       "      <td>0.009821</td>\n",
       "      <td>0.008333</td>\n",
       "      <td>0.015385</td>\n",
       "      <td>0.025145</td>\n",
       "      <td>0.018140</td>\n",
       "      <td>0.010069</td>\n",
       "      <td>0.112551</td>\n",
       "      <td>0.017391</td>\n",
       "      <td>0.153061</td>\n",
       "    </tr>\n",
       "  </tbody>\n",
       "</table>\n",
       "</div>"
      ],
      "text/plain": [
       "     WPCT_DIFF  HP_ERA  AP_ERA  HT_WIN_DIFF  HT_LOSS_DIFF  AT_WIN_DIFF  \\\n",
       "70       0.250    6.23    2.92      0.50000      -1.50000      1.50000   \n",
       "103      0.417    4.76    4.91      1.66666      -0.66667      0.75000   \n",
       "105      0.200    4.50    1.23      0.40000      -1.80000      1.00000   \n",
       "121      0.267    2.25    2.31      2.00000      -1.00000      2.33333   \n",
       "125      0.000    0.00   13.50      2.22223      -1.22222      1.50000   \n",
       "\n",
       "     AT_LOSS_DIFF         P         C        1B        2B        3B        SS  \\\n",
       "70      -0.250000  0.108505  0.109524  0.117117  0.066995  0.074074  0.096491   \n",
       "103     -1.250000  0.129032  0.069691  0.067322  0.029458  0.066327  0.111285   \n",
       "105     -0.800000  0.163194  0.001916  0.050802  0.019078  0.166257  0.211801   \n",
       "121     -0.666670  0.111111  0.164148  0.032143  0.003760  0.041667  0.168571   \n",
       "125     -0.333333  0.009821  0.008333  0.015385  0.025145  0.018140  0.010069   \n",
       "\n",
       "           LF        CF        RF  \n",
       "70   0.186379  0.138158  0.122391  \n",
       "103  0.201239  0.044445  0.093593  \n",
       "105  0.091812  0.050455  0.047987  \n",
       "121  0.060185  0.142857  0.149167  \n",
       "125  0.112551  0.017391  0.153061  "
      ]
     },
     "execution_count": 4,
     "metadata": {},
     "output_type": "execute_result"
    }
   ],
   "source": [
    "y = data[\"THREE_RUN_GAME\"]\n",
    "x = data[['WPCT_DIFF', 'HP_ERA', 'AP_ERA', 'HT_WIN_DIFF', 'HT_LOSS_DIFF', 'AT_WIN_DIFF', 'AT_LOSS_DIFF',\n",
    "         'P', 'C', '1B', '2B', '3B', 'SS', 'LF', 'CF', 'RF']]\n",
    "x.head()\n"
   ]
  },
  {
   "cell_type": "code",
   "execution_count": 5,
   "metadata": {
    "collapsed": false
   },
   "outputs": [
    {
     "data": {
      "text/plain": [
       "array([[-0.07525481, -0.07912611, -0.09514548, -0.20111038,  0.22265354,\n",
       "         0.03761085, -0.20582027, -0.1624905 , -1.10026199, -0.07311682,\n",
       "        -0.38106881,  0.16442528,  0.1685766 ,  0.28686049,  1.20764906,\n",
       "         0.36669355]])"
      ]
     },
     "execution_count": 5,
     "metadata": {},
     "output_type": "execute_result"
    }
   ],
   "source": [
    "train_x = x[:8000]\n",
    "test_x = x[8001:]\n",
    "\n",
    "train_y = y[:8000]\n",
    "test_y = y[8001:]\n",
    "\n",
    "model = linear_model.LogisticRegression(class_weight='balanced')\n",
    "model.fit(train_x, train_y)\n",
    "\n",
    "model.coef_"
   ]
  },
  {
   "cell_type": "code",
   "execution_count": 6,
   "metadata": {
    "collapsed": false
   },
   "outputs": [
    {
     "data": {
      "text/plain": [
       "(array([   14.,   213.,  1432.,  1279.,   259.,    50.,    16.,     9.,\n",
       "            6.,     6.]),\n",
       " array([ 0.30558762,  0.37148796,  0.43738831,  0.50328865,  0.56918899,\n",
       "         0.63508933,  0.70098968,  0.76689002,  0.83279036,  0.89869071,\n",
       "         0.96459105]),\n",
       " <a list of 10 Patch objects>)"
      ]
     },
     "execution_count": 6,
     "metadata": {},
     "output_type": "execute_result"
    },
    {
     "data": {
      "image/png": "[encoded data removed]",
      "text/plain": [
       "<matplotlib.figure.Figure at 0x10362e810>"
      ]
     },
     "metadata": {},
     "output_type": "display_data"
    }
   ],
   "source": [
    "plt.hist(model.predict_proba(test_x)[:,0])"
   ]
  },
  {
   "cell_type": "code",
   "execution_count": 7,
   "metadata": {
    "collapsed": false
   },
   "outputs": [
    {
     "name": "stdout",
     "output_type": "stream",
     "text": [
      "             precision    recall  f1-score   support\n",
      "\n",
      "          0       0.42      0.58      0.49      1250\n",
      "          1       0.66      0.51      0.58      2034\n",
      "\n",
      "avg / total       0.57      0.54      0.54      3284\n",
      "\n",
      "[[ 722  528]\n",
      " [ 997 1037]]\n"
     ]
    }
   ],
   "source": [
    "predicted = model.predict(test_x)\n",
    "expected = test_y\n",
    "print(metrics.classification_report(expected, predicted))\n",
    "print(metrics.confusion_matrix(expected, predicted))"
   ]
  },
  {
   "cell_type": "code",
   "execution_count": null,
   "metadata": {
    "collapsed": true
   },
   "outputs": [],
   "source": []
  }
 ],
 "metadata": {
  "kernelspec": {
   "display_name": "Python 2",
   "language": "python",
   "name": "python2"
  },
  "language_info": {
   "codemirror_mode": {
    "name": "ipython",
    "version": 2
   },
   "file_extension": ".py",
   "mimetype": "text/x-python",
   "name": "python",
   "nbconvert_exporter": "python",
   "pygments_lexer": "ipython2",
   "version": "2.7.11"
  }
 },
 "nbformat": 4,
 "nbformat_minor": 0
}
