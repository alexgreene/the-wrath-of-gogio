{
 "cells": [
  {
   "cell_type": "code",
   "execution_count": 28,
   "metadata": {
    "collapsed": false
   },
   "outputs": [],
   "source": [
    "import pandas as pd\n",
    "from gamescout_db import db, cur\n",
    "from sklearn.model_selection import cross_val_score\n",
    "from sklearn import linear_model\n",
    "import numpy as np\n",
    "from sklearn import metrics\n",
    "\n",
    "import matplotlib.pyplot as plt\n",
    "%matplotlib inline\n",
    "\n",
    "import warnings\n",
    "warnings.filterwarnings(action=\"ignore\", module=\"scipy\", message=\"^internal gelsd\")"
   ]
  },
  {
   "cell_type": "code",
   "execution_count": 29,
   "metadata": {
    "collapsed": false
   },
   "outputs": [],
   "source": [
    "# We haven't included all of the data because we haven't gotten valid results yet.\n",
    "\n",
    "COLUMNS = ['ONE_RUN_GAME','HT','AT','HT_WPCT','HT_WPCT_1R','HT_WPCT_2R','AT_WPCT','AT_WPCT_1R','AT_WPCT_2R',\n",
    "            'HT_RUN_DIFF','HT_AVG_RS_WIN','HT_AVG_RA_WIN','HT_AVG_RS_LOSS','HT_AVG_RA_LOSS','AT_RUN_DIFF',\n",
    "            'AT_AVG_RS_WIN','AT_AVG_RA_WIN','AT_AVG_RS_LOSS','AT_AVG_RA_LOSS','HP_RUNS_PER_9','HP_BB_PER_9',\n",
    "            'HP_H_PER_9','HP_K_PER_9','HP_IP','HP_ERA','HP_AVG_IP','AP_RUNS_PER_9','AP_BB_PER_9','AP_H_PER_9',\n",
    "            'AP_K_PER_9','AP_IP','AP_ERA','AP_AVG_IP','HT_P_AVG','HT_C_AVG','HT_1B_AVG','HT_2B_AVG','HT_3B_AVG',\n",
    "            'HT_SS_AVG','HT_LF_AVG','HT_CF_AVG','HT_RF_AVG','AT_P_AVG','AT_C_AVG','AT_1B_AVG','AT_2B_AVG',\n",
    "            'AT_3B_AVG','AT_SS_AVG','AT_LF_AVG','AT_CF_AVG','AT_RF_AVG','HT_AVG_HRS','AT_AVG_HRS']"
   ]
  },
  {
   "cell_type": "code",
   "execution_count": 32,
   "metadata": {
    "collapsed": false
   },
   "outputs": [],
   "source": [
    "data = pd.read_sql('select * from GamePrediction;', con=db).dropna()[COLUMNS]\n",
    "data['WPCT_DIFF'] = np.abs(data['HT_WPCT'] - data['AT_WPCT'])\n",
    "data['WPCT_DIFF_1R'] = np.abs(data['HT_WPCT_1R'] - data['AT_WPCT_1R'])\n",
    "data['WPCT_DIFF_2R'] = np.abs(data['HT_WPCT_2R'] - data['AT_WPCT_2R'])\n",
    "data['RUN_DIFF'] = np.abs(data['HT_RUN_DIFF'] - data['AT_RUN_DIFF'])"
   ]
  },
  {
   "cell_type": "code",
   "execution_count": 33,
   "metadata": {
    "collapsed": false
   },
   "outputs": [],
   "source": [
    "# data = pd.concat([data, pd.get_dummies(data[\"HT\"]).ix[:, 1:44]], axis = 1)\n",
    "# data = pd.concat([data, pd.get_dummies(data[\"AT\"], prefix=\"_\").ix[:, 1:42]], axis = 1)\n",
    "data = data.dropna() #apply(pd.to_numeric, errors=\"ignore\")"
   ]
  },
  {
   "cell_type": "code",
   "execution_count": 34,
   "metadata": {
    "collapsed": false
   },
   "outputs": [
    {
     "data": {
      "text/html": [
       "<div>\n",
       "<table border=\"1\" class=\"dataframe\">\n",
       "  <thead>\n",
       "    <tr style=\"text-align: right;\">\n",
       "      <th></th>\n",
       "      <th>WPCT_DIFF</th>\n",
       "      <th>WPCT_DIFF_1R</th>\n",
       "      <th>WPCT_DIFF_2R</th>\n",
       "      <th>RUN_DIFF</th>\n",
       "    </tr>\n",
       "  </thead>\n",
       "  <tbody>\n",
       "    <tr>\n",
       "      <th>70</th>\n",
       "      <td>0.250</td>\n",
       "      <td>0.000</td>\n",
       "      <td>0.500</td>\n",
       "      <td>9.0</td>\n",
       "    </tr>\n",
       "    <tr>\n",
       "      <th>103</th>\n",
       "      <td>0.417</td>\n",
       "      <td>0.500</td>\n",
       "      <td>1.000</td>\n",
       "      <td>8.0</td>\n",
       "    </tr>\n",
       "    <tr>\n",
       "      <th>105</th>\n",
       "      <td>0.200</td>\n",
       "      <td>0.333</td>\n",
       "      <td>0.500</td>\n",
       "      <td>8.0</td>\n",
       "    </tr>\n",
       "    <tr>\n",
       "      <th>121</th>\n",
       "      <td>0.267</td>\n",
       "      <td>0.000</td>\n",
       "      <td>1.000</td>\n",
       "      <td>5.0</td>\n",
       "    </tr>\n",
       "    <tr>\n",
       "      <th>125</th>\n",
       "      <td>0.000</td>\n",
       "      <td>0.667</td>\n",
       "      <td>0.333</td>\n",
       "      <td>2.0</td>\n",
       "    </tr>\n",
       "  </tbody>\n",
       "</table>\n",
       "</div>"
      ],
      "text/plain": [
       "     WPCT_DIFF  WPCT_DIFF_1R  WPCT_DIFF_2R  RUN_DIFF\n",
       "70       0.250         0.000         0.500       9.0\n",
       "103      0.417         0.500         1.000       8.0\n",
       "105      0.200         0.333         0.500       8.0\n",
       "121      0.267         0.000         1.000       5.0\n",
       "125      0.000         0.667         0.333       2.0"
      ]
     },
     "execution_count": 34,
     "metadata": {},
     "output_type": "execute_result"
    }
   ],
   "source": [
    "y = data[\"ONE_RUN_GAME\"]\n",
    "x = data[['WPCT_DIFF', 'WPCT_DIFF_1R', 'WPCT_DIFF_2R', 'RUN_DIFF']]\n",
    "x.head()"
   ]
  },
  {
   "cell_type": "code",
   "execution_count": 46,
   "metadata": {
    "collapsed": false
   },
   "outputs": [],
   "source": [
    "train_x = x[:8000]\n",
    "test_x = x[8001:]\n",
    "\n",
    "train_y = y[:8000]\n",
    "test_y = y[8001:]"
   ]
  },
  {
   "cell_type": "code",
   "execution_count": 36,
   "metadata": {
    "collapsed": false
   },
   "outputs": [
    {
     "data": {
      "text/plain": [
       "LogisticRegression(C=1.0, class_weight=None, dual=False, fit_intercept=True,\n",
       "          intercept_scaling=1, max_iter=100, multi_class='ovr', n_jobs=1,\n",
       "          penalty='l2', random_state=None, solver='liblinear', tol=0.0001,\n",
       "          verbose=0, warm_start=False)"
      ]
     },
     "execution_count": 36,
     "metadata": {},
     "output_type": "execute_result"
    }
   ],
   "source": [
    "model = linear_model.LogisticRegression()\n",
    "model.fit(train_x, train_y)"
   ]
  },
  {
   "cell_type": "code",
   "execution_count": 38,
   "metadata": {
    "collapsed": false
   },
   "outputs": [
    {
     "data": {
      "text/plain": [
       "array([[  5.90981237e-01,  -2.36229517e-01,  -1.32095930e-02,\n",
       "          5.45362619e-05]])"
      ]
     },
     "execution_count": 38,
     "metadata": {},
     "output_type": "execute_result"
    }
   ],
   "source": [
    "model.coef_"
   ]
  },
  {
   "cell_type": "code",
   "execution_count": 44,
   "metadata": {
    "collapsed": false
   },
   "outputs": [
    {
     "data": {
      "text/plain": [
       "(array([  48.,  118.,  242.,  374.,  351.,  494.,  545.,  694.,  269.,   62.]),\n",
       " array([ 0.68066841,  0.68397264,  0.68727688,  0.69058111,  0.69388534,\n",
       "         0.69718958,  0.70049381,  0.70379804,  0.70710227,  0.71040651,\n",
       "         0.71371074]),\n",
       " <a list of 10 Patch objects>)"
      ]
     },
     "execution_count": 44,
     "metadata": {},
     "output_type": "execute_result"
    },
    {
     "data": {
      "image/png": "[encoded data removed]",
      "text/plain": [
       "<matplotlib.figure.Figure at 0x10f532490>"
      ]
     },
     "metadata": {},
     "output_type": "display_data"
    }
   ],
   "source": [
    "plt.hist(model.predict_proba(test_x)[:,0])"
   ]
  },
  {
   "cell_type": "code",
   "execution_count": 47,
   "metadata": {
    "collapsed": false
   },
   "outputs": [
    {
     "name": "stdout",
     "output_type": "stream",
     "text": [
      "             precision    recall  f1-score   support\n",
      "\n",
      "          0       0.72      1.00      0.84      2308\n",
      "          1       0.00      0.00      0.00       889\n",
      "\n",
      "avg / total       0.52      0.72      0.61      3197\n",
      "\n",
      "[[2308    0]\n",
      " [ 889    0]]\n"
     ]
    }
   ],
   "source": [
    "predicted = model.predict(test_x)\n",
    "expected = test_y\n",
    "print(metrics.classification_report(expected, predicted))\n",
    "print(metrics.confusion_matrix(expected, predicted))"
   ]
  },
  {
   "cell_type": "code",
   "execution_count": null,
   "metadata": {
    "collapsed": true
   },
   "outputs": [],
   "source": []
  }
 ],
 "metadata": {
  "kernelspec": {
   "display_name": "Python 2",
   "language": "python",
   "name": "python2"
  },
  "language_info": {
   "codemirror_mode": {
    "name": "ipython",
    "version": 2
   },
   "file_extension": ".py",
   "mimetype": "text/x-python",
   "name": "python",
   "nbconvert_exporter": "python",
   "pygments_lexer": "ipython2",
   "version": "2.7.11"
  }
 },
 "nbformat": 4,
 "nbformat_minor": 0
}
