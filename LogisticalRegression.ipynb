{
 "cells": [
  {
   "cell_type": "code",
   "execution_count": 30,
   "metadata": {
    "collapsed": false,
    "deletable": true,
    "editable": true
   },
   "outputs": [],
   "source": [
    "import pandas as pd\n",
    "from gamescout_db import db, cur\n",
    "from sklearn.model_selection import cross_val_score\n",
    "from sklearn import linear_model\n",
    "import numpy as np\n",
    "import math\n",
    "from sklearn import metrics\n",
    "\n",
    "import matplotlib.pyplot as plt\n",
    "%matplotlib inline\n",
    "\n",
    "import warnings\n",
    "warnings.filterwarnings(action=\"ignore\", module=\"scipy\", message=\"^internal gelsd\")"
   ]
  },
  {
   "cell_type": "code",
   "execution_count": 2,
   "metadata": {
    "collapsed": false,
    "deletable": true,
    "editable": true
   },
   "outputs": [],
   "source": [
    "COLUMNS = ['HITS','1_AGO_AVG', '2_AGO_AVG', '3_AGO_AVG', '4_AGO_AVG', '5_AGO_AVG', '6_AGO_AVG','7_AGO_AVG', \n",
    "           '8_AGO_AVG', '9_AGO_AVG', '10_AGO_AVG','11_AGO_AVG', '12_AGO_AVG', '13_AGO_AVG', '14_AGO_AVG', \n",
    "           '15_AGO_AVG']"
   ]
  },
  {
   "cell_type": "code",
   "execution_count": 3,
   "metadata": {
    "collapsed": false,
    "deletable": true,
    "editable": true
   },
   "outputs": [],
   "source": [
    "data = pd.read_sql('select * from BatterStats;', con=db)\n",
    "\n",
    "data[\"GOT_HIT\"] = [1 if x > 0 else 0 for x in data[\"HITS\"]]\n",
    "data[\"NOT_HIT\"] = [1 if x == 0 else 1 for x in data[\"HITS\"]]\n",
    "\n",
    "data = data.dropna() #apply(pd.to_numeric, errors=\"ignore\")"
   ]
  },
  {
   "cell_type": "code",
   "execution_count": 4,
   "metadata": {
    "collapsed": false,
    "deletable": true,
    "editable": true
   },
   "outputs": [
    {
     "data": {
      "text/html": [
       "<div>\n",
       "<table border=\"1\" class=\"dataframe\">\n",
       "  <thead>\n",
       "    <tr style=\"text-align: right;\">\n",
       "      <th></th>\n",
       "      <th>1_AGO_AVG</th>\n",
       "      <th>2_AGO_AVG</th>\n",
       "      <th>3_AGO_AVG</th>\n",
       "      <th>4_AGO_AVG</th>\n",
       "      <th>5_AGO_AVG</th>\n",
       "      <th>6_AGO_AVG</th>\n",
       "      <th>7_AGO_AVG</th>\n",
       "      <th>8_AGO_AVG</th>\n",
       "      <th>9_AGO_AVG</th>\n",
       "      <th>10_AGO_AVG</th>\n",
       "      <th>11_AGO_AVG</th>\n",
       "      <th>12_AGO_AVG</th>\n",
       "      <th>13_AGO_AVG</th>\n",
       "      <th>14_AGO_AVG</th>\n",
       "      <th>15_AGO_AVG</th>\n",
       "    </tr>\n",
       "  </thead>\n",
       "  <tbody>\n",
       "    <tr>\n",
       "      <th>7548</th>\n",
       "      <td>0.500000</td>\n",
       "      <td>0.750000</td>\n",
       "      <td>0.50</td>\n",
       "      <td>0.000000</td>\n",
       "      <td>0.333333</td>\n",
       "      <td>0.000000</td>\n",
       "      <td>0.5</td>\n",
       "      <td>0.400000</td>\n",
       "      <td>0.25</td>\n",
       "      <td>0.500000</td>\n",
       "      <td>0.666667</td>\n",
       "      <td>1.00</td>\n",
       "      <td>0.333333</td>\n",
       "      <td>0.20</td>\n",
       "      <td>0.00</td>\n",
       "    </tr>\n",
       "    <tr>\n",
       "      <th>7898</th>\n",
       "      <td>0.000000</td>\n",
       "      <td>0.166667</td>\n",
       "      <td>0.60</td>\n",
       "      <td>0.400000</td>\n",
       "      <td>0.500000</td>\n",
       "      <td>0.200000</td>\n",
       "      <td>0.5</td>\n",
       "      <td>0.000000</td>\n",
       "      <td>0.60</td>\n",
       "      <td>0.333333</td>\n",
       "      <td>0.250000</td>\n",
       "      <td>0.00</td>\n",
       "      <td>0.500000</td>\n",
       "      <td>0.25</td>\n",
       "      <td>1.00</td>\n",
       "    </tr>\n",
       "    <tr>\n",
       "      <th>7899</th>\n",
       "      <td>0.250000</td>\n",
       "      <td>0.200000</td>\n",
       "      <td>0.00</td>\n",
       "      <td>0.333333</td>\n",
       "      <td>0.000000</td>\n",
       "      <td>0.250000</td>\n",
       "      <td>0.0</td>\n",
       "      <td>0.400000</td>\n",
       "      <td>0.00</td>\n",
       "      <td>0.250000</td>\n",
       "      <td>0.250000</td>\n",
       "      <td>0.50</td>\n",
       "      <td>0.000000</td>\n",
       "      <td>0.00</td>\n",
       "      <td>0.25</td>\n",
       "    </tr>\n",
       "    <tr>\n",
       "      <th>7934</th>\n",
       "      <td>0.333333</td>\n",
       "      <td>0.200000</td>\n",
       "      <td>0.25</td>\n",
       "      <td>0.200000</td>\n",
       "      <td>0.000000</td>\n",
       "      <td>0.000000</td>\n",
       "      <td>0.4</td>\n",
       "      <td>0.400000</td>\n",
       "      <td>0.00</td>\n",
       "      <td>0.000000</td>\n",
       "      <td>0.250000</td>\n",
       "      <td>0.25</td>\n",
       "      <td>0.666667</td>\n",
       "      <td>0.75</td>\n",
       "      <td>0.75</td>\n",
       "    </tr>\n",
       "    <tr>\n",
       "      <th>7996</th>\n",
       "      <td>0.200000</td>\n",
       "      <td>0.250000</td>\n",
       "      <td>0.25</td>\n",
       "      <td>0.666667</td>\n",
       "      <td>0.000000</td>\n",
       "      <td>0.333333</td>\n",
       "      <td>0.5</td>\n",
       "      <td>0.333333</td>\n",
       "      <td>0.60</td>\n",
       "      <td>0.333333</td>\n",
       "      <td>0.000000</td>\n",
       "      <td>0.00</td>\n",
       "      <td>0.000000</td>\n",
       "      <td>0.00</td>\n",
       "      <td>0.25</td>\n",
       "    </tr>\n",
       "  </tbody>\n",
       "</table>\n",
       "</div>"
      ],
      "text/plain": [
       "      1_AGO_AVG  2_AGO_AVG  3_AGO_AVG  4_AGO_AVG  5_AGO_AVG  6_AGO_AVG  \\\n",
       "7548   0.500000   0.750000       0.50   0.000000   0.333333   0.000000   \n",
       "7898   0.000000   0.166667       0.60   0.400000   0.500000   0.200000   \n",
       "7899   0.250000   0.200000       0.00   0.333333   0.000000   0.250000   \n",
       "7934   0.333333   0.200000       0.25   0.200000   0.000000   0.000000   \n",
       "7996   0.200000   0.250000       0.25   0.666667   0.000000   0.333333   \n",
       "\n",
       "      7_AGO_AVG  8_AGO_AVG  9_AGO_AVG  10_AGO_AVG  11_AGO_AVG  12_AGO_AVG  \\\n",
       "7548        0.5   0.400000       0.25    0.500000    0.666667        1.00   \n",
       "7898        0.5   0.000000       0.60    0.333333    0.250000        0.00   \n",
       "7899        0.0   0.400000       0.00    0.250000    0.250000        0.50   \n",
       "7934        0.4   0.400000       0.00    0.000000    0.250000        0.25   \n",
       "7996        0.5   0.333333       0.60    0.333333    0.000000        0.00   \n",
       "\n",
       "      13_AGO_AVG  14_AGO_AVG  15_AGO_AVG  \n",
       "7548    0.333333        0.20        0.00  \n",
       "7898    0.500000        0.25        1.00  \n",
       "7899    0.000000        0.00        0.25  \n",
       "7934    0.666667        0.75        0.75  \n",
       "7996    0.000000        0.00        0.25  "
      ]
     },
     "execution_count": 4,
     "metadata": {},
     "output_type": "execute_result"
    }
   ],
   "source": [
    "y = data[\"GOT_HIT\"]\n",
    "x = data[['1_AGO_AVG', '2_AGO_AVG', '3_AGO_AVG', '4_AGO_AVG', '5_AGO_AVG', '6_AGO_AVG','7_AGO_AVG', '8_AGO_AVG', \n",
    "          '9_AGO_AVG', '10_AGO_AVG', '11_AGO_AVG', '12_AGO_AVG', '13_AGO_AVG', '14_AGO_AVG', '15_AGO_AVG']]\n",
    "x.head()"
   ]
  },
  {
   "cell_type": "code",
   "execution_count": 5,
   "metadata": {
    "collapsed": false
   },
   "outputs": [
    {
     "data": {
      "text/plain": [
       "144543"
      ]
     },
     "execution_count": 5,
     "metadata": {},
     "output_type": "execute_result"
    }
   ],
   "source": [
    "len(x)"
   ]
  },
  {
   "cell_type": "code",
   "execution_count": 6,
   "metadata": {
    "collapsed": false,
    "deletable": true,
    "editable": true
   },
   "outputs": [
    {
     "data": {
      "text/plain": [
       "array([[ 0.27450486,  0.17103172,  0.16340166,  0.12950665,  0.1201322 ,\n",
       "         0.13259823,  0.16066355,  0.13198527,  0.1607471 ,  0.12122768,\n",
       "         0.13749373,  0.13000809,  0.10865749,  0.11443541,  0.11117684]])"
      ]
     },
     "execution_count": 6,
     "metadata": {},
     "output_type": "execute_result"
    }
   ],
   "source": [
    "train_x = x[:110000]\n",
    "test_x = x[110001:]\n",
    "\n",
    "train_y = y[:110000]\n",
    "test_y = y[110001:]\n",
    "\n",
    "model = linear_model.LogisticRegression(class_weight='balanced')\n",
    "model.fit(train_x, train_y)\n",
    "\n",
    "model.coef_"
   ]
  },
  {
   "cell_type": "code",
   "execution_count": 7,
   "metadata": {
    "collapsed": false,
    "deletable": true,
    "editable": true
   },
   "outputs": [
    {
     "data": {
      "text/plain": [
       "(array([    21.,    195.,   1142.,   3935.,   8079.,  10139.,   7348.,\n",
       "          2920.,    688.,     75.]),\n",
       " array([ 0.34179155,  0.37108213,  0.40037271,  0.42966329,  0.45895387,\n",
       "         0.48824444,  0.51753502,  0.5468256 ,  0.57611618,  0.60540676,\n",
       "         0.63469734]),\n",
       " <a list of 10 Patch objects>)"
      ]
     },
     "execution_count": 7,
     "metadata": {},
     "output_type": "execute_result"
    },
    {
     "data": {
      "image/png": "[encoded data removed]",
      "text/plain": [
       "<matplotlib.figure.Figure at 0x13a9a2a10>"
      ]
     },
     "metadata": {},
     "output_type": "display_data"
    }
   ],
   "source": [
    "plt.hist(model.predict_proba(test_x)[:,0])"
   ]
  },
  {
   "cell_type": "code",
   "execution_count": 8,
   "metadata": {
    "collapsed": false,
    "deletable": true,
    "editable": true
   },
   "outputs": [
    {
     "name": "stdout",
     "output_type": "stream",
     "text": [
      "             precision    recall  f1-score   support\n",
      "\n",
      "          0       0.42      0.54      0.47     13424\n",
      "          1       0.65      0.54      0.59     21118\n",
      "\n",
      "avg / total       0.56      0.54      0.54     34542\n",
      "\n",
      "[[ 7190  6234]\n",
      " [ 9742 11376]]\n"
     ]
    }
   ],
   "source": [
    "predicted = model.predict(test_x)\n",
    "expected = test_y\n",
    "print(metrics.classification_report(expected, predicted))\n",
    "print(metrics.confusion_matrix(expected, predicted))"
   ]
  },
  {
   "cell_type": "code",
   "execution_count": 28,
   "metadata": {
    "collapsed": false
   },
   "outputs": [],
   "source": [
    "probs = model.predict_proba(test_x)[:,0]\n",
    "pairs = zip(expected, probs)"
   ]
  },
  {
   "cell_type": "code",
   "execution_count": 84,
   "metadata": {
    "collapsed": false
   },
   "outputs": [
    {
     "name": "stdout",
     "output_type": "stream",
     "text": [
      "50\n",
      "49\n",
      "48\n",
      "39\n",
      "43\n",
      "47\n",
      "51\n",
      "46\n",
      "42\n",
      "53\n",
      "56\n",
      "54\n",
      "44\n",
      "45\n",
      "58\n",
      "60\n",
      "61\n",
      "52\n",
      "55\n",
      "57\n",
      "41\n",
      "40\n",
      "38\n",
      "59\n",
      "37\n",
      "62\n",
      "36\n",
      "35\n",
      "34\n",
      "63\n"
     ]
    }
   ],
   "source": [
    "prob_bins = {}\n",
    "x = np.array([probs])\n",
    "bins = np.linspace(0, 1, num=101)\n",
    "\n",
    "inds = np.digitize(x, bins)\n",
    "\n",
    "for i, pair in enumerate(pairs):\n",
    "    key = str(inds[0][i] - 1)\n",
    "    \n",
    "    if key not in prob_bins:\n",
    "        print(key)\n",
    "        prob_bins[key] = []\n",
    "        \n",
    "    prob_bins[key].append(pair)"
   ]
  },
  {
   "cell_type": "code",
   "execution_count": 97,
   "metadata": {
    "collapsed": false,
    "scrolled": true
   },
   "outputs": [
    {
     "name": "stdout",
     "output_type": "stream",
     "text": [
      "Key: 34\n",
      "Num Hits: 1\n",
      "Tot player in bin: 2\n",
      "Pct. Hit: 0.5\n",
      "\n",
      "Key: 35\n",
      "Num Hits: 2\n",
      "Tot player in bin: 5\n",
      "Pct. Hit: 0.4\n",
      "\n",
      "Key: 36\n",
      "Num Hits: 8\n",
      "Tot player in bin: 12\n",
      "Pct. Hit: 0.666666666667\n",
      "\n",
      "Key: 37\n",
      "Num Hits: 21\n",
      "Tot player in bin: 27\n",
      "Pct. Hit: 0.777777777778\n",
      "\n",
      "Key: 38\n",
      "Num Hits: 36\n",
      "Tot player in bin: 63\n",
      "Pct. Hit: 0.571428571429\n",
      "\n",
      "Key: 39\n",
      "Num Hits: 67\n",
      "Tot player in bin: 101\n",
      "Pct. Hit: 0.663366336634\n",
      "\n",
      "Key: 40\n",
      "Num Hits: 139\n",
      "Tot player in bin: 227\n",
      "Pct. Hit: 0.612334801762\n",
      "\n",
      "Key: 41\n",
      "Num Hits: 241\n",
      "Tot player in bin: 365\n",
      "Pct. Hit: 0.660273972603\n",
      "\n",
      "Key: 42\n",
      "Num Hits: 388\n",
      "Tot player in bin: 580\n",
      "Pct. Hit: 0.668965517241\n",
      "\n",
      "Key: 43\n",
      "Num Hits: 674\n",
      "Tot player in bin: 996\n",
      "Pct. Hit: 0.676706827309\n",
      "\n",
      "Key: 44\n",
      "Num Hits: 890\n",
      "Tot player in bin: 1328\n",
      "Pct. Hit: 0.670180722892\n",
      "\n",
      "Key: 45\n",
      "Num Hits: 1176\n",
      "Tot player in bin: 1811\n",
      "Pct. Hit: 0.649364991717\n",
      "\n",
      "Key: 46\n",
      "Num Hits: 1484\n",
      "Tot player in bin: 2304\n",
      "Pct. Hit: 0.644097222222\n",
      "\n",
      "Key: 47\n",
      "Num Hits: 1849\n",
      "Tot player in bin: 2847\n",
      "Pct. Hit: 0.649455567264\n",
      "\n",
      "Key: 48\n",
      "Num Hits: 2086\n",
      "Tot player in bin: 3291\n",
      "Pct. Hit: 0.633849893649\n",
      "\n",
      "Key: 49\n",
      "Num Hits: 2314\n",
      "Tot player in bin: 3651\n",
      "Pct. Hit: 0.633798959189\n",
      "\n",
      "Key: 50\n",
      "Num Hits: 2085\n",
      "Tot player in bin: 3426\n",
      "Pct. Hit: 0.608581436077\n",
      "\n",
      "Key: 51\n",
      "Num Hits: 1924\n",
      "Tot player in bin: 3205\n",
      "Pct. Hit: 0.60031201248\n",
      "\n",
      "Key: 52\n",
      "Num Hits: 1738\n",
      "Tot player in bin: 2928\n",
      "Pct. Hit: 0.593579234973\n",
      "\n",
      "Key: 53\n",
      "Num Hits: 1425\n",
      "Tot player in bin: 2412\n",
      "Pct. Hit: 0.5907960199\n",
      "\n",
      "Key: 54\n",
      "Num Hits: 979\n",
      "Tot player in bin: 1781\n",
      "Pct. Hit: 0.549691184728\n",
      "\n",
      "Key: 55\n",
      "Num Hits: 668\n",
      "Tot player in bin: 1264\n",
      "Pct. Hit: 0.528481012658\n",
      "\n",
      "Key: 56\n",
      "Num Hits: 438\n",
      "Tot player in bin: 817\n",
      "Pct. Hit: 0.536107711138\n",
      "\n",
      "Key: 57\n",
      "Num Hits: 239\n",
      "Tot player in bin: 507\n",
      "Pct. Hit: 0.471400394477\n",
      "\n",
      "Key: 58\n",
      "Num Hits: 144\n",
      "Tot player in bin: 307\n",
      "Pct. Hit: 0.469055374593\n",
      "\n",
      "Key: 59\n",
      "Num Hits: 63\n",
      "Tot player in bin: 161\n",
      "Pct. Hit: 0.391304347826\n",
      "\n",
      "Key: 60\n",
      "Num Hits: 26\n",
      "Tot player in bin: 86\n",
      "Pct. Hit: 0.302325581395\n",
      "\n",
      "Key: 61\n",
      "Num Hits: 9\n",
      "Tot player in bin: 27\n",
      "Pct. Hit: 0.333333333333\n",
      "\n",
      "Key: 62\n",
      "Num Hits: 4\n",
      "Tot player in bin: 9\n",
      "Pct. Hit: 0.444444444444\n",
      "\n",
      "Key: 63\n",
      "Num Hits: 0\n",
      "Tot player in bin: 2\n",
      "Pct. Hit: 0.0\n",
      "\n"
     ]
    }
   ],
   "source": [
    "pct_hit = []\n",
    "for key in sorted(prob_bins.keys()):\n",
    "    hits = [sum(x) for x in zip(*prob_bins[str(key)])][0]\n",
    "    total = len(prob_bins[str(key)])\n",
    "    pct = float(hits)/float(total)\n",
    "    pct_hit.append(pct)\n",
    "\n",
    "    print(\"Key: \" + str(key))\n",
    "    print(\"Num Hits: \" + str(hits))\n",
    "    print(\"Tot player in bin: \" + str(total))\n",
    "    print(\"Pct. Hit: \" + str(float(hits)/float(total)))\n",
    "    print(\"\")"
   ]
  },
  {
   "cell_type": "code",
   "execution_count": 98,
   "metadata": {
    "collapsed": false
   },
   "outputs": [
    {
     "data": {
      "text/plain": [
       "<matplotlib.collections.PathCollection at 0x13955f750>"
      ]
     },
     "execution_count": 98,
     "metadata": {},
     "output_type": "execute_result"
    },
    {
     "data": {
      "image/png": "[encoded data removed]",
      "text/plain": [
       "<matplotlib.figure.Figure at 0x139758ad0>"
      ]
     },
     "metadata": {},
     "output_type": "display_data"
    }
   ],
   "source": [
    "plt.scatter(sorted(prob_bins.keys()),pct_hit)"
   ]
  },
  {
   "cell_type": "code",
   "execution_count": null,
   "metadata": {
    "collapsed": true
   },
   "outputs": [],
   "source": []
  }
 ],
 "metadata": {
  "kernelspec": {
   "display_name": "Python 2",
   "language": "python",
   "name": "python2"
  },
  "language_info": {
   "codemirror_mode": {
    "name": "ipython",
    "version": 2
   },
   "file_extension": ".py",
   "mimetype": "text/x-python",
   "name": "python",
   "nbconvert_exporter": "python",
   "pygments_lexer": "ipython2",
   "version": "2.7.13"
  }
 },
 "nbformat": 4,
 "nbformat_minor": 0
}
