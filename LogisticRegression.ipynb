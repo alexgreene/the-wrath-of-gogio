{
 "cells": [
  {
   "cell_type": "code",
   "execution_count": 19,
   "metadata": {
    "collapsed": false,
    "deletable": true,
    "editable": true
   },
   "outputs": [],
   "source": [
    "import pandas as pd\n",
    "from gamescout_db import db, cur\n",
    "from sklearn.model_selection import cross_val_score\n",
    "from sklearn import linear_model\n",
    "import numpy as np\n",
    "import math\n",
    "from sklearn import metrics\n",
    "\n",
    "import matplotlib.pyplot as plt\n",
    "%matplotlib inline\n",
    "\n",
    "import warnings\n",
    "warnings.filterwarnings(action=\"ignore\", module=\"scipy\", message=\"^internal gelsd\")\n",
    "\n",
    "import statsmodels.discrete.discrete_model as sm"
   ]
  },
  {
   "cell_type": "code",
   "execution_count": null,
   "metadata": {
    "collapsed": true
   },
   "outputs": [],
   "source": []
  },
  {
   "cell_type": "code",
   "execution_count": 20,
   "metadata": {
    "collapsed": true
   },
   "outputs": [],
   "source": [
    "# DATA COLLECTION"
   ]
  },
  {
   "cell_type": "code",
   "execution_count": 21,
   "metadata": {
    "collapsed": true
   },
   "outputs": [],
   "source": [
    "batter_stats_COLUMNS = ['HITS','1_AGO_AVG', '2_AGO_AVG', '3_AGO_AVG', '4_AGO_AVG', '5_AGO_AVG', '6_AGO_AVG','7_AGO_AVG', 'P_ID','G_ID', 'BAT_ORDER', 'G_DATE', 'TEAM']\n",
    "\n",
    "at_bats_COLUMNS = ['BATTER', 'PITCHER', 'G_ID', 'BATTER_LR', 'PITCHER_LR', 'EVENT']\n",
    "\n",
    "pitcher_stats_COLUMNS = ['P_ID', 'G_ID', 'GAME_SCORE', 'BATTERS_FACED', 'TEAM', 'GAME_SCORE_1AGO', 'GAME_SCORE_2AGO', 'GAME_SCORE_3AGO']"
   ]
  },
  {
   "cell_type": "code",
   "execution_count": 22,
   "metadata": {
    "collapsed": false,
    "deletable": true,
    "editable": true
   },
   "outputs": [],
   "source": [
    "batter_stats = pd.read_sql('select * from BatterStats;', con=db)[batter_stats_COLUMNS]\n",
    "batter_stats[\"GOT_HIT\"] = [1 if x > 0 else 0 for x in batter_stats[\"HITS\"]]\n",
    "batter_stats[\"NOT_HIT\"] = [1 if x == 0 else 0 for x in batter_stats[\"HITS\"]]\n",
    "\n",
    "batter_stats[\"1_AGO\"] = [0 if x == 0 else 1 for x in batter_stats[\"1_AGO_AVG\"]]\n",
    "batter_stats[\"2_AGO\"] = [0 if x == 0 else 1 for x in batter_stats[\"2_AGO_AVG\"]]\n",
    "batter_stats[\"3_AGO\"] = [0 if x == 0 else 1 for x in batter_stats[\"3_AGO_AVG\"]]\n",
    "batter_stats[\"4_AGO\"] = [0 if x == 0 else 1 for x in batter_stats[\"4_AGO_AVG\"]]\n",
    "batter_stats[\"5_AGO\"] = [0 if x == 0 else 1 for x in batter_stats[\"5_AGO_AVG\"]]\n",
    "batter_stats[\"6_AGO\"] = [0 if x == 0 else 1 for x in batter_stats[\"6_AGO_AVG\"]]\n",
    "batter_stats[\"7_AGO\"] = [0 if x == 0 else 1 for x in batter_stats[\"7_AGO_AVG\"]]\n",
    "\n",
    "batter_stats = batter_stats[['GOT_HIT', 'NOT_HIT', '1_AGO', '2_AGO', '3_AGO', '4_AGO', '5_AGO', '6_AGO','7_AGO', 'P_ID', 'G_ID', 'BAT_ORDER', 'G_DATE', 'TEAM']]"
   ]
  },
  {
   "cell_type": "code",
   "execution_count": 23,
   "metadata": {
    "collapsed": false
   },
   "outputs": [],
   "source": [
    "pitcher_stats = pd.read_sql('select * from PitcherStats;', con=db)[pitcher_stats_COLUMNS]"
   ]
  },
  {
   "cell_type": "code",
   "execution_count": 24,
   "metadata": {
    "collapsed": true
   },
   "outputs": [],
   "source": [
    "at_bats = pd.read_sql('select * from AtBats;', con=db)[at_bats_COLUMNS]"
   ]
  },
  {
   "cell_type": "code",
   "execution_count": 25,
   "metadata": {
    "collapsed": false
   },
   "outputs": [],
   "source": [
    "batter_stats = batter_stats[batter_stats['G_ID'].isin(at_bats['G_ID'].tolist())]"
   ]
  },
  {
   "cell_type": "code",
   "execution_count": null,
   "metadata": {
    "collapsed": false
   },
   "outputs": [],
   "source": []
  },
  {
   "cell_type": "code",
   "execution_count": 26,
   "metadata": {
    "collapsed": false
   },
   "outputs": [
    {
     "name": "stderr",
     "output_type": "stream",
     "text": [
      "/usr/local/lib/python2.7/site-packages/ipykernel/__main__.py:12: UserWarning: Boolean Series key will be reindexed to match DataFrame index.\n",
      "/usr/local/lib/python2.7/site-packages/ipykernel/__main__.py:13: FutureWarning: sort(columns=....) is deprecated, use sort_values(by=.....)\n",
      "/usr/local/lib/python2.7/site-packages/ipykernel/__main__.py:15: UserWarning: Boolean Series key will be reindexed to match DataFrame index.\n"
     ]
    },
    {
     "name": "stdout",
     "output_type": "stream",
     "text": [
      "0\n",
      "100\n"
     ]
    }
   ],
   "source": [
    "hist_AB_series = []\n",
    "hist_H_series = []\n",
    "OPP_ID_series = []\n",
    "GS1AGO_series = []\n",
    "GS2AGO_series = []\n",
    "GS3AGO_series = []\n",
    "order_series = []\n",
    "\n",
    "for i in range(0, 100):\n",
    "    batter = batter_stats.ix[i]\n",
    "    starting_pitcher = pitcher_stats[pitcher_stats['G_ID'] == batter['G_ID']]\n",
    "    starting_pitcher = starting_pitcher[pitcher_stats['TEAM'] != batter['TEAM']]\n",
    "    starting_pitcher = starting_pitcher.sort(['BATTERS_FACED'], ascending=False).head(1)\n",
    "    matchups = at_bats[at_bats['BATTER'] == batter['P_ID']]\n",
    "    matchups = matchups[at_bats['PITCHER'] == starting_pitcher['P_ID'].iloc[0]]\n",
    "    #matchups = matchups[at_bats['G_DATE'] < batter['G_DATE']]\n",
    "    matchups_hits = matchups[matchups['EVENT'].isin(['Single', 'Double', 'Triple', 'Home Run'])]\n",
    "    hist_AB = len(matchups)\n",
    "    hist_H = len(matchups_hits)\n",
    "\n",
    "    hist_AB_series.append(hist_AB)\n",
    "    hist_H_series.append(hist_H)\n",
    "    OPP_ID_series.append(starting_pitcher['P_ID'].iloc[0])\n",
    "\n",
    "    GS1AGO_series.append(starting_pitcher['GAME_SCORE_1AGO'].iloc[0])\n",
    "    GS2AGO_series.append(starting_pitcher['GAME_SCORE_2AGO'].iloc[0])\n",
    "    GS3AGO_series.append(starting_pitcher['GAME_SCORE_3AGO'].iloc[0])\n",
    "    order_series.append(batter['BAT_ORDER'])\n",
    "    \n",
    "    if i % 100 == 0:\n",
    "        print i\n",
    "        if i == 100:\n",
    "            break\n",
    "    \n",
    "batter_stats['hist_AB'] = pd.Series(hist_AB_series)\n",
    "batter_stats['hist_H'] = pd.Series(hist_H_series)\n",
    "batter_stats['starting_P_ID'] = pd.Series(OPP_ID_series)\n",
    "batter_stats['GS1AGO'] = pd.Series(GS1AGO_series)\n",
    "batter_stats['GS2AGO'] = pd.Series(GS2AGO_series)\n",
    "batter_stats['GS3AGO'] = pd.Series(GS3AGO_series)\n",
    "batter_stats['BAT_ORDER'] = pd.Series(order_series)"
   ]
  },
  {
   "cell_type": "code",
   "execution_count": null,
   "metadata": {
    "collapsed": false,
    "deletable": true,
    "editable": true
   },
   "outputs": [],
   "source": [
    "# batter_stats.to_csv('SAVED.csv')"
   ]
  },
  {
   "cell_type": "code",
   "execution_count": 30,
   "metadata": {
    "collapsed": false
   },
   "outputs": [
    {
     "name": "stdout",
     "output_type": "stream",
     "text": [
      "      GOT_HIT  NOT_HIT  1_AGO  2_AGO  3_AGO  4_AGO  5_AGO  6_AGO  7_AGO  \\\n",
      "0           1        0      1      1      1      1      1      1      1   \n",
      "1           0        1      1      1      1      1      1      1      1   \n",
      "2           1        0      1      1      1      1      1      1      1   \n",
      "3           0        1      1      1      1      1      1      1      1   \n",
      "4           1        0      1      1      1      1      1      1      1   \n",
      "5           0        1      1      1      1      1      1      1      1   \n",
      "6           1        0      1      1      1      1      1      1      1   \n",
      "7           0        1      1      1      1      1      1      1      1   \n",
      "8           1        0      1      1      1      1      1      1      1   \n",
      "9           1        0      1      1      1      1      1      1      1   \n",
      "10          0        1      1      1      1      1      1      1      1   \n",
      "11          0        1      1      1      1      1      1      1      1   \n",
      "12          1        0      1      1      1      1      1      1      1   \n",
      "13          0        1      1      1      1      1      1      1      1   \n",
      "14          0        1      1      1      1      1      1      1      1   \n",
      "15          1        0      1      1      1      1      1      1      1   \n",
      "16          0        1      1      1      1      1      1      1      1   \n",
      "17          0        1      1      1      1      1      1      1      1   \n",
      "18          0        1      1      1      1      1      1      1      1   \n",
      "19          0        1      1      1      1      1      1      1      1   \n",
      "20          0        1      1      1      1      1      1      1      1   \n",
      "21          1        0      1      1      1      1      1      1      1   \n",
      "22          1        0      1      1      1      1      1      1      1   \n",
      "23          0        1      1      1      1      1      1      1      1   \n",
      "24          1        0      1      1      1      1      1      1      1   \n",
      "25          0        1      1      1      1      1      1      1      1   \n",
      "26          1        0      1      1      1      1      1      1      1   \n",
      "27          1        0      1      1      1      1      1      1      1   \n",
      "28          1        0      1      1      1      1      1      1      1   \n",
      "29          0        1      1      1      1      1      1      1      1   \n",
      "...       ...      ...    ...    ...    ...    ...    ...    ...    ...   \n",
      "976         1        0      0      1      1      1      1      1      1   \n",
      "977         0        1      1      1      1      1      1      1      1   \n",
      "978         0        1      1      1      1      1      1      1      1   \n",
      "979         0        1      1      1      1      1      1      1      1   \n",
      "980         0        1      1      1      1      1      1      1      1   \n",
      "981         0        1      1      1      1      1      1      1      1   \n",
      "982         1        0      1      1      1      1      1      1      1   \n",
      "983         0        1      0      1      1      1      1      1      1   \n",
      "984         1        0      1      1      1      1      1      1      1   \n",
      "985         0        1      1      1      1      1      1      1      1   \n",
      "986         1        0      1      1      1      1      1      1      1   \n",
      "987         1        0      0      1      1      1      1      1      1   \n",
      "988         1        0      1      1      1      1      1      1      1   \n",
      "989         1        0      1      1      1      1      1      1      1   \n",
      "990         0        1      0      1      1      1      1      1      1   \n",
      "991         0        1      1      1      1      1      1      1      1   \n",
      "992         0        1      1      1      1      1      1      1      1   \n",
      "993         0        1      1      1      1      1      1      1      1   \n",
      "994         0        1      1      1      1      1      1      1      1   \n",
      "995         0        1      1      1      1      1      1      1      1   \n",
      "996         1        0      0      1      1      1      1      1      1   \n",
      "997         1        0      0      1      1      1      1      1      1   \n",
      "998         0        1      1      1      1      1      1      1      1   \n",
      "999         1        0      0      1      1      1      1      1      1   \n",
      "1000        0        1      1      1      1      1      1      1      1   \n",
      "1001        0        1      1      1      1      1      1      1      1   \n",
      "1002        0        1      1      1      1      1      1      1      1   \n",
      "1003        0        1      1      1      1      1      1      1      1   \n",
      "1004        0        1      1      1      1      1      1      1      1   \n",
      "1005        0        1      1      1      1      1      1      1      1   \n",
      "\n",
      "        P_ID                        G_ID  BAT_ORDER      G_DATE       TEAM  \\\n",
      "0     279577  2012_03_28_detmlb_slnmlb_1      100.0  2012-03-28  Cardinals   \n",
      "1     453203  2012_03_28_detmlb_slnmlb_1      101.0  2012-03-28  Cardinals   \n",
      "2     136860  2012_03_28_detmlb_slnmlb_1      200.0  2012-03-28  Cardinals   \n",
      "3     459939  2012_03_28_detmlb_slnmlb_1      201.0  2012-03-28  Cardinals   \n",
      "4     464299  2012_03_28_detmlb_slnmlb_1      202.0  2012-03-28  Cardinals   \n",
      "5     407812  2012_03_28_detmlb_slnmlb_1      300.0  2012-03-28  Cardinals   \n",
      "6     518900  2012_03_28_detmlb_slnmlb_1      301.0  2012-03-28  Cardinals   \n",
      "7     501896  2012_03_28_detmlb_slnmlb_1      400.0  2012-03-28  Cardinals   \n",
      "8     572761  2012_03_28_detmlb_slnmlb_1      401.0  2012-03-28  Cardinals   \n",
      "9     204020  2012_03_28_detmlb_slnmlb_1      500.0  2012-03-28  Cardinals   \n",
      "10    425877  2012_03_28_detmlb_slnmlb_1      600.0  2012-03-28  Cardinals   \n",
      "11    457762  2012_03_28_detmlb_slnmlb_1      601.0  2012-03-28  Cardinals   \n",
      "12    445055  2012_03_28_detmlb_slnmlb_1      700.0  2012-03-28  Cardinals   \n",
      "13    477569  2012_03_28_detmlb_slnmlb_1      701.0  2012-03-28  Cardinals   \n",
      "14    435400  2012_03_28_detmlb_slnmlb_1      702.0  2012-03-28  Cardinals   \n",
      "15    460022  2012_03_28_detmlb_slnmlb_1      800.0  2012-03-28  Cardinals   \n",
      "16    425794  2012_03_28_detmlb_slnmlb_1      900.0  2012-03-28  Cardinals   \n",
      "17    240694  2012_03_28_detmlb_slnmlb_1      901.0  2012-03-28  Cardinals   \n",
      "18    594824  2012_03_28_detmlb_slnmlb_1      902.0  2012-03-28  Cardinals   \n",
      "19    518614  2012_03_28_detmlb_slnmlb_1      903.0  2012-03-28  Cardinals   \n",
      "20    457706  2012_03_28_detmlb_slnmlb_1      100.0  2012-03-28     Tigers   \n",
      "21    570615  2012_03_28_detmlb_slnmlb_1      101.0  2012-03-28     Tigers   \n",
      "22    453269  2012_03_28_detmlb_slnmlb_1      200.0  2012-03-28     Tigers   \n",
      "23    446392  2012_03_28_detmlb_slnmlb_1      201.0  2012-03-28     Tigers   \n",
      "24    425509  2012_03_28_detmlb_slnmlb_1      300.0  2012-03-28     Tigers   \n",
      "25    553988  2012_03_28_detmlb_slnmlb_1      301.0  2012-03-28     Tigers   \n",
      "26    430603  2012_03_28_detmlb_slnmlb_1      400.0  2012-03-28     Tigers   \n",
      "27    543108  2012_03_28_detmlb_slnmlb_1      500.0  2012-03-28     Tigers   \n",
      "28    488671  2012_03_28_detmlb_slnmlb_1      600.0  2012-03-28     Tigers   \n",
      "29    408042  2012_03_28_detmlb_slnmlb_1      601.0  2012-03-28     Tigers   \n",
      "...      ...                         ...        ...         ...        ...   \n",
      "976   460077  2012_03_29_minmlb_pitmlb_1        NaN  2012-03-29      Twins   \n",
      "977   476011  2012_03_29_minmlb_pitmlb_1        NaN  2012-03-29      Twins   \n",
      "978   454537  2012_03_29_minmlb_pitmlb_1        NaN  2012-03-29      Twins   \n",
      "979   502272  2012_03_29_minmlb_pitmlb_1        NaN  2012-03-29      Twins   \n",
      "980   488751  2012_03_29_minmlb_pitmlb_1        NaN  2012-03-29      Twins   \n",
      "981   457789  2012_03_29_seamlb_oakmlb_1        NaN  2012-03-29  Athletics   \n",
      "982   460060  2012_03_29_seamlb_oakmlb_1        NaN  2012-03-29  Athletics   \n",
      "983   424825  2012_03_29_seamlb_oakmlb_1        NaN  2012-03-29  Athletics   \n",
      "984   430404  2012_03_29_seamlb_oakmlb_1        NaN  2012-03-29  Athletics   \n",
      "985   435559  2012_03_29_seamlb_oakmlb_1        NaN  2012-03-29  Athletics   \n",
      "986   493316  2012_03_29_seamlb_oakmlb_1        NaN  2012-03-29  Athletics   \n",
      "987   502210  2012_03_29_seamlb_oakmlb_1        NaN  2012-03-29  Athletics   \n",
      "988   518626  2012_03_29_seamlb_oakmlb_1        NaN  2012-03-29  Athletics   \n",
      "989   451500  2012_03_29_seamlb_oakmlb_1        NaN  2012-03-29  Athletics   \n",
      "990   450315  2012_03_29_seamlb_oakmlb_1        NaN  2012-03-29  Athletics   \n",
      "991   112526  2012_03_29_seamlb_oakmlb_1        NaN  2012-03-29  Athletics   \n",
      "992   346797  2012_03_29_seamlb_oakmlb_1        NaN  2012-03-29  Athletics   \n",
      "993   408210  2012_03_29_seamlb_oakmlb_1        NaN  2012-03-29   Mariners   \n",
      "994   554429  2012_03_29_seamlb_oakmlb_1        NaN  2012-03-29   Mariners   \n",
      "995   400085  2012_03_29_seamlb_oakmlb_1        NaN  2012-03-29   Mariners   \n",
      "996   475253  2012_03_29_seamlb_oakmlb_1        NaN  2012-03-29   Mariners   \n",
      "997   524968  2012_03_29_seamlb_oakmlb_1        NaN  2012-03-29   Mariners   \n",
      "998   572122  2012_03_29_seamlb_oakmlb_1        NaN  2012-03-29   Mariners   \n",
      "999   400018  2012_03_29_seamlb_oakmlb_1        NaN  2012-03-29   Mariners   \n",
      "1000  459431  2012_03_29_seamlb_oakmlb_1        NaN  2012-03-29   Mariners   \n",
      "1001  453895  2012_03_29_seamlb_oakmlb_1        NaN  2012-03-29   Mariners   \n",
      "1002  450306  2012_03_29_seamlb_oakmlb_1        NaN  2012-03-29   Mariners   \n",
      "1003  518875  2012_03_29_seamlb_oakmlb_1        NaN  2012-03-29   Mariners   \n",
      "1004  430941  2012_03_29_seamlb_oakmlb_1        NaN  2012-03-29   Mariners   \n",
      "1005  447755  2012_03_29_seamlb_oakmlb_1        NaN  2012-03-29   Mariners   \n",
      "\n",
      "      hist_AB  hist_H  starting_P_ID  GS1AGO  GS2AGO  GS3AGO  \n",
      "0         0.0     0.0       592767.0     NaN     NaN     NaN  \n",
      "1         2.0     1.0       592767.0     NaN     NaN     NaN  \n",
      "2        14.0     1.0       592767.0     NaN     NaN     NaN  \n",
      "3         0.0     0.0       592767.0     NaN     NaN     NaN  \n",
      "4         0.0     0.0       592767.0     NaN     NaN     NaN  \n",
      "5         0.0     0.0       592767.0     NaN     NaN     NaN  \n",
      "6         0.0     0.0       592767.0     NaN     NaN     NaN  \n",
      "7         2.0     0.0       592767.0     NaN     NaN     NaN  \n",
      "8         0.0     0.0       592767.0     NaN     NaN     NaN  \n",
      "9         2.0     1.0       592767.0     NaN     NaN     NaN  \n",
      "10        0.0     0.0       592767.0     NaN     NaN     NaN  \n",
      "11        0.0     0.0       592767.0     NaN     NaN     NaN  \n",
      "12        0.0     0.0       592767.0     NaN     NaN     NaN  \n",
      "13        0.0     0.0       592767.0     NaN     NaN     NaN  \n",
      "14        0.0     0.0       592767.0     NaN     NaN     NaN  \n",
      "15        0.0     0.0       592767.0     NaN     NaN     NaN  \n",
      "16        0.0     0.0       592767.0     NaN     NaN     NaN  \n",
      "17        0.0     0.0       592767.0     NaN     NaN     NaN  \n",
      "18        0.0     0.0       592767.0     NaN     NaN     NaN  \n",
      "19        0.0     0.0       592767.0     NaN     NaN     NaN  \n",
      "20        0.0     0.0       425794.0     NaN     NaN     NaN  \n",
      "21        0.0     0.0       425794.0     NaN     NaN     NaN  \n",
      "22        3.0     1.0       425794.0     NaN     NaN     NaN  \n",
      "23        0.0     0.0       425794.0     NaN     NaN     NaN  \n",
      "24        0.0     0.0       425794.0     NaN     NaN     NaN  \n",
      "25        0.0     0.0       425794.0     NaN     NaN     NaN  \n",
      "26        2.0     0.0       425794.0     NaN     NaN     NaN  \n",
      "27        0.0     0.0       425794.0     NaN     NaN     NaN  \n",
      "28        0.0     0.0       425794.0     NaN     NaN     NaN  \n",
      "29        0.0     0.0       425794.0     NaN     NaN     NaN  \n",
      "...       ...     ...            ...     ...     ...     ...  \n",
      "976       NaN     NaN            NaN     NaN     NaN     NaN  \n",
      "977       NaN     NaN            NaN     NaN     NaN     NaN  \n",
      "978       NaN     NaN            NaN     NaN     NaN     NaN  \n",
      "979       NaN     NaN            NaN     NaN     NaN     NaN  \n",
      "980       NaN     NaN            NaN     NaN     NaN     NaN  \n",
      "981       NaN     NaN            NaN     NaN     NaN     NaN  \n",
      "982       NaN     NaN            NaN     NaN     NaN     NaN  \n",
      "983       NaN     NaN            NaN     NaN     NaN     NaN  \n",
      "984       NaN     NaN            NaN     NaN     NaN     NaN  \n",
      "985       NaN     NaN            NaN     NaN     NaN     NaN  \n",
      "986       NaN     NaN            NaN     NaN     NaN     NaN  \n",
      "987       NaN     NaN            NaN     NaN     NaN     NaN  \n",
      "988       NaN     NaN            NaN     NaN     NaN     NaN  \n",
      "989       NaN     NaN            NaN     NaN     NaN     NaN  \n",
      "990       NaN     NaN            NaN     NaN     NaN     NaN  \n",
      "991       NaN     NaN            NaN     NaN     NaN     NaN  \n",
      "992       NaN     NaN            NaN     NaN     NaN     NaN  \n",
      "993       NaN     NaN            NaN     NaN     NaN     NaN  \n",
      "994       NaN     NaN            NaN     NaN     NaN     NaN  \n",
      "995       NaN     NaN            NaN     NaN     NaN     NaN  \n",
      "996       NaN     NaN            NaN     NaN     NaN     NaN  \n",
      "997       NaN     NaN            NaN     NaN     NaN     NaN  \n",
      "998       NaN     NaN            NaN     NaN     NaN     NaN  \n",
      "999       NaN     NaN            NaN     NaN     NaN     NaN  \n",
      "1000      NaN     NaN            NaN     NaN     NaN     NaN  \n",
      "1001      NaN     NaN            NaN     NaN     NaN     NaN  \n",
      "1002      NaN     NaN            NaN     NaN     NaN     NaN  \n",
      "1003      NaN     NaN            NaN     NaN     NaN     NaN  \n",
      "1004      NaN     NaN            NaN     NaN     NaN     NaN  \n",
      "1005      NaN     NaN            NaN     NaN     NaN     NaN  \n",
      "\n",
      "[1006 rows x 20 columns]\n"
     ]
    }
   ],
   "source": [
    "print(batter_stats)"
   ]
  },
  {
   "cell_type": "code",
   "execution_count": null,
   "metadata": {
    "collapsed": true
   },
   "outputs": [],
   "source": []
  },
  {
   "cell_type": "code",
   "execution_count": null,
   "metadata": {
    "collapsed": true
   },
   "outputs": [],
   "source": []
  },
  {
   "cell_type": "code",
   "execution_count": null,
   "metadata": {
    "collapsed": true
   },
   "outputs": [],
   "source": []
  },
  {
   "cell_type": "code",
   "execution_count": 2,
   "metadata": {
    "collapsed": false
   },
   "outputs": [],
   "source": [
    "compiled = pd.read_sql('select * from Compiled;', con=db)"
   ]
  },
  {
   "cell_type": "code",
   "execution_count": null,
   "metadata": {
    "collapsed": false
   },
   "outputs": [],
   "source": [
    "data = compiled.copy()\n",
    "data = data[pd.notnull(data['GS1AGO'])]\n",
    "data = data[pd.notnull(data['GS2AGO'])]\n",
    "data = data[pd.notnull(data['GS3AGO'])]\n",
    "\n",
    "labels = data['GOT_HIT']\n",
    "data = data[['1_AGO', '2_AGO', '3_AGO', '4_AGO', '5_AGO', '6_AGO', '7_AGO', 'GS1AGO', 'GS2AGO', 'GS3AGO', \n",
    "             'starting_P_ID', 'P_ID', 'hist_AB', 'hist_H']]\n",
    "\n",
    "data = pd.concat([data, pd.get_dummies(data['starting_P_ID']).iloc[:,1:697]], axis=1)\n",
    "data = pd.concat([data, pd.get_dummies(data['P_ID']).iloc[:,1:3264]], axis=1)"
   ]
  },
  {
   "cell_type": "code",
   "execution_count": null,
   "metadata": {
    "collapsed": false
   },
   "outputs": [],
   "source": [
    "# H^1.2 - (.1 * AB^1.2)\n",
    "\n",
    "data['Gamma'] = data['hist_H'] - (.1 * data['hist_AB'])\n",
    "#plt.scatter(data['hist_H'], data['hist_AB'], s=.1)\n",
    "plt.hist(data['Gamma'])"
   ]
  },
  {
   "cell_type": "code",
   "execution_count": null,
   "metadata": {
    "collapsed": false
   },
   "outputs": [],
   "source": [
    "data_done = data[[col for col in data.columns if col not in ['starting_P_ID', 'P_ID', 'hist_AB', 'hist_H']]]"
   ]
  },
  {
   "cell_type": "code",
   "execution_count": null,
   "metadata": {
    "collapsed": false
   },
   "outputs": [],
   "source": []
  },
  {
   "cell_type": "code",
   "execution_count": null,
   "metadata": {
    "collapsed": false,
    "deletable": true,
    "editable": true
   },
   "outputs": [],
   "source": [
    "y = labels\n",
    "x = data_done"
   ]
  },
  {
   "cell_type": "code",
   "execution_count": null,
   "metadata": {
    "collapsed": true
   },
   "outputs": [],
   "source": [
    "# LINEAR REGRESSION MODEL\n",
    "\n"
   ]
  },
  {
   "cell_type": "code",
   "execution_count": null,
   "metadata": {
    "collapsed": false
   },
   "outputs": [],
   "source": [
    "train_x = x[:250000]\n",
    "test_x = x[250001:]\n",
    "\n",
    "train_y = y[:250000]\n",
    "test_y = y[250001:]"
   ]
  },
  {
   "cell_type": "code",
   "execution_count": null,
   "metadata": {
    "collapsed": false,
    "deletable": true,
    "editable": true
   },
   "outputs": [],
   "source": [
    "model = linear_model.LogisticRegression(class_weight='balanced')\n",
    "model.fit(train_x, train_y)\n",
    "\n",
    "for index, col in enumerate(x.columns):\n",
    "    print(\"{0}: {1}\".format(col, model.coef_[0][index]))"
   ]
  },
  {
   "cell_type": "code",
   "execution_count": null,
   "metadata": {
    "collapsed": false
   },
   "outputs": [],
   "source": [
    "logit = sm.Logit(y, x)"
   ]
  },
  {
   "cell_type": "code",
   "execution_count": null,
   "metadata": {
    "collapsed": false
   },
   "outputs": [],
   "source": [
    "f = logit.fit()"
   ]
  },
  {
   "cell_type": "code",
   "execution_count": null,
   "metadata": {
    "collapsed": false
   },
   "outputs": [],
   "source": [
    "f.summary()\n"
   ]
  },
  {
   "cell_type": "code",
   "execution_count": null,
   "metadata": {
    "collapsed": false
   },
   "outputs": [],
   "source": []
  },
  {
   "cell_type": "code",
   "execution_count": null,
   "metadata": {
    "collapsed": false,
    "deletable": true,
    "editable": true
   },
   "outputs": [],
   "source": [
    "plt.hist(model.predict_proba(test_x)[:,0])"
   ]
  },
  {
   "cell_type": "code",
   "execution_count": null,
   "metadata": {
    "collapsed": false,
    "deletable": true,
    "editable": true
   },
   "outputs": [],
   "source": [
    "predicted = model.predict(test_x)\n",
    "expected = test_y\n",
    "\n",
    "print(metrics.classification_report(expected, predicted))\n",
    "print(metrics.confusion_matrix(expected, predicted))"
   ]
  },
  {
   "cell_type": "code",
   "execution_count": null,
   "metadata": {
    "collapsed": false
   },
   "outputs": [],
   "source": [
    "model.score(test_x, test_y)"
   ]
  },
  {
   "cell_type": "code",
   "execution_count": null,
   "metadata": {
    "collapsed": true
   },
   "outputs": [],
   "source": []
  },
  {
   "cell_type": "code",
   "execution_count": null,
   "metadata": {
    "collapsed": true
   },
   "outputs": [],
   "source": []
  },
  {
   "cell_type": "code",
   "execution_count": null,
   "metadata": {
    "collapsed": true
   },
   "outputs": [],
   "source": [
    "# DO OUR FEATURES CORRELATE TO PERFORMANCE?"
   ]
  },
  {
   "cell_type": "code",
   "execution_count": null,
   "metadata": {
    "collapsed": false,
    "deletable": true,
    "editable": true
   },
   "outputs": [],
   "source": [
    "probs = model.predict_proba(test_x)[:,1]\n",
    "pairs = zip(expected, probs)"
   ]
  },
  {
   "cell_type": "code",
   "execution_count": null,
   "metadata": {
    "collapsed": false,
    "deletable": true,
    "editable": true,
    "scrolled": true
   },
   "outputs": [],
   "source": [
    "prob_bins = {}\n",
    "x = np.array([probs])\n",
    "bins = np.linspace(0, 1, num=101)\n",
    "\n",
    "inds = np.digitize(x, bins)\n",
    "\n",
    "for i, pair in enumerate(pairs):\n",
    "    key = str(inds[0][i] - 1)\n",
    "    \n",
    "    if key not in prob_bins:\n",
    "        #print(key)\n",
    "        prob_bins[key] = []\n",
    "        \n",
    "    prob_bins[key].append(pair)"
   ]
  },
  {
   "cell_type": "code",
   "execution_count": null,
   "metadata": {
    "collapsed": false,
    "deletable": true,
    "editable": true,
    "scrolled": true
   },
   "outputs": [],
   "source": [
    "pct_hit = []\n",
    "for key in sorted(prob_bins.keys()):\n",
    "    hits = [sum(x) for x in zip(*prob_bins[str(key)])][0]\n",
    "    total = len(prob_bins[str(key)])\n",
    "    pct = float(hits)/float(total)\n",
    "    pct_hit.append(pct)\n",
    "\n",
    "#     print(\"Bin: \" + str(key))\n",
    "#     print(\"# players w/ hit: \" + str(hits))\n",
    "#     print(\"# player (total): \" + str(total))\n",
    "#     print(\"Pct. Hit: \" + str(float(hits)/float(total)))\n",
    "#     print(\"\")"
   ]
  },
  {
   "cell_type": "code",
   "execution_count": null,
   "metadata": {
    "collapsed": false,
    "deletable": true,
    "editable": true
   },
   "outputs": [],
   "source": [
    "plt.scatter(sorted([float(i)/100 for i in prob_bins.keys()]),pct_hit)\n",
    "plt.plot([0.35, 0.65], [0.35, 0.65], \"-\")"
   ]
  },
  {
   "cell_type": "code",
   "execution_count": null,
   "metadata": {
    "collapsed": true,
    "deletable": true,
    "editable": true
   },
   "outputs": [],
   "source": []
  }
 ],
 "metadata": {
  "kernelspec": {
   "display_name": "Python 2",
   "language": "python",
   "name": "python2"
  },
  "language_info": {
   "codemirror_mode": {
    "name": "ipython",
    "version": 2
   },
   "file_extension": ".py",
   "mimetype": "text/x-python",
   "name": "python",
   "nbconvert_exporter": "python",
   "pygments_lexer": "ipython2",
   "version": "2.7.11"
  }
 },
 "nbformat": 4,
 "nbformat_minor": 0
}
