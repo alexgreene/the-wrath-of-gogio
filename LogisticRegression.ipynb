{
 "cells": [
  {
   "cell_type": "code",
   "execution_count": 1,
   "metadata": {
    "collapsed": false,
    "deletable": true,
    "editable": true
   },
   "outputs": [],
   "source": [
    "import pandas as pd\n",
    "from gamescout_db import db, cur\n",
    "from sklearn.model_selection import cross_val_score\n",
    "from sklearn import linear_model\n",
    "import numpy as np\n",
    "import math\n",
    "from sklearn import metrics\n",
    "\n",
    "import matplotlib.pyplot as plt\n",
    "%matplotlib inline\n",
    "\n",
    "import warnings\n",
    "warnings.filterwarnings(action=\"ignore\", module=\"scipy\", message=\"^internal gelsd\")\n",
    "\n",
    "import statsmodels.discrete.discrete_model as sm"
   ]
  },
  {
   "cell_type": "code",
   "execution_count": null,
   "metadata": {
    "collapsed": true
   },
   "outputs": [],
   "source": []
  },
  {
   "cell_type": "code",
   "execution_count": null,
   "metadata": {
    "collapsed": true
   },
   "outputs": [],
   "source": [
    "# DATA COLLECTION"
   ]
  },
  {
   "cell_type": "code",
   "execution_count": null,
   "metadata": {
    "collapsed": true
   },
   "outputs": [],
   "source": [
    "batter_stats_COLUMNS = ['HITS','1_AGO_AVG', '2_AGO_AVG', '3_AGO_AVG', '4_AGO_AVG', '5_AGO_AVG', '6_AGO_AVG','7_AGO_AVG', 'P_ID','G_ID', 'BAT_ORDER', 'G_DATE', 'TEAM']\n",
    "\n",
    "at_bats_COLUMNS = ['BATTER', 'PITCHER', 'G_ID', 'BATTER_LR', 'PITCHER_LR', 'TIME', 'EVENT']\n",
    "\n",
    "pitcher_stats_COLUMNS = ['P_ID', 'G_ID', 'GAME_SCORE', 'BATTERS_FACED', 'TEAM', 'GAME_SCORE_1AGO', 'GAME_SCORE_2AGO', 'GAME_SCORE_3AGO']"
   ]
  },
  {
   "cell_type": "code",
   "execution_count": null,
   "metadata": {
    "collapsed": false,
    "deletable": true,
    "editable": true
   },
   "outputs": [],
   "source": [
    "batter_stats = pd.read_sql('select * from BatterStats;', con=db)[batter_stats_COLUMNS]\n",
    "batter_stats[\"GOT_HIT\"] = [1 if x > 0 else 0 for x in batter_stats[\"HITS\"]]\n",
    "batter_stats[\"NOT_HIT\"] = [1 if x == 0 else 0 for x in batter_stats[\"HITS\"]]\n",
    "\n",
    "batter_stats[\"1_AGO\"] = [0 if x == 0 else 1 for x in batter_stats[\"1_AGO_AVG\"]]\n",
    "batter_stats[\"2_AGO\"] = [0 if x == 0 else 1 for x in batter_stats[\"2_AGO_AVG\"]]\n",
    "batter_stats[\"3_AGO\"] = [0 if x == 0 else 1 for x in batter_stats[\"3_AGO_AVG\"]]\n",
    "batter_stats[\"4_AGO\"] = [0 if x == 0 else 1 for x in batter_stats[\"4_AGO_AVG\"]]\n",
    "batter_stats[\"5_AGO\"] = [0 if x == 0 else 1 for x in batter_stats[\"5_AGO_AVG\"]]\n",
    "batter_stats[\"6_AGO\"] = [0 if x == 0 else 1 for x in batter_stats[\"6_AGO_AVG\"]]\n",
    "batter_stats[\"7_AGO\"] = [0 if x == 0 else 1 for x in batter_stats[\"7_AGO_AVG\"]]\n",
    "\n",
    "batter_stats = batter_stats[['GOT_HIT', 'NOT_HIT', '1_AGO', '2_AGO', '3_AGO', '4_AGO', '5_AGO', '6_AGO','7_AGO', 'P_ID', 'G_ID', 'BAT_ORDER', 'G_DATE', 'TEAM']]"
   ]
  },
  {
   "cell_type": "code",
   "execution_count": null,
   "metadata": {
    "collapsed": false
   },
   "outputs": [],
   "source": [
    "pitcher_stats = pd.read_sql('select * from PitcherStats;', con=db)[pitcher_stats_COLUMNS]"
   ]
  },
  {
   "cell_type": "code",
   "execution_count": null,
   "metadata": {
    "collapsed": true
   },
   "outputs": [],
   "source": [
    "at_bats = pd.read_sql('select * from AtBats;', con=db)[at_bats_COLUMNS]"
   ]
  },
  {
   "cell_type": "code",
   "execution_count": null,
   "metadata": {
    "collapsed": false
   },
   "outputs": [],
   "source": []
  },
  {
   "cell_type": "code",
   "execution_count": null,
   "metadata": {
    "collapsed": false
   },
   "outputs": [],
   "source": [
    "hist_AB_series = []\n",
    "hist_H_series = []\n",
    "OPP_ID_series = []\n",
    "GS1AGO_series = []\n",
    "GS2AGO_series = []\n",
    "GS3AGO_series = []\n",
    "order_series = []\n",
    "\n",
    "for i in range(0, len(batter_stats)):\n",
    "    batter = batter_stats.ix[i]\n",
    "    starting_pitcher = pitcher_stats[pitcher_stats['G_ID'] == batter['G_ID']]\n",
    "    starting_pitcher = starting_pitcher[pitcher_stats['TEAM'] != batter['TEAM']]\n",
    "    starting_pitcher = starting_pitcher.sort(['BATTERS_FACED'], ascending=False).head(1)\n",
    "\n",
    "    matchups = at_bats[at_bats['BATTER'] == batter['P_ID']]\n",
    "    matchups = matchups[at_bats['PITCHER'] == starting_pitcher['P_ID'].iloc[0]]\n",
    "    matchups = matchups[at_bats['TIME'] < batter['G_DATE']]\n",
    "    matchups_hits = matchups[matchups['EVENT'].isin(['Single', 'Double', 'Triple', 'Home Run'])]\n",
    "\n",
    "    hist_AB = len(matchups)\n",
    "    hist_H = len(matchups_hits)\n",
    "\n",
    "    hist_AB_series.append(hist_AB)\n",
    "    hist_H_series.append(hist_H)\n",
    "    OPP_ID_series.append(starting_pitcher['P_ID'].iloc[0])\n",
    "    \n",
    "    GS1AGO_series.append(starting_pitcher['GAME_SCORE_1AGO'].iloc[0])\n",
    "    GS2AGO_series.append(starting_pitcher['GAME_SCORE_2AGO'].iloc[0])\n",
    "    GS3AGO_series.append(starting_pitcher['GAME_SCORE_3AGO'].iloc[0])\n",
    "    \n",
    "    order_series.append(batter['BAT_ORDER'])\n",
    "    \n",
    "    if i % 5000 == 0:\n",
    "        print i\n",
    "    \n",
    "batter_stats['hist_AB'] = pd.Series(hist_AB_series)\n",
    "batter_stats['hist_H'] = pd.Series(hist_H_series)\n",
    "batter_stats['starting_P_ID'] = pd.Series(OPP_ID_series)\n",
    "batter_stats['GS1AGO'] = pd.Series(GS1AGO_series)\n",
    "batter_stats['GS2AGO'] = pd.Series(GS2AGO_series)\n",
    "batter_stats['GS3AGO'] = pd.Series(GS3AGO_series)\n",
    "batter_stats['BAT_ORDER'] = pd.Series(order_series)"
   ]
  },
  {
   "cell_type": "code",
   "execution_count": null,
   "metadata": {
    "collapsed": false,
    "deletable": true,
    "editable": true
   },
   "outputs": [],
   "source": [
    "# batter_stats.to_csv('SAVED.csv')"
   ]
  },
  {
   "cell_type": "code",
   "execution_count": null,
   "metadata": {
    "collapsed": false
   },
   "outputs": [],
   "source": []
  },
  {
   "cell_type": "code",
   "execution_count": null,
   "metadata": {
    "collapsed": true
   },
   "outputs": [],
   "source": []
  },
  {
   "cell_type": "code",
   "execution_count": null,
   "metadata": {
    "collapsed": true
   },
   "outputs": [],
   "source": []
  },
  {
   "cell_type": "code",
   "execution_count": null,
   "metadata": {
    "collapsed": true
   },
   "outputs": [],
   "source": []
  },
  {
   "cell_type": "code",
   "execution_count": 2,
   "metadata": {
    "collapsed": false
   },
   "outputs": [],
   "source": [
    "compiled = pd.read_sql('select * from Compiled;', con=db)"
   ]
  },
  {
   "cell_type": "code",
   "execution_count": 3,
   "metadata": {
    "collapsed": false
   },
   "outputs": [],
   "source": [
    "data = compiled.copy()\n",
    "data = data[pd.notnull(data['GS1AGO'])]\n",
    "data = data[pd.notnull(data['GS2AGO'])]\n",
    "data = data[pd.notnull(data['GS3AGO'])]\n",
    "\n",
    "labels = data['GOT_HIT']\n",
    "data = data[['1_AGO', '2_AGO', '3_AGO', '4_AGO', '5_AGO', '6_AGO', '7_AGO', 'GS1AGO', 'GS2AGO', 'GS3AGO', \n",
    "             'starting_P_ID', 'P_ID', 'hist_AB', 'hist_H']]\n",
    "\n",
    "# data = pd.concat([data, pd.get_dummies(data['starting_P_ID']).iloc[:,1:697]], axis=1)\n",
    "# data = pd.concat([data, pd.get_dummies(data['P_ID']).iloc[:,1:3264]], axis=1)"
   ]
  },
  {
   "cell_type": "code",
   "execution_count": 4,
   "metadata": {
    "collapsed": false
   },
   "outputs": [
    {
     "data": {
      "text/plain": [
       "(array([  7.75900000e+03,   3.02263000e+05,   2.00320000e+04,\n",
       "          4.35200000e+03,   9.50000000e+02,   2.29000000e+02,\n",
       "          6.30000000e+01,   3.10000000e+01,   1.70000000e+01,\n",
       "          3.00000000e+00]),\n",
       " array([ -2.7 ,  -0.48,   1.74,   3.96,   6.18,   8.4 ,  10.62,  12.84,\n",
       "         15.06,  17.28,  19.5 ]),\n",
       " <a list of 10 Patch objects>)"
      ]
     },
     "execution_count": 4,
     "metadata": {},
     "output_type": "execute_result"
    },
    {
     "data": {
      "image/png": "[encoded data removed]",
      "text/plain": [
       "<matplotlib.figure.Figure at 0x10f9b2350>"
      ]
     },
     "metadata": {},
     "output_type": "display_data"
    }
   ],
   "source": [
    "# H^1.2 - (.1 * AB^1.2)\n",
    "\n",
    "data['Gamma'] = data['hist_H'] - (.1 * data['hist_AB'])\n",
    "#plt.scatter(data['hist_H'], data['hist_AB'], s=.1)\n",
    "plt.hist(data['Gamma'])"
   ]
  },
  {
   "cell_type": "code",
   "execution_count": 5,
   "metadata": {
    "collapsed": false
   },
   "outputs": [],
   "source": [
    "data_done = data[[col for col in data.columns if col not in ['starting_P_ID', 'P_ID', 'hist_AB', 'hist_H']]]"
   ]
  },
  {
   "cell_type": "code",
   "execution_count": null,
   "metadata": {
    "collapsed": false
   },
   "outputs": [],
   "source": []
  },
  {
   "cell_type": "code",
   "execution_count": 6,
   "metadata": {
    "collapsed": false,
    "deletable": true,
    "editable": true
   },
   "outputs": [],
   "source": [
    "y = labels\n",
    "x = data_done"
   ]
  },
  {
   "cell_type": "code",
   "execution_count": 7,
   "metadata": {
    "collapsed": true
   },
   "outputs": [],
   "source": [
    "# LINEAR REGRESSION MODEL\n",
    "\n"
   ]
  },
  {
   "cell_type": "code",
   "execution_count": 8,
   "metadata": {
    "collapsed": false
   },
   "outputs": [],
   "source": [
    "train_x = x[:250000]\n",
    "test_x = x[250001:]\n",
    "\n",
    "train_y = y[:250000]\n",
    "test_y = y[250001:]"
   ]
  },
  {
   "cell_type": "code",
   "execution_count": 14,
   "metadata": {
    "collapsed": false,
    "deletable": true,
    "editable": true
   },
   "outputs": [
    {
     "name": "stdout",
     "output_type": "stream",
     "text": [
      "1_AGO: -0.242238247618\n",
      "2_AGO: -0.266216572103\n",
      "3_AGO: -0.276066173254\n",
      "4_AGO: -0.296714878469\n",
      "5_AGO: -0.298259439682\n",
      "6_AGO: -0.285676111771\n",
      "7_AGO: -0.294812507414\n",
      "GS1AGO: -0.000762875150873\n",
      "GS2AGO: -0.000837129579346\n",
      "GS3AGO: -0.00154972829708\n",
      "Gamma: 0.346347831037\n"
     ]
    }
   ],
   "source": [
    "model = linear_model.LogisticRegression(class_weight='balanced')\n",
    "model.fit(train_x, train_y)\n",
    "\n",
    "for index, col in enumerate(x.columns):\n",
    "    print(\"{0}: {1}\".format(col, model.coef_[0][index]))"
   ]
  },
  {
   "cell_type": "code",
   "execution_count": 9,
   "metadata": {
    "collapsed": false
   },
   "outputs": [],
   "source": [
    "logit = sm.Logit(y, x)"
   ]
  },
  {
   "cell_type": "code",
   "execution_count": 10,
   "metadata": {
    "collapsed": false
   },
   "outputs": [
    {
     "name": "stdout",
     "output_type": "stream",
     "text": [
      "Optimization terminated successfully.\n",
      "         Current function value: 0.644807\n",
      "         Iterations 5\n"
     ]
    }
   ],
   "source": [
    "f = logit.fit()"
   ]
  },
  {
   "cell_type": "code",
   "execution_count": 16,
   "metadata": {
    "collapsed": false
   },
   "outputs": [
    {
     "data": {
      "text/html": [
       "<table class=\"simpletable\">\n",
       "<caption>Logit Regression Results</caption>\n",
       "<tr>\n",
       "  <th>Dep. Variable:</th>      <td>GOT_HIT</td>     <th>  No. Observations:  </th>   <td>335699</td>   \n",
       "</tr>\n",
       "<tr>\n",
       "  <th>Model:</th>               <td>Logit</td>      <th>  Df Residuals:      </th>   <td>335688</td>   \n",
       "</tr>\n",
       "<tr>\n",
       "  <th>Method:</th>               <td>MLE</td>       <th>  Df Model:          </th>   <td>    10</td>   \n",
       "</tr>\n",
       "<tr>\n",
       "  <th>Date:</th>          <td>Sun, 14 May 2017</td> <th>  Pseudo R-squ.:     </th>   <td>0.04722</td>  \n",
       "</tr>\n",
       "<tr>\n",
       "  <th>Time:</th>              <td>12:26:25</td>     <th>  Log-Likelihood:    </th> <td>-2.1646e+05</td>\n",
       "</tr>\n",
       "<tr>\n",
       "  <th>converged:</th>           <td>True</td>       <th>  LL-Null:           </th> <td>-2.2719e+05</td>\n",
       "</tr>\n",
       "<tr>\n",
       "  <th> </th>                      <td> </td>        <th>  LLR p-value:       </th>   <td> 0.000</td>   \n",
       "</tr>\n",
       "</table>\n",
       "<table class=\"simpletable\">\n",
       "<tr>\n",
       "     <td></td>       <th>coef</th>     <th>std err</th>      <th>z</th>      <th>P>|z|</th>  <th>[0.025</th>    <th>0.975]</th>  \n",
       "</tr>\n",
       "<tr>\n",
       "  <th>1_AGO</th>  <td>   -0.1501</td> <td>    0.008</td> <td>  -18.825</td> <td> 0.000</td> <td>   -0.166</td> <td>   -0.134</td>\n",
       "</tr>\n",
       "<tr>\n",
       "  <th>2_AGO</th>  <td>   -0.1802</td> <td>    0.008</td> <td>  -22.520</td> <td> 0.000</td> <td>   -0.196</td> <td>   -0.164</td>\n",
       "</tr>\n",
       "<tr>\n",
       "  <th>3_AGO</th>  <td>   -0.1989</td> <td>    0.008</td> <td>  -24.810</td> <td> 0.000</td> <td>   -0.215</td> <td>   -0.183</td>\n",
       "</tr>\n",
       "<tr>\n",
       "  <th>4_AGO</th>  <td>   -0.2036</td> <td>    0.008</td> <td>  -25.367</td> <td> 0.000</td> <td>   -0.219</td> <td>   -0.188</td>\n",
       "</tr>\n",
       "<tr>\n",
       "  <th>5_AGO</th>  <td>   -0.2107</td> <td>    0.008</td> <td>  -26.236</td> <td> 0.000</td> <td>   -0.226</td> <td>   -0.195</td>\n",
       "</tr>\n",
       "<tr>\n",
       "  <th>6_AGO</th>  <td>   -0.1966</td> <td>    0.008</td> <td>  -24.478</td> <td> 0.000</td> <td>   -0.212</td> <td>   -0.181</td>\n",
       "</tr>\n",
       "<tr>\n",
       "  <th>7_AGO</th>  <td>   -0.2064</td> <td>    0.008</td> <td>  -25.726</td> <td> 0.000</td> <td>   -0.222</td> <td>   -0.191</td>\n",
       "</tr>\n",
       "<tr>\n",
       "  <th>GS1AGO</th> <td>    0.0030</td> <td>    0.000</td> <td>   18.404</td> <td> 0.000</td> <td>    0.003</td> <td>    0.003</td>\n",
       "</tr>\n",
       "<tr>\n",
       "  <th>GS2AGO</th> <td>    0.0028</td> <td>    0.000</td> <td>   17.296</td> <td> 0.000</td> <td>    0.003</td> <td>    0.003</td>\n",
       "</tr>\n",
       "<tr>\n",
       "  <th>GS3AGO</th> <td>    0.0023</td> <td>    0.000</td> <td>   14.331</td> <td> 0.000</td> <td>    0.002</td> <td>    0.003</td>\n",
       "</tr>\n",
       "<tr>\n",
       "  <th>Gamma</th>  <td>    0.3331</td> <td>    0.004</td> <td>   84.370</td> <td> 0.000</td> <td>    0.325</td> <td>    0.341</td>\n",
       "</tr>\n",
       "</table>"
      ],
      "text/plain": [
       "<class 'statsmodels.iolib.summary.Summary'>\n",
       "\"\"\"\n",
       "                           Logit Regression Results                           \n",
       "==============================================================================\n",
       "Dep. Variable:                GOT_HIT   No. Observations:               335699\n",
       "Model:                          Logit   Df Residuals:                   335688\n",
       "Method:                           MLE   Df Model:                           10\n",
       "Date:                Sun, 14 May 2017   Pseudo R-squ.:                 0.04722\n",
       "Time:                        12:26:25   Log-Likelihood:            -2.1646e+05\n",
       "converged:                       True   LL-Null:                   -2.2719e+05\n",
       "                                        LLR p-value:                     0.000\n",
       "==============================================================================\n",
       "                 coef    std err          z      P>|z|      [0.025      0.975]\n",
       "------------------------------------------------------------------------------\n",
       "1_AGO         -0.1501      0.008    -18.825      0.000      -0.166      -0.134\n",
       "2_AGO         -0.1802      0.008    -22.520      0.000      -0.196      -0.164\n",
       "3_AGO         -0.1989      0.008    -24.810      0.000      -0.215      -0.183\n",
       "4_AGO         -0.2036      0.008    -25.367      0.000      -0.219      -0.188\n",
       "5_AGO         -0.2107      0.008    -26.236      0.000      -0.226      -0.195\n",
       "6_AGO         -0.1966      0.008    -24.478      0.000      -0.212      -0.181\n",
       "7_AGO         -0.2064      0.008    -25.726      0.000      -0.222      -0.191\n",
       "GS1AGO         0.0030      0.000     18.404      0.000       0.003       0.003\n",
       "GS2AGO         0.0028      0.000     17.296      0.000       0.003       0.003\n",
       "GS3AGO         0.0023      0.000     14.331      0.000       0.002       0.003\n",
       "Gamma          0.3331      0.004     84.370      0.000       0.325       0.341\n",
       "==============================================================================\n",
       "\"\"\""
      ]
     },
     "execution_count": 16,
     "metadata": {},
     "output_type": "execute_result"
    }
   ],
   "source": [
    "f.summary()\n"
   ]
  },
  {
   "cell_type": "code",
   "execution_count": null,
   "metadata": {
    "collapsed": false
   },
   "outputs": [],
   "source": []
  },
  {
   "cell_type": "code",
   "execution_count": null,
   "metadata": {
    "collapsed": false,
    "deletable": true,
    "editable": true
   },
   "outputs": [],
   "source": [
    "plt.hist(model.predict_proba(test_x)[:,0])"
   ]
  },
  {
   "cell_type": "code",
   "execution_count": null,
   "metadata": {
    "collapsed": false,
    "deletable": true,
    "editable": true
   },
   "outputs": [],
   "source": [
    "predicted = model.predict(test_x)\n",
    "expected = test_y\n",
    "\n",
    "print(metrics.classification_report(expected, predicted))\n",
    "print(metrics.confusion_matrix(expected, predicted))"
   ]
  },
  {
   "cell_type": "code",
   "execution_count": null,
   "metadata": {
    "collapsed": false
   },
   "outputs": [],
   "source": [
    "model.score(test_x, test_y)"
   ]
  },
  {
   "cell_type": "code",
   "execution_count": null,
   "metadata": {
    "collapsed": true
   },
   "outputs": [],
   "source": []
  },
  {
   "cell_type": "code",
   "execution_count": null,
   "metadata": {
    "collapsed": true
   },
   "outputs": [],
   "source": []
  },
  {
   "cell_type": "code",
   "execution_count": null,
   "metadata": {
    "collapsed": true
   },
   "outputs": [],
   "source": [
    "# DO OUR FEATURES CORRELATE TO PERFORMANCE?"
   ]
  },
  {
   "cell_type": "code",
   "execution_count": null,
   "metadata": {
    "collapsed": false,
    "deletable": true,
    "editable": true
   },
   "outputs": [],
   "source": [
    "probs = model.predict_proba(test_x)[:,1]\n",
    "pairs = zip(expected, probs)"
   ]
  },
  {
   "cell_type": "code",
   "execution_count": null,
   "metadata": {
    "collapsed": false,
    "deletable": true,
    "editable": true,
    "scrolled": true
   },
   "outputs": [],
   "source": [
    "prob_bins = {}\n",
    "x = np.array([probs])\n",
    "bins = np.linspace(0, 1, num=101)\n",
    "\n",
    "inds = np.digitize(x, bins)\n",
    "\n",
    "for i, pair in enumerate(pairs):\n",
    "    key = str(inds[0][i] - 1)\n",
    "    \n",
    "    if key not in prob_bins:\n",
    "        #print(key)\n",
    "        prob_bins[key] = []\n",
    "        \n",
    "    prob_bins[key].append(pair)"
   ]
  },
  {
   "cell_type": "code",
   "execution_count": null,
   "metadata": {
    "collapsed": false,
    "deletable": true,
    "editable": true,
    "scrolled": true
   },
   "outputs": [],
   "source": [
    "pct_hit = []\n",
    "for key in sorted(prob_bins.keys()):\n",
    "    hits = [sum(x) for x in zip(*prob_bins[str(key)])][0]\n",
    "    total = len(prob_bins[str(key)])\n",
    "    pct = float(hits)/float(total)\n",
    "    pct_hit.append(pct)\n",
    "\n",
    "#     print(\"Bin: \" + str(key))\n",
    "#     print(\"# players w/ hit: \" + str(hits))\n",
    "#     print(\"# player (total): \" + str(total))\n",
    "#     print(\"Pct. Hit: \" + str(float(hits)/float(total)))\n",
    "#     print(\"\")"
   ]
  },
  {
   "cell_type": "code",
   "execution_count": null,
   "metadata": {
    "collapsed": false,
    "deletable": true,
    "editable": true
   },
   "outputs": [],
   "source": [
    "plt.scatter(sorted([float(i)/100 for i in prob_bins.keys()]),pct_hit)\n",
    "plt.plot([0.35, 0.65], [0.35, 0.65], \"-\")"
   ]
  },
  {
   "cell_type": "code",
   "execution_count": null,
   "metadata": {
    "collapsed": true,
    "deletable": true,
    "editable": true
   },
   "outputs": [],
   "source": []
  }
 ],
 "metadata": {
  "kernelspec": {
   "display_name": "Python 2",
   "language": "python",
   "name": "python2"
  },
  "language_info": {
   "codemirror_mode": {
    "name": "ipython",
    "version": 2
   },
   "file_extension": ".py",
   "mimetype": "text/x-python",
   "name": "python",
   "nbconvert_exporter": "python",
   "pygments_lexer": "ipython2",
   "version": "2.7.11"
  }
 },
 "nbformat": 4,
 "nbformat_minor": 0
}
