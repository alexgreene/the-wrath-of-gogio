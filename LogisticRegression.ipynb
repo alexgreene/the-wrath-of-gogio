{
 "cells": [
  {
   "cell_type": "code",
   "execution_count": 1,
   "metadata": {
    "collapsed": false,
    "deletable": true,
    "editable": true
   },
   "outputs": [],
   "source": [
    "import pandas as pd\n",
    "from gamescout_db import db, cur\n",
    "from sklearn.model_selection import cross_val_score\n",
    "from sklearn import linear_model\n",
    "import numpy as np\n",
    "import math\n",
    "from sklearn import metrics\n",
    "\n",
    "import matplotlib.pyplot as plt\n",
    "%matplotlib inline\n",
    "\n",
    "import warnings\n",
    "warnings.filterwarnings(action=\"ignore\", module=\"scipy\", message=\"^internal gelsd\")\n",
    "\n",
    "import statsmodels.discrete.discrete_model as sm"
   ]
  },
  {
   "cell_type": "code",
   "execution_count": null,
   "metadata": {
    "collapsed": true,
    "deletable": true,
    "editable": true
   },
   "outputs": [],
   "source": []
  },
  {
   "cell_type": "code",
   "execution_count": null,
   "metadata": {
    "collapsed": true,
    "deletable": true,
    "editable": true
   },
   "outputs": [],
   "source": [
    "# DATA COLLECTION"
   ]
  },
  {
   "cell_type": "code",
   "execution_count": null,
   "metadata": {
    "collapsed": true,
    "deletable": true,
    "editable": true
   },
   "outputs": [],
   "source": [
    "batter_stats_COLUMNS = ['HITS','1_AGO_AVG', '2_AGO_AVG', '3_AGO_AVG', '4_AGO_AVG', '5_AGO_AVG', '6_AGO_AVG','7_AGO_AVG', 'P_ID','G_ID', 'BAT_ORDER', 'G_DATE', 'TEAM']\n",
    "\n",
    "at_bats_COLUMNS = ['BATTER', 'PITCHER', 'G_ID', 'BATTER_LR', 'PITCHER_LR', 'EVENT']\n",
    "\n",
    "pitcher_stats_COLUMNS = ['P_ID', 'G_ID', 'GAME_SCORE', 'BATTERS_FACED', 'TEAM', 'GAME_SCORE_1AGO', 'GAME_SCORE_2AGO', 'GAME_SCORE_3AGO']"
   ]
  },
  {
   "cell_type": "code",
   "execution_count": null,
   "metadata": {
    "collapsed": false,
    "deletable": true,
    "editable": true
   },
   "outputs": [],
   "source": [
    "batter_stats = pd.read_sql('select * from BatterStats;', con=db)[batter_stats_COLUMNS]\n",
    "batter_stats[\"GOT_HIT\"] = [1 if x > 0 else 0 for x in batter_stats[\"HITS\"]]\n",
    "batter_stats[\"NOT_HIT\"] = [1 if x == 0 else 0 for x in batter_stats[\"HITS\"]]\n",
    "\n",
    "batter_stats[\"1_AGO\"] = [0 if x == 0 else 1 for x in batter_stats[\"1_AGO_AVG\"]]\n",
    "batter_stats[\"2_AGO\"] = [0 if x == 0 else 1 for x in batter_stats[\"2_AGO_AVG\"]]\n",
    "batter_stats[\"3_AGO\"] = [0 if x == 0 else 1 for x in batter_stats[\"3_AGO_AVG\"]]\n",
    "batter_stats[\"4_AGO\"] = [0 if x == 0 else 1 for x in batter_stats[\"4_AGO_AVG\"]]\n",
    "batter_stats[\"5_AGO\"] = [0 if x == 0 else 1 for x in batter_stats[\"5_AGO_AVG\"]]\n",
    "batter_stats[\"6_AGO\"] = [0 if x == 0 else 1 for x in batter_stats[\"6_AGO_AVG\"]]\n",
    "batter_stats[\"7_AGO\"] = [0 if x == 0 else 1 for x in batter_stats[\"7_AGO_AVG\"]]\n",
    "\n",
    "batter_stats = batter_stats[['GOT_HIT', 'NOT_HIT', '1_AGO', '2_AGO', '3_AGO', '4_AGO', '5_AGO', '6_AGO','7_AGO', 'P_ID', 'G_ID', 'BAT_ORDER', 'G_DATE', 'TEAM']]"
   ]
  },
  {
   "cell_type": "code",
   "execution_count": null,
   "metadata": {
    "collapsed": false,
    "deletable": true,
    "editable": true
   },
   "outputs": [],
   "source": [
    "pitcher_stats = pd.read_sql('select * from PitcherStats;', con=db)[pitcher_stats_COLUMNS]"
   ]
  },
  {
   "cell_type": "code",
   "execution_count": null,
   "metadata": {
    "collapsed": true,
    "deletable": true,
    "editable": true
   },
   "outputs": [],
   "source": [
    "at_bats = pd.read_sql('select * from AtBats;', con=db)[at_bats_COLUMNS]"
   ]
  },
  {
   "cell_type": "code",
   "execution_count": null,
   "metadata": {
    "collapsed": false,
    "deletable": true,
    "editable": true
   },
   "outputs": [],
   "source": [
    "#batter_stats = batter_stats[batter_stats['G_ID'].isin(at_bats['G_ID'].tolist())]"
   ]
  },
  {
   "cell_type": "code",
   "execution_count": null,
   "metadata": {
    "collapsed": false,
    "deletable": true,
    "editable": true
   },
   "outputs": [],
   "source": []
  },
  {
   "cell_type": "code",
   "execution_count": null,
   "metadata": {
    "collapsed": false,
    "deletable": true,
    "editable": true
   },
   "outputs": [],
   "source": [
    "hist_AB_series = []\n",
    "hist_H_series = []\n",
    "OPP_ID_series = []\n",
    "GS1AGO_series = []\n",
    "GS2AGO_series = []\n",
    "GS3AGO_series = []\n",
    "order_series = []\n",
    "\n",
    "for i in range(0, 100):\n",
    "    batter = batter_stats.ix[i]\n",
    "    starting_pitcher = pitcher_stats[pitcher_stats['G_ID'] == batter['G_ID']]\n",
    "    starting_pitcher = starting_pitcher[pitcher_stats['TEAM'] != batter['TEAM']]\n",
    "    starting_pitcher = starting_pitcher.sort(['BATTERS_FACED'], ascending=False).head(1)\n",
    "    matchups = at_bats[at_bats['BATTER'] == batter['P_ID']]\n",
    "    matchups = matchups[matchups['PITCHER'] == starting_pitcher['P_ID'].iloc[0]]\n",
    "    matchups = matchups[matchups['G_DATE'] < batter['G_DATE']]\n",
    "    matchups_hits = matchups[matchups['EVENT'].isin(['Single', 'Double', 'Triple', 'Home Run'])]\n",
    "    hist_AB = len(matchups)\n",
    "    hist_H = len(matchups_hits)\n",
    "\n",
    "    hist_AB_series.append(hist_AB)\n",
    "    hist_H_series.append(hist_H)\n",
    "    OPP_ID_series.append(starting_pitcher['P_ID'].iloc[0])\n",
    "\n",
    "    GS1AGO_series.append(starting_pitcher['GAME_SCORE_1AGO'].iloc[0])\n",
    "    GS2AGO_series.append(starting_pitcher['GAME_SCORE_2AGO'].iloc[0])\n",
    "    GS3AGO_series.append(starting_pitcher['GAME_SCORE_3AGO'].iloc[0])\n",
    "    order_series.append(batter['BAT_ORDER'])\n",
    "    \n",
    "    if i % 1000 == 0:\n",
    "        print i\n",
    "    \n",
    "batter_stats['hist_AB'] = pd.Series(hist_AB_series)\n",
    "batter_stats['hist_H'] = pd.Series(hist_H_series)\n",
    "batter_stats['starting_P_ID'] = pd.Series(OPP_ID_series)\n",
    "batter_stats['GS1AGO'] = pd.Series(GS1AGO_series)\n",
    "batter_stats['GS2AGO'] = pd.Series(GS2AGO_series)\n",
    "batter_stats['GS3AGO'] = pd.Series(GS3AGO_series)\n",
    "batter_stats['BAT_ORDER'] = pd.Series(order_series)"
   ]
  },
  {
   "cell_type": "code",
   "execution_count": null,
   "metadata": {
    "collapsed": false,
    "deletable": true,
    "editable": true
   },
   "outputs": [],
   "source": [
    "# batter_stats.to_csv('SAVED.csv')"
   ]
  },
  {
   "cell_type": "code",
   "execution_count": null,
   "metadata": {
    "collapsed": false,
    "deletable": true,
    "editable": true
   },
   "outputs": [],
   "source": []
  },
  {
   "cell_type": "markdown",
   "metadata": {
    "collapsed": true,
    "deletable": true,
    "editable": true
   },
   "source": [
    "## Logistic Regression"
   ]
  },
  {
   "cell_type": "markdown",
   "metadata": {
    "deletable": true,
    "editable": true
   },
   "source": [
    "### Prof. Sun's Logistic Regression Model Code"
   ]
  },
  {
   "cell_type": "code",
   "execution_count": 2,
   "metadata": {
    "collapsed": true,
    "deletable": true,
    "editable": true
   },
   "outputs": [],
   "source": [
    "def logistic(z):\n",
    "    return 1 / (1 + np.exp(-z))"
   ]
  },
  {
   "cell_type": "code",
   "execution_count": 3,
   "metadata": {
    "collapsed": true,
    "deletable": true,
    "editable": true
   },
   "outputs": [],
   "source": [
    "def logistic_regression(X, y):\n",
    "    beta = np.zeros(X.shape[1])\n",
    "    for _ in range(5):\n",
    "        p = logistic(np.dot(X, beta))\n",
    "        w = p * (1 - p)\n",
    "        beta += np.linalg.solve(np.dot(X.T, (w[:, np.newaxis] * X)), np.dot(X.T, y - p))\n",
    "        \n",
    "    p = logistic(np.dot(X, beta))\n",
    "    w = p * (1 - p)\n",
    "    se = np.sqrt(np.diag(np.linalg.inv(np.dot(X.T, (w[:, np.newaxis] * X)))))\n",
    "    \n",
    "    return beta, se"
   ]
  },
  {
   "cell_type": "code",
   "execution_count": null,
   "metadata": {
    "collapsed": false,
    "deletable": true,
    "editable": true
   },
   "outputs": [],
   "source": [
    "len(compiled)"
   ]
  },
  {
   "cell_type": "code",
   "execution_count": 5,
   "metadata": {
    "collapsed": false,
    "deletable": true,
    "editable": true
   },
   "outputs": [],
   "source": [
    "compiled = pd.read_sql('select * from Compiled;', con=db)\n",
    "graph = pd.read_sql('select count(*) from Compiled where G_DATE = \\'2017-05-31\\';', con=db)\n",
    "num_pitchers = pd.read_sql('select distinct count(starting_P_ID) from Compiled;', con=db)\n",
    "num_batters = pd.read_sql('select distinct count(P_ID) from Compiled;', con=db)"
   ]
  },
  {
   "cell_type": "code",
   "execution_count": 6,
   "metadata": {
    "collapsed": false,
    "deletable": true,
    "editable": true
   },
   "outputs": [],
   "source": [
    "num_pitchers = num_pitchers['count(starting_P_ID)'][0]\n",
    "num_batters = num_batters['count(P_ID)'][0]\n",
    "yesterday = graph['count(*)'][0]"
   ]
  },
  {
   "cell_type": "code",
   "execution_count": 7,
   "metadata": {
    "collapsed": false,
    "deletable": true,
    "editable": true,
    "scrolled": true
   },
   "outputs": [],
   "source": [
    "games_played_b = compiled.groupby('P_ID').size()\n",
    "joined = compiled.join(pd.DataFrame(games_played_b, columns=['GAMES_PLAYED_B']), on=['P_ID'])"
   ]
  },
  {
   "cell_type": "code",
   "execution_count": 8,
   "metadata": {
    "collapsed": false,
    "deletable": true,
    "editable": true
   },
   "outputs": [],
   "source": [
    "games_played_p = compiled.groupby(['starting_P_ID', 'G_ID']).size().reset_index().groupby('starting_P_ID').size()\n",
    "joined = joined.join(pd.DataFrame(games_played_p, columns=['GAMES_PLAYED_P']), on=['starting_P_ID'])"
   ]
  },
  {
   "cell_type": "code",
   "execution_count": 9,
   "metadata": {
    "collapsed": true,
    "deletable": true,
    "editable": true
   },
   "outputs": [],
   "source": [
    "joined['P_ID'] = [777 if joined['GAMES_PLAYED_B'][x] < 100 else joined['P_ID'][x] for x in range(len(joined))]"
   ]
  },
  {
   "cell_type": "code",
   "execution_count": 10,
   "metadata": {
    "collapsed": false,
    "deletable": true,
    "editable": true
   },
   "outputs": [],
   "source": [
    "joined['starting_P_ID'] = [888 if joined['GAMES_PLAYED_P'][x] < 20 else joined['starting_P_ID'][x] for x in range(len(joined))]"
   ]
  },
  {
   "cell_type": "code",
   "execution_count": null,
   "metadata": {
    "collapsed": false,
    "deletable": true,
    "editable": true,
    "scrolled": true
   },
   "outputs": [],
   "source": []
  },
  {
   "cell_type": "code",
   "execution_count": 11,
   "metadata": {
    "collapsed": false,
    "deletable": true,
    "editable": true
   },
   "outputs": [],
   "source": [
    "data = joined\n",
    "data = data[pd.notnull(data['GS1AGO'])]\n",
    "data = data[pd.notnull(data['GS2AGO'])]\n",
    "data = data[pd.notnull(data['GS3AGO'])]\n",
    "\n",
    "labels = data['GOT_HIT']\n",
    "data = data[['1_AGO', '2_AGO', '3_AGO', '4_AGO', '5_AGO', '6_AGO', '7_AGO', 'GS1AGO', 'GS2AGO', 'GS3AGO', \n",
    "             'starting_P_ID', 'P_ID', 'hist_AB', 'hist_H']]\n",
    "\n",
    "data = pd.concat([data, pd.get_dummies(data['starting_P_ID']).iloc[:,1:num_pitchers]], axis=1)\n",
    "data = pd.concat([data, pd.get_dummies(data['P_ID']).iloc[:,1:num_batters]], axis=1)"
   ]
  },
  {
   "cell_type": "code",
   "execution_count": 12,
   "metadata": {
    "collapsed": false,
    "deletable": true,
    "editable": true
   },
   "outputs": [],
   "source": [
    "# H^1.2 - (.1 * AB^1.2)\n",
    "\n",
    "data['Gamma'] = data['hist_H'] - (.1 * data['hist_AB'])\n",
    "#plt.scatter(data['hist_H'], data['hist_AB'], s=.1)\n",
    "#plt.hist(data['Gamma'])"
   ]
  },
  {
   "cell_type": "code",
   "execution_count": 13,
   "metadata": {
    "collapsed": false,
    "deletable": true,
    "editable": true
   },
   "outputs": [],
   "source": [
    "data = data.drop('starting_P_ID', 1)                                            \n",
    "data = data.drop('P_ID', 1)                                                     \n",
    "data = data.drop('hist_AB', 1)                                                  \n",
    "data = data.drop('hist_H', 1)  "
   ]
  },
  {
   "cell_type": "code",
   "execution_count": 14,
   "metadata": {
    "collapsed": false,
    "deletable": true,
    "editable": true
   },
   "outputs": [],
   "source": [
    "y = labels\n",
    "x = data"
   ]
  },
  {
   "cell_type": "code",
   "execution_count": 15,
   "metadata": {
    "collapsed": true,
    "deletable": true,
    "editable": true
   },
   "outputs": [],
   "source": [
    "train_x = x[:250000]\n",
    "test_x = x[250001:]\n",
    "\n",
    "train_y = y[:250000]\n",
    "test_y = y[250001:]"
   ]
  },
  {
   "cell_type": "markdown",
   "metadata": {
    "deletable": true,
    "editable": true
   },
   "source": [
    "#### Professor's Model"
   ]
  },
  {
   "cell_type": "code",
   "execution_count": null,
   "metadata": {
    "collapsed": false,
    "deletable": true,
    "editable": true
   },
   "outputs": [],
   "source": [
    "# use our logistic regression function\n",
    "beta, se = logistic_regression(train_x, train_y)\n",
    "\n",
    "# calculate the z-score for each coefficient\n",
    "z = beta / se\n",
    "z"
   ]
  },
  {
   "cell_type": "code",
   "execution_count": null,
   "metadata": {
    "collapsed": true,
    "deletable": true,
    "editable": true
   },
   "outputs": [],
   "source": [
    "# compare the z-scores we got above with statsmodels\n",
    "from statsmodels.api import Logit\n",
    "model = Logit(train_y, train_x)\n",
    "results = model.fit()\n",
    "results.summary()"
   ]
  },
  {
   "cell_type": "markdown",
   "metadata": {
    "collapsed": true,
    "deletable": true,
    "editable": true
   },
   "source": [
    "### Our Linear Regression Model\n",
    "\n"
   ]
  },
  {
   "cell_type": "code",
   "execution_count": 16,
   "metadata": {
    "collapsed": false,
    "deletable": true,
    "editable": true
   },
   "outputs": [
    {
     "data": {
      "text/plain": [
       "LogisticRegression(C=1.0, class_weight='balanced', dual=False,\n",
       "          fit_intercept=True, intercept_scaling=1, max_iter=100,\n",
       "          multi_class='ovr', n_jobs=1, penalty='l2', random_state=None,\n",
       "          solver='liblinear', tol=0.0001, verbose=0, warm_start=False)"
      ]
     },
     "execution_count": 16,
     "metadata": {},
     "output_type": "execute_result"
    }
   ],
   "source": [
    "model = linear_model.LogisticRegression(class_weight='balanced')\n",
    "model.fit(train_x, train_y)\n",
    "\n",
    "#for index, col in enumerate(x.columns):\n",
    "#    print(\"{0}: {1}\".format(col, model.coef_[0][index]))"
   ]
  },
  {
   "cell_type": "code",
   "execution_count": null,
   "metadata": {
    "collapsed": false,
    "deletable": true,
    "editable": true
   },
   "outputs": [],
   "source": [
    "#logit = sm.Logit(y, x)"
   ]
  },
  {
   "cell_type": "code",
   "execution_count": 25,
   "metadata": {
    "collapsed": false,
    "deletable": true,
    "editable": true
   },
   "outputs": [
    {
     "data": {
      "text/plain": [
       "1410"
      ]
     },
     "execution_count": 25,
     "metadata": {},
     "output_type": "execute_result"
    }
   ],
   "source": [
    "#f = logit.fit()\n",
    "len(data.columns)"
   ]
  },
  {
   "cell_type": "code",
   "execution_count": 17,
   "metadata": {
    "collapsed": false,
    "deletable": true,
    "editable": true
   },
   "outputs": [],
   "source": [
    "#f.summary()\n",
    "test_x = data[-yesterday:]\n",
    "test_y = y[-yesterday:]"
   ]
  },
  {
   "cell_type": "code",
   "execution_count": null,
   "metadata": {
    "collapsed": false,
    "deletable": true,
    "editable": true
   },
   "outputs": [],
   "source": [
    "model.predict_proba()"
   ]
  },
  {
   "cell_type": "code",
   "execution_count": 18,
   "metadata": {
    "collapsed": false,
    "deletable": true,
    "editable": true
   },
   "outputs": [
    {
     "data": {
      "text/plain": [
       "(array([ 51.,  72.,  55.,  29.,  14.,  11.,  21.,  81.,  23.,  58.]),\n",
       " array([ 0.17659453,  0.25776251,  0.33893049,  0.42009847,  0.50126645,\n",
       "         0.58243443,  0.66360241,  0.74477039,  0.82593837,  0.90710635,\n",
       "         0.98827433]),\n",
       " <a list of 10 Patch objects>)"
      ]
     },
     "execution_count": 18,
     "metadata": {},
     "output_type": "execute_result"
    },
    {
     "data": {
      "image/png": "[encoded data removed]",
      "text/plain": [
       "<matplotlib.figure.Figure at 0x10d58b990>"
      ]
     },
     "metadata": {},
     "output_type": "display_data"
    }
   ],
   "source": [
    "plt.hist(model.predict_proba(test_x)[:,0])"
   ]
  },
  {
   "cell_type": "code",
   "execution_count": 19,
   "metadata": {
    "collapsed": false,
    "deletable": true,
    "editable": true
   },
   "outputs": [
    {
     "name": "stdout",
     "output_type": "stream",
     "text": [
      "             precision    recall  f1-score   support\n",
      "\n",
      "          0       0.75      0.69      0.72       229\n",
      "          1       0.65      0.72      0.68       186\n",
      "\n",
      "avg / total       0.71      0.70      0.70       415\n",
      "\n",
      "[[157  72]\n",
      " [ 52 134]]\n"
     ]
    }
   ],
   "source": [
    "predicted = model.predict(test_x)\n",
    "expected = test_y\n",
    "\n",
    "print(metrics.classification_report(expected, predicted))\n",
    "print(metrics.confusion_matrix(expected, predicted))"
   ]
  },
  {
   "cell_type": "code",
   "execution_count": null,
   "metadata": {
    "collapsed": false,
    "deletable": true,
    "editable": true
   },
   "outputs": [],
   "source": [
    "model.score(test_x, test_y)"
   ]
  },
  {
   "cell_type": "code",
   "execution_count": null,
   "metadata": {
    "collapsed": true,
    "deletable": true,
    "editable": true
   },
   "outputs": [],
   "source": []
  },
  {
   "cell_type": "code",
   "execution_count": null,
   "metadata": {
    "collapsed": true,
    "deletable": true,
    "editable": true
   },
   "outputs": [],
   "source": []
  },
  {
   "cell_type": "code",
   "execution_count": null,
   "metadata": {
    "collapsed": true,
    "deletable": true,
    "editable": true
   },
   "outputs": [],
   "source": [
    "# DO OUR FEATURES CORRELATE TO PERFORMANCE?"
   ]
  },
  {
   "cell_type": "code",
   "execution_count": 20,
   "metadata": {
    "collapsed": false,
    "deletable": true,
    "editable": true
   },
   "outputs": [],
   "source": [
    "probs = model.predict_proba(test_x)[:,1]\n",
    "pairs = zip(expected, probs)"
   ]
  },
  {
   "cell_type": "code",
   "execution_count": 21,
   "metadata": {
    "collapsed": false,
    "deletable": true,
    "editable": true,
    "scrolled": true
   },
   "outputs": [],
   "source": [
    "prob_bins = {}\n",
    "x = np.array([probs])\n",
    "bins = np.linspace(0, 1, num=101)\n",
    "\n",
    "inds = np.digitize(x, bins)\n",
    "\n",
    "for i, pair in enumerate(pairs):\n",
    "    key = str(inds[0][i] - 1)\n",
    "    \n",
    "    if key not in prob_bins:\n",
    "        #print(key)\n",
    "        prob_bins[key] = []\n",
    "        \n",
    "    prob_bins[key].append(pair)"
   ]
  },
  {
   "cell_type": "code",
   "execution_count": 22,
   "metadata": {
    "collapsed": false,
    "deletable": true,
    "editable": true,
    "scrolled": true
   },
   "outputs": [],
   "source": [
    "pct_hit = []\n",
    "for key in sorted(prob_bins.keys()):\n",
    "    hits = [sum(x) for x in zip(*prob_bins[str(key)])][0]\n",
    "    total = len(prob_bins[str(key)])\n",
    "    pct = float(hits)/float(total)\n",
    "    pct_hit.append(pct)\n",
    "\n",
    "#     print(\"Bin: \" + str(key))\n",
    "#     print(\"# players w/ hit: \" + str(hits))\n",
    "#     print(\"# player (total): \" + str(total))\n",
    "#     print(\"Pct. Hit: \" + str(float(hits)/float(total)))\n",
    "#     print(\"\")"
   ]
  },
  {
   "cell_type": "code",
   "execution_count": 23,
   "metadata": {
    "collapsed": false,
    "deletable": true,
    "editable": true
   },
   "outputs": [
    {
     "data": {
      "text/plain": [
       "[<matplotlib.lines.Line2D at 0x139ccd390>]"
      ]
     },
     "execution_count": 23,
     "metadata": {},
     "output_type": "execute_result"
    },
    {
     "data": {
      "image/png": "[encoded data removed]",
      "text/plain": [
       "<matplotlib.figure.Figure at 0x139ccd290>"
      ]
     },
     "metadata": {},
     "output_type": "display_data"
    }
   ],
   "source": [
    "plt.scatter(sorted([float(i)/100 for i in prob_bins.keys()]),pct_hit)\n",
    "plt.plot([0.35, 0.65], [0.35, 0.65], \"-\")"
   ]
  },
  {
   "cell_type": "code",
   "execution_count": null,
   "metadata": {
    "collapsed": false,
    "deletable": true,
    "editable": true
   },
   "outputs": [],
   "source": [
    "len(data.columns)"
   ]
  },
  {
   "cell_type": "code",
   "execution_count": null,
   "metadata": {
    "collapsed": false,
    "deletable": true,
    "editable": true
   },
   "outputs": [],
   "source": [
    "data.apply(lambda x: np.all(x==0))"
   ]
  },
  {
   "cell_type": "code",
   "execution_count": null,
   "metadata": {
    "collapsed": false,
    "deletable": true,
    "editable": true
   },
   "outputs": [],
   "source": [
    "len(data.columns)"
   ]
  },
  {
   "cell_type": "code",
   "execution_count": null,
   "metadata": {
    "collapsed": true,
    "deletable": true,
    "editable": true
   },
   "outputs": [],
   "source": []
  }
 ],
 "metadata": {
  "kernelspec": {
   "display_name": "Python 2",
   "language": "python",
   "name": "python2"
  },
  "language_info": {
   "codemirror_mode": {
    "name": "ipython",
    "version": 2
   },
   "file_extension": ".py",
   "mimetype": "text/x-python",
   "name": "python",
   "nbconvert_exporter": "python",
   "pygments_lexer": "ipython2",
   "version": "2.7.13"
  }
 },
 "nbformat": 4,
 "nbformat_minor": 0
}
