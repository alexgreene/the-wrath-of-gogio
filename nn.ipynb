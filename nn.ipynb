{
 "cells": [
  {
   "cell_type": "code",
   "execution_count": 2,
   "metadata": {
    "collapsed": true
   },
   "outputs": [],
   "source": [
    "from __future__ import division\n",
    "import tensorflow as tf\n",
    "import numpy as np \n",
    "import os\n",
    "import pandas as pd\n",
    "from gamescout_db import db, cur\n",
    "import time"
   ]
  },
  {
   "cell_type": "code",
   "execution_count": 3,
   "metadata": {
    "collapsed": false
   },
   "outputs": [],
   "source": [
    "data = pd.read_sql('select * from GamePrediction;', con=db).dropna()\n",
    "\n",
    "data['WPCT_DIFF'] = np.abs(data['HT_WPCT'] - data['AT_WPCT'])\n",
    "data['RUN_DIFF'] = np.abs(data['HT_RUN_DIFF'] - data['AT_RUN_DIFF'])\n",
    "data['HT_WIN_DIFF'] = data['HT_AVG_RS_WIN'] - data['HT_AVG_RA_WIN']\n",
    "data['HT_LOSS_DIFF'] = data['HT_AVG_RS_LOSS'] - data['HT_AVG_RA_LOSS']\n",
    "data['AT_WIN_DIFF'] = data['AT_AVG_RS_WIN'] - data['AT_AVG_RA_WIN']\n",
    "data['AT_LOSS_DIFF'] = data['AT_AVG_RS_LOSS'] - data['AT_AVG_RA_LOSS']\n",
    "data['P'] = np.abs(data['HT_P_AVG'] - data['AT_P_AVG'])\n",
    "data['C'] = np.abs(data['HT_C_AVG'] - data['AT_C_AVG'])\n",
    "data['1B'] = np.abs(data['HT_1B_AVG'] - data['AT_1B_AVG'])\n",
    "data['2B'] = np.abs(data['HT_2B_AVG'] - data['AT_2B_AVG'])\n",
    "data['3B'] = np.abs(data['HT_3B_AVG'] - data['AT_3B_AVG'])\n",
    "data['SS'] = np.abs(data['HT_SS_AVG'] - data['AT_SS_AVG'])\n",
    "data['LF'] = np.abs(data['HT_LF_AVG'] - data['AT_LF_AVG'])\n",
    "data['CF'] = np.abs(data['HT_CF_AVG'] - data['AT_CF_AVG'])\n",
    "data['RF'] = np.abs(data['HT_RF_AVG'] - data['AT_RF_AVG'])\n",
    "data[\"NOT_THREE_RUN_GAME\"] = [1 if x == 0 else 0 for x in data[\"THREE_RUN_GAME\"]]\n",
    "\n",
    "y = data[[\"THREE_RUN_GAME\", \"NOT_THREE_RUN_GAME\"]].astype(np.float32)\n",
    "x = data[['WPCT_DIFF', 'HP_ERA', 'AP_ERA', 'HT_WIN_DIFF', 'HT_LOSS_DIFF', 'AT_WIN_DIFF', 'AT_LOSS_DIFF',\n",
    "         'P', 'C', '1B', '2B', '3B', 'SS', 'LF', 'CF', 'RF']].astype(np.float32)"
   ]
  },
  {
   "cell_type": "code",
   "execution_count": 4,
   "metadata": {
    "collapsed": false
   },
   "outputs": [],
   "source": [
    "train_x = x[:8000].as_matrix()\n",
    "test_x = x[8001:].as_matrix()\n",
    "\n",
    "train_y = y[:8000].as_matrix()\n",
    "test_y = y[8001:].as_matrix()"
   ]
  },
  {
   "cell_type": "code",
   "execution_count": 5,
   "metadata": {
    "collapsed": false
   },
   "outputs": [],
   "source": [
    "numFeatures = train_x.shape[1]\n",
    "numLabels = train_y.shape[1]\n",
    "numEpochs = 27000\n",
    "learningRate = tf.train.exponential_decay(  learning_rate = .0008, \n",
    "                                            global_step = 1, \n",
    "                                            decay_steps = train_x.shape[0], \n",
    "                                            decay_rate = 0.95, \n",
    "                                            staircase = True)\n",
    "\n",
    "X = tf.placeholder(tf.float32, [None, numFeatures])\n",
    "yGold = tf.placeholder(tf.float32, [None, numLabels])"
   ]
  },
  {
   "cell_type": "code",
   "execution_count": 6,
   "metadata": {
    "collapsed": true
   },
   "outputs": [],
   "source": [
    "weights = tf.Variable(  tf.random_normal([numFeatures, numLabels], \n",
    "                            mean = 0, \n",
    "                            stddev = (np.sqrt(6 / numFeatures + numLabels + 1)), \n",
    "                            name = \"weights\"))\n",
    "\n",
    "bias = tf.Variable(  tf.random_normal([1, numLabels], \n",
    "                            mean = 0, \n",
    "                            stddev = (np.sqrt(6 / numFeatures + numLabels + 1)), \n",
    "                            name = \"bias\"))"
   ]
  },
  {
   "cell_type": "code",
   "execution_count": 7,
   "metadata": {
    "collapsed": false
   },
   "outputs": [],
   "source": [
    "init_OP = tf.global_variables_initializer()\n",
    "apply_weights_OP = tf.matmul(X, weights, name = \"apply_weights\")\n",
    "add_bias_OP = tf.add(apply_weights_OP, bias, name = \"add_bias\")\n",
    "activation_OP = tf.nn.sigmoid(add_bias_OP, name = \"activation\")\n",
    "cost_OP = tf.nn.softmax_cross_entropy_with_logits(activation_OP-yGold, labels=yGold, name=\"squared_error_cost\")\n",
    "training_OP = tf.train.GradientDescentOptimizer(learningRate).minimize(cost_OP)\n",
    "\n",
    "# Create a tensorflow session\n",
    "sess = tf.Session()\n",
    "\n",
    "# Initialize all tensorflow variables\n",
    "sess.run(init_OP)\n",
    "\n",
    "# argmax(activation_OP, 1) gives the label our model thought was most likely\n",
    "# argmax(yGold, 1) is the correct label\n",
    "correct_predictions_OP = tf.equal(activation_OP, yGold)\n",
    "# False is 0 and True is 1, what was our average?\n",
    "accuracy_OP = tf.reduce_mean(tf.cast(correct_predictions_OP, \"float\"))\n",
    "# Summary op for accuracy\n",
    "accuracy_summary_OP = tf.summary.scalar(\"accuracy\", accuracy_OP)"
   ]
  },
  {
   "cell_type": "code",
   "execution_count": 8,
   "metadata": {
    "collapsed": false
   },
   "outputs": [
    {
     "name": "stdout",
     "output_type": "stream",
     "text": [
      "[0.94052136]\n",
      "[0.48776859]\n",
      "[0.49146661]\n",
      "[0.49286222]\n",
      "[0.49435028]\n",
      "[0.49431306]\n"
     ]
    }
   ],
   "source": [
    "# Training epochs\n",
    "for i in range(numEpochs):\n",
    "    step = sess.run(training_OP, feed_dict={X: train_x, yGold: train_y})\n",
    "    \n",
    "    if i % 5000 == 0:\n",
    "        pred = sess.run(\n",
    "            [tf.reduce_mean(activation_OP)], \n",
    "            feed_dict={X: test_x, yGold: test_y})\n",
    "        \n",
    "        print(pred)\n",
    "        time.sleep(0.25)"
   ]
  },
  {
   "cell_type": "code",
   "execution_count": 1,
   "metadata": {
    "collapsed": false
   },
   "outputs": [
    {
     "ename": "NameError",
     "evalue": "name 'tf' is not defined",
     "output_type": "error",
     "traceback": [
      "\u001b[0;31m---------------------------------------------------------------------------\u001b[0m",
      "\u001b[0;31mNameError\u001b[0m                                 Traceback (most recent call last)",
      "\u001b[0;32m<ipython-input-1-1079ce241229>\u001b[0m in \u001b[0;36m<module>\u001b[0;34m()\u001b[0m\n\u001b[0;32m----> 1\u001b[0;31m \u001b[0mcorrect_prediction\u001b[0m \u001b[0;34m=\u001b[0m \u001b[0mtf\u001b[0m\u001b[0;34m.\u001b[0m\u001b[0mequal\u001b[0m\u001b[0;34m(\u001b[0m\u001b[0mactivation_OP\u001b[0m\u001b[0;34m,\u001b[0m \u001b[0myGold\u001b[0m\u001b[0;34m)\u001b[0m\u001b[0;34m\u001b[0m\u001b[0m\n\u001b[0m\u001b[1;32m      2\u001b[0m \u001b[0maccuracy\u001b[0m \u001b[0;34m=\u001b[0m \u001b[0mtf\u001b[0m\u001b[0;34m.\u001b[0m\u001b[0mreduce_mean\u001b[0m\u001b[0;34m(\u001b[0m\u001b[0mtf\u001b[0m\u001b[0;34m.\u001b[0m\u001b[0mcast\u001b[0m\u001b[0;34m(\u001b[0m\u001b[0mcorrect_prediction\u001b[0m\u001b[0;34m,\u001b[0m \u001b[0mtf\u001b[0m\u001b[0;34m.\u001b[0m\u001b[0mfloat32\u001b[0m\u001b[0;34m)\u001b[0m\u001b[0;34m)\u001b[0m\u001b[0;34m\u001b[0m\u001b[0m\n\u001b[1;32m      3\u001b[0m \u001b[0;32mprint\u001b[0m\u001b[0;34m(\u001b[0m\u001b[0msess\u001b[0m\u001b[0;34m.\u001b[0m\u001b[0mrun\u001b[0m\u001b[0;34m(\u001b[0m\u001b[0maccuracy\u001b[0m\u001b[0;34m,\u001b[0m \u001b[0mfeed_dict\u001b[0m\u001b[0;34m=\u001b[0m\u001b[0;34m{\u001b[0m\u001b[0mX\u001b[0m\u001b[0;34m:\u001b[0m \u001b[0mtest_x\u001b[0m\u001b[0;34m,\u001b[0m \u001b[0myGold\u001b[0m\u001b[0;34m:\u001b[0m \u001b[0mtest_y\u001b[0m\u001b[0;34m}\u001b[0m\u001b[0;34m)\u001b[0m\u001b[0;34m)\u001b[0m\u001b[0;34m\u001b[0m\u001b[0m\n",
      "\u001b[0;31mNameError\u001b[0m: name 'tf' is not defined"
     ]
    }
   ],
   "source": [
    "correct_prediction = tf.equal(activation_OP, yGold)\n",
    "accuracy = tf.reduce_mean(tf.cast(correct_prediction, tf.float32))\n",
    "print(sess.run(accuracy, feed_dict={X: test_x, yGold: test_y}))"
   ]
  },
  {
   "cell_type": "code",
   "execution_count": null,
   "metadata": {
    "collapsed": false
   },
   "outputs": [],
   "source": []
  },
  {
   "cell_type": "code",
   "execution_count": null,
   "metadata": {
    "collapsed": true
   },
   "outputs": [],
   "source": []
  }
 ],
 "metadata": {
  "kernelspec": {
   "display_name": "Python 2",
   "language": "python",
   "name": "python2"
  },
  "language_info": {
   "codemirror_mode": {
    "name": "ipython",
    "version": 2
   },
   "file_extension": ".py",
   "mimetype": "text/x-python",
   "name": "python",
   "nbconvert_exporter": "python",
   "pygments_lexer": "ipython2",
   "version": "2.7.11"
  }
 },
 "nbformat": 4,
 "nbformat_minor": 0
}
