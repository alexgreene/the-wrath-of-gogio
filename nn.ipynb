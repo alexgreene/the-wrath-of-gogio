{
 "cells": [
  {
   "cell_type": "code",
   "execution_count": 1,
   "metadata": {
    "collapsed": true,
    "deletable": true,
    "editable": true
   },
   "outputs": [],
   "source": [
    "from __future__ import division\n",
    "import tensorflow as tf\n",
    "import numpy as np \n",
    "import os\n",
    "import pandas as pd\n",
    "from gamescout_db import db, cur\n",
    "import time"
   ]
  },
  {
   "cell_type": "code",
   "execution_count": 2,
   "metadata": {
    "collapsed": false,
    "deletable": true,
    "editable": true
   },
   "outputs": [],
   "source": [
    "data = pd.read_sql('select * from BatterStats;', con=db).dropna()\n",
    "\n",
    "data[\"GOT_HIT\"] = [1 if x > 0 else 0 for x in data[\"HITS\"]]\n",
    "data[\"NOT_HIT\"] = [1 if x == 0 else 1 for x in data[\"HITS\"]]\n",
    "\n",
    "y = data[[\"GOT_HIT\", \"NOT_HIT\"]].astype(np.float32)\n",
    "x = data[['1_AGO_AVG', '2_AGO_AVG', '3_AGO_AVG', '4_AGO_AVG', '5_AGO_AVG']].astype(np.float32)"
   ]
  },
  {
   "cell_type": "code",
   "execution_count": 3,
   "metadata": {
    "collapsed": false,
    "deletable": true,
    "editable": true
   },
   "outputs": [],
   "source": [
    "train_x = x[:60000].as_matrix()\n",
    "test_x = x[60001:77750].as_matrix()\n",
    "\n",
    "train_y = y[:60000].as_matrix()\n",
    "test_y = y[60001:77750].as_matrix()"
   ]
  },
  {
   "cell_type": "code",
   "execution_count": 4,
   "metadata": {
    "collapsed": false,
    "deletable": true,
    "editable": true
   },
   "outputs": [],
   "source": [
    "numFeatures = train_x.shape[1]\n",
    "numLabels = train_y.shape[1]\n",
    "numEpochs = 27000\n",
    "learningRate = tf.train.exponential_decay(  learning_rate = .0008, \n",
    "                                            global_step = 1, \n",
    "                                            decay_steps = train_x.shape[0], \n",
    "                                            decay_rate = 0.95, \n",
    "                                            staircase = True)\n",
    "\n",
    "X = tf.placeholder(tf.float32, [None, numFeatures])\n",
    "yGold = tf.placeholder(tf.float32, [None, numLabels])"
   ]
  },
  {
   "cell_type": "code",
   "execution_count": 5,
   "metadata": {
    "collapsed": true,
    "deletable": true,
    "editable": true
   },
   "outputs": [],
   "source": [
    "weights = tf.Variable(  tf.random_normal([numFeatures, numLabels], \n",
    "                            mean = 0, \n",
    "                            stddev = (np.sqrt(6 / numFeatures + numLabels + 1)), \n",
    "                            name = \"weights\"))\n",
    "\n",
    "bias = tf.Variable(  tf.random_normal([1, numLabels], \n",
    "                            mean = 0, \n",
    "                            stddev = (np.sqrt(6 / numFeatures + numLabels + 1)), \n",
    "                            name = \"bias\"))"
   ]
  },
  {
   "cell_type": "code",
   "execution_count": 6,
   "metadata": {
    "collapsed": false,
    "deletable": true,
    "editable": true
   },
   "outputs": [],
   "source": [
    "init_OP = tf.global_variables_initializer()\n",
    "apply_weights_OP = tf.matmul(X, weights, name = \"apply_weights\")\n",
    "add_bias_OP = tf.add(apply_weights_OP, bias, name = \"add_bias\")\n",
    "activation_OP = tf.nn.sigmoid(add_bias_OP, name = \"activation\")\n",
    "cost_OP = tf.nn.softmax_cross_entropy_with_logits(activation_OP-yGold, labels=yGold, name=\"squared_error_cost\")\n",
    "training_OP = tf.train.GradientDescentOptimizer(learningRate).minimize(cost_OP)\n",
    "\n",
    "# Create a tensorflow session\n",
    "sess = tf.Session()\n",
    "\n",
    "# Initialize all tensorflow variables\n",
    "sess.run(init_OP)\n",
    "\n",
    "# argmax(activation_OP, 1) gives the label our model thought was most likely\n",
    "# argmax(yGold, 1) is the correct label\n",
    "correct_predictions_OP = tf.equal(activation_OP, yGold)\n",
    "# False is 0 and True is 1, what was our average?\n",
    "accuracy_OP = tf.reduce_mean(tf.cast(correct_predictions_OP, \"float\"))\n",
    "# Summary op for accuracy\n",
    "accuracy_summary_OP = tf.summary.scalar(\"accuracy\", accuracy_OP)"
   ]
  },
  {
   "cell_type": "code",
   "execution_count": 7,
   "metadata": {
    "collapsed": false,
    "deletable": true,
    "editable": true
   },
   "outputs": [
    {
     "name": "stdout",
     "output_type": "stream",
     "text": [
      "[nan]\n",
      "[nan]\n",
      "[nan]\n",
      "[nan]\n",
      "[nan]\n",
      "[nan]\n"
     ]
    }
   ],
   "source": [
    "# Training epochs\n",
    "for i in range(numEpochs):\n",
    "    step = sess.run(training_OP, feed_dict={X: train_x, yGold: train_y})\n",
    "    \n",
    "    if i % 5000 == 0:\n",
    "        pred = sess.run(\n",
    "            [tf.reduce_mean(activation_OP)], \n",
    "            feed_dict={X: test_x, yGold: test_y})\n",
    "        \n",
    "        print(pred)\n",
    "        time.sleep(0.25)"
   ]
  },
  {
   "cell_type": "code",
   "execution_count": 9,
   "metadata": {
    "collapsed": false,
    "deletable": true,
    "editable": true
   },
   "outputs": [
    {
     "name": "stdout",
     "output_type": "stream",
     "text": [
      "0.140181\n"
     ]
    }
   ],
   "source": [
    "correct_prediction = tf.equal(activation_OP, yGold)\n",
    "accuracy = tf.reduce_mean(tf.cast(correct_prediction, tf.float32))\n",
    "print(sess.run(accuracy, feed_dict={X: test_x, yGold: test_y}))"
   ]
  },
  {
   "cell_type": "code",
   "execution_count": null,
   "metadata": {
    "collapsed": false,
    "deletable": true,
    "editable": true
   },
   "outputs": [],
   "source": []
  },
  {
   "cell_type": "code",
   "execution_count": null,
   "metadata": {
    "collapsed": true,
    "deletable": true,
    "editable": true
   },
   "outputs": [],
   "source": []
  }
 ],
 "metadata": {
  "kernelspec": {
   "display_name": "Python 2",
   "language": "python",
   "name": "python2"
  },
  "language_info": {
   "codemirror_mode": {
    "name": "ipython",
    "version": 2
   },
   "file_extension": ".py",
   "mimetype": "text/x-python",
   "name": "python",
   "nbconvert_exporter": "python",
   "pygments_lexer": "ipython2",
   "version": "2.7.13"
  }
 },
 "nbformat": 4,
 "nbformat_minor": 0
}
